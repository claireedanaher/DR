{
 "cells": [
  {
   "cell_type": "markdown",
   "metadata": {},
   "source": [
    "# LIBRARIES"
   ]
  },
  {
   "cell_type": "code",
   "execution_count": 1,
   "metadata": {},
   "outputs": [],
   "source": [
    "## import torch\n",
    "import torchvision\n",
    "import torch\n",
    "import torchvision.datasets as datasets\n",
    "import torch.nn as nn\n",
    "import matplotlib.pyplot as plt\n",
    "from mpl_toolkits.mplot3d import Axes3D\n",
    "from matplotlib import cm\n",
    "import numpy as np\n",
    "from torch.nn import functional as F\n",
    "import time\n",
    "import pandas as pd \n",
    "from random import shuffle"
   ]
  },
  {
   "cell_type": "markdown",
   "metadata": {},
   "source": [
    "# Pull in MNIST Data"
   ]
  },
  {
   "cell_type": "markdown",
   "metadata": {},
   "source": [
    "## MNIST Data Label Generation"
   ]
  },
  {
   "cell_type": "code",
   "execution_count": 2,
   "metadata": {},
   "outputs": [],
   "source": [
    "def gen_mnist():\n",
    "    from sklearn.datasets.base import get_data_home \n",
    "    from sklearn.datasets import fetch_mldata\n",
    "    print (get_data_home())\n",
    "    mnist_raw = fetch_mldata('MNIST original', data_home=get_data_home())\n",
    "    mnist=mnistData(mnist_raw.target,mnist_raw.data) \n",
    "    cnt=len(mnist.label)\n",
    "    labelset=torch.tensor(mnist.label)\n",
    "    labelset.shape\n",
    "    dataset=torch.tensor(mnist.x,dtype=torch.float)\n",
    "    number_columns=dataset.shape[1]\n",
    "    dataset = dataset.view(-1,number_columns).float()/256.0\n",
    "    print(dataset.shape)\n",
    "    dataset=dataset.view(cnt,28,28)\n",
    "    return(labelset, dataset)"
   ]
  },
  {
   "cell_type": "markdown",
   "metadata": {},
   "source": [
    "# Classes"
   ]
  },
  {
   "cell_type": "markdown",
   "metadata": {},
   "source": [
    "## Data Loaders"
   ]
  },
  {
   "cell_type": "code",
   "execution_count": 3,
   "metadata": {},
   "outputs": [],
   "source": [
    "## CUSTOM DATA LOADER\n",
    "from torch.utils.data.dataset import Dataset\n",
    "class rgenData(Dataset):\n",
    "    def __init__(self, randEnc, x, transform=None):\n",
    "        self.randEnc= randEnc\n",
    "        self.x=x \n",
    "    def __len__(self):\n",
    "        z=self.x.shape[0]\n",
    "        return  z\n",
    "    def __getitem__(self, idx):\n",
    "        randEnc=self.randEnc[idx]\n",
    "        x=self.x[idx]\n",
    "        return randEnc, x\n",
    "\n",
    "## CUSTOM DATA LOADER\n",
    "from torch.utils.data.dataset import Dataset\n",
    "class mnistData(Dataset):\n",
    "    def __init__(self, label, x, transform=None):\n",
    "        self.label= label\n",
    "        self.x=x \n",
    "    def __len__(self):\n",
    "        z=self.x.shape[0]\n",
    "        return  z\n",
    "    def __getitem__(self, idx):\n",
    "        label=self.label[idx]\n",
    "        x=self.x[idx]\n",
    "        return x"
   ]
  },
  {
   "cell_type": "markdown",
   "metadata": {
    "heading_collapsed": true
   },
   "source": [
    "## Decoder 1L"
   ]
  },
  {
   "cell_type": "code",
   "execution_count": 4,
   "metadata": {
    "hidden": true
   },
   "outputs": [],
   "source": [
    "#############################################################################################################\n",
    "###\n",
    "# PYTORCH DOCUMENTATION EXAMPLE\n",
    "# TUTORIAL USED: #https://github.com/MorvanZhou/PyTorch-Tutorial/blob/master/tutorial-contents/404_autoencoder.py\n",
    "###\n",
    "#### HYPER PARAMS\n",
    "LR = 0.0005         # learning rate\n",
    "N_TEST_IMG = 5\n",
    "\n",
    "class Decoder_1L(nn.Module):\n",
    "    def __init__(self):\n",
    "        super(Decoder_1L, self).__init__()\n",
    "        ###########################\n",
    "        #What is this used for?\n",
    "        #self.map = {}\n",
    "        ###########################\n",
    "        self.fc4 = nn.Linear(2, 784)\n",
    "\n",
    "        \n",
    "    def decode(self, z):\n",
    "        out=self.fc4(z)\n",
    "        return torch.sigmoid(out)\n",
    "    \n",
    "    def forward(self, x):\n",
    "        encoded = x\n",
    "        #decoded= x\n",
    "        decoded = self.decode(encoded)\n",
    "        return encoded, decoded\n",
    "    \n",
    "    \n",
    "### INITALIZE MODEL PARAMS\n",
    "model_1L = Decoder_1L()\n",
    "optimizer = torch.optim.Adam(model_1L.parameters(), lr=LR)"
   ]
  },
  {
   "cell_type": "markdown",
   "metadata": {
    "heading_collapsed": true
   },
   "source": [
    "## Decoder 2L"
   ]
  },
  {
   "cell_type": "code",
   "execution_count": 5,
   "metadata": {
    "hidden": true
   },
   "outputs": [],
   "source": [
    "#############################################################################################################\n",
    "###\n",
    "# PYTORCH DOCUMENTATION EXAMPLE\n",
    "# TUTORIAL USED: #https://github.com/MorvanZhou/PyTorch-Tutorial/blob/master/tutorial-contents/404_autoencoder.py\n",
    "###\n",
    "#### HYPER PARAMS\n",
    "LR = 0.0005         # learning rate\n",
    "N_TEST_IMG = 5\n",
    "\n",
    "class Decoder_2L(nn.Module):\n",
    "    def __init__(self):\n",
    "        super(Decoder_2L, self).__init__()\n",
    "        ###########################\n",
    "        #What is this used for?\n",
    "        #self.map = {}\n",
    "        ###########################\n",
    "        self.fc4 = nn.Linear(2, 50)\n",
    "        self.sig = nn.Sigmoid()\n",
    "        self.fc5 = nn.Linear(50, 784)\n",
    "\n",
    "        \n",
    "    def decode(self, z):\n",
    "        out=self.fc4(z)\n",
    "        out2=self.sig(out)\n",
    "        out3=self.fc5(out2)\n",
    "        out4=self.sig(out3)\n",
    "        return out4\n",
    "    \n",
    "    def forward(self, x):\n",
    "        encoded = x\n",
    "        #decoded= x\n",
    "        decoded = self.decode(encoded)\n",
    "        return encoded, decoded\n",
    "    \n",
    "    \n",
    "### INITALIZE MODEL PARAMS\n",
    "model_2L = Decoder_2L()\n",
    "optimizer_2L = torch.optim.Adam(model_2L.parameters(), lr=LR)"
   ]
  },
  {
   "cell_type": "markdown",
   "metadata": {
    "heading_collapsed": true
   },
   "source": [
    "## Decoder 4L"
   ]
  },
  {
   "cell_type": "code",
   "execution_count": 6,
   "metadata": {
    "hidden": true
   },
   "outputs": [],
   "source": [
    "#############################################################################################################\n",
    "###\n",
    "# PYTORCH DOCUMENTATION EXAMPLE\n",
    "# TUTORIAL USED: #https://github.com/MorvanZhou/PyTorch-Tutorial/blob/master/tutorial-contents/404_autoencoder.py\n",
    "###\n",
    "#### HYPER PARAMS\n",
    "LR = 0.0005         # learning rate\n",
    "N_TEST_IMG = 5\n",
    "\n",
    "class Decoder_4L(nn.Module):\n",
    "    def __init__(self):\n",
    "        super(Decoder_4L, self).__init__()\n",
    "        ###########################\n",
    "        #What is this used for?\n",
    "        #self.map = {}\n",
    "        ###########################\n",
    "        self.fc4 = nn.Linear(2, 20)\n",
    "        self.sig = nn.Sigmoid()\n",
    "        self.fc5 = nn.Linear(20, 100)\n",
    "        self.fc6 = nn.Linear(100, 300)\n",
    "        self.fc7 = nn.Linear(300, 784)\n",
    "\n",
    "        \n",
    "    def decode(self, z):\n",
    "        out=self.fc4(z)\n",
    "        out2=self.sig(out)\n",
    "        out3=self.fc5(out2)\n",
    "        out4=self.sig(out3)\n",
    "        out5=self.fc6(out4)\n",
    "        out6=self.sig(out5)\n",
    "        out7=self.fc7(out6)\n",
    "        out8=self.sig(out7)\n",
    "        return out8\n",
    "    \n",
    "    def forward(self, x):\n",
    "        encoded = x\n",
    "        #decoded= x\n",
    "        decoded = self.decode(encoded)\n",
    "        return encoded, decoded\n",
    "    \n",
    "    \n",
    "### INITALIZE MODEL PARAMS\n",
    "model_4L = Decoder_4L()\n",
    "optimizer_4L = torch.optim.Adam(model_4L.parameters(), lr=LR)"
   ]
  },
  {
   "cell_type": "markdown",
   "metadata": {
    "heading_collapsed": true
   },
   "source": [
    "## Decoder 1L6D"
   ]
  },
  {
   "cell_type": "code",
   "execution_count": 7,
   "metadata": {
    "hidden": true
   },
   "outputs": [],
   "source": [
    "#############################################################################################################\n",
    "###\n",
    "# PYTORCH DOCUMENTATION EXAMPLE\n",
    "# TUTORIAL USED: #https://github.com/MorvanZhou/PyTorch-Tutorial/blob/master/tutorial-contents/404_autoencoder.py\n",
    "###\n",
    "#### HYPER PARAMS\n",
    "LR = 0.0005         # learning rate\n",
    "N_TEST_IMG = 5\n",
    "\n",
    "class Decoder_1L6D(nn.Module):\n",
    "    def __init__(self):\n",
    "        super(Decoder_1L6D, self).__init__()\n",
    "        ###########################\n",
    "        #What is this used for?\n",
    "        #self.map = {}\n",
    "        ###########################\n",
    "        self.fc4 = nn.Linear(6, 784)\n",
    "\n",
    "        \n",
    "    def decode(self, z):\n",
    "        out=self.fc4(z)\n",
    "        return torch.sigmoid(out)\n",
    "    \n",
    "    def forward(self, x):\n",
    "        encoded = x\n",
    "        #decoded= x\n",
    "        decoded = self.decode(encoded)\n",
    "        return encoded, decoded\n",
    "    \n",
    "    \n",
    "### INITALIZE MODEL PARAMS\n",
    "model_1L6D = Decoder_1L6D()\n",
    "optimizer = torch.optim.Adam(model_1L6D.parameters(), lr=LR)"
   ]
  },
  {
   "cell_type": "markdown",
   "metadata": {
    "heading_collapsed": true
   },
   "source": [
    "## AE_1L6D"
   ]
  },
  {
   "cell_type": "code",
   "execution_count": 8,
   "metadata": {
    "hidden": true
   },
   "outputs": [],
   "source": [
    "#############################################################################################################\n",
    "###\n",
    "# PYTORCH DOCUMENTATION EXAMPLE\n",
    "# TUTORIAL USED: #https://github.com/MorvanZhou/PyTorch-Tutorial/blob/master/tutorial-contents/404_autoencoder.py\n",
    "###\n",
    "#### HYPER PARAMS\n",
    "LR = 0.0005         # learning rate\n",
    "\n",
    "class AE_1L6D(nn.Module):\n",
    "    def __init__(self):\n",
    "        super(AE_1L6D, self).__init__()\n",
    "        ###########################\n",
    "        #What is this used for?\n",
    "        #self.map = {}\n",
    "        ###########################\n",
    "        self.fw4 = nn.Linear(784, 6)\n",
    "        self.bc4 = nn.Linear(6, 784)\n",
    "        \n",
    "    def encode(self, z):\n",
    "        enc=self.fw4(z)\n",
    "        return torch.sigmoid(enc)\n",
    "        \n",
    "    \n",
    "    def decode(self, z):\n",
    "        out=self.bc4(z)\n",
    "        return torch.sigmoid(out)\n",
    "    \n",
    "\n",
    "    def forward(self, x):\n",
    "        encoded = self.encode(x)\n",
    "        decoded = self.decode(encoded)\n",
    "        return encoded, decoded\n",
    "### INITALIZE MODEL PARAMS\n",
    "model_AE1 = AE_1L6D()\n",
    "optimizer = torch.optim.Adam(model_AE1.parameters(), lr=LR)"
   ]
  },
  {
   "cell_type": "markdown",
   "metadata": {
    "heading_collapsed": true
   },
   "source": [
    "## AE_2L2D"
   ]
  },
  {
   "cell_type": "code",
   "execution_count": 9,
   "metadata": {
    "hidden": true
   },
   "outputs": [],
   "source": [
    "#############################################################################################################\n",
    "###\n",
    "# PYTORCH DOCUMENTATION EXAMPLE\n",
    "# TUTORIAL USED: #https://github.com/MorvanZhou/PyTorch-Tutorial/blob/master/tutorial-contents/404_autoencoder.py\n",
    "###\n",
    "#### HYPER PARAMS\n",
    "LR = 0.0005         # learning rate\n",
    "\n",
    "class AE_2L2D(nn.Module):\n",
    "    def __init__(self):\n",
    "        super(AE_2L2D, self).__init__()\n",
    "        ###########################\n",
    "        #What is this used for?\n",
    "        #self.map = {}\n",
    "        ###########################\n",
    "        self.bc4 = nn.Linear(2, 50)\n",
    "        self.sig = nn.Sigmoid()\n",
    "        self.bc5 = nn.Linear(50, 784)\n",
    "        self.fw4 = nn.Linear(784, 50)\n",
    "        self.fw5 = nn.Linear(50, 2)\n",
    "        \n",
    "    def encode(self, z):\n",
    "        enc=self.fw4(z)\n",
    "        enc2=self.sig(enc)\n",
    "        enc3= self.fw5(enc2)\n",
    "        enc4=self.sig(enc3)   \n",
    "        return enc4\n",
    "        \n",
    "    \n",
    "    def decode(self, z):\n",
    "        out=self.bc4(z)\n",
    "        out2=self.sig(out)\n",
    "        out3=self.bc5(out2)\n",
    "        out4=self.sig(out3)\n",
    "        return out4\n",
    "    \n",
    "\n",
    "    def forward(self, x):\n",
    "        encoded = self.encode(x)\n",
    "        decoded = self.decode(encoded)\n",
    "        return encoded, decoded\n",
    "### INITALIZE MODEL PARAMS\n",
    "model_AE2 =  AE_2L2D()\n",
    "optimizer = torch.optim.Adam(model_AE2.parameters(), lr=LR)"
   ]
  },
  {
   "cell_type": "markdown",
   "metadata": {
    "heading_collapsed": true
   },
   "source": [
    "## AE 1L2D"
   ]
  },
  {
   "cell_type": "code",
   "execution_count": 10,
   "metadata": {
    "hidden": true
   },
   "outputs": [],
   "source": [
    "#############################################################################################################\n",
    "###\n",
    "# PYTORCH DOCUMENTATION EXAMPLE\n",
    "# TUTORIAL USED: #https://github.com/MorvanZhou/PyTorch-Tutorial/blob/master/tutorial-contents/404_autoencoder.py\n",
    "###\n",
    "#### HYPER PARAMS\n",
    "LR = 0.0005         # learning rate\n",
    "\n",
    "class AE_1L2D(nn.Module):\n",
    "    def __init__(self):\n",
    "        super(AE_1L2D, self).__init__()\n",
    "        ###########################\n",
    "        #What is this used for?\n",
    "        #self.map = {}\n",
    "        ###########################\n",
    "        self.fw4 = nn.Linear(784, 2)\n",
    "        self.bc4 = nn.Linear(2, 784)\n",
    "        \n",
    "    def encode(self, z):\n",
    "        enc=self.fw4(z)\n",
    "        return torch.sigmoid(enc)\n",
    "        \n",
    "    \n",
    "    def decode(self, z):\n",
    "        out=self.bc4(z)\n",
    "        return torch.sigmoid(out)\n",
    "    \n",
    "\n",
    "    def forward(self, x):\n",
    "        encoded = self.encode(x)\n",
    "        decoded = self.decode(encoded)\n",
    "        return encoded, decoded\n",
    "### INITALIZE MODEL PARAMS\n",
    "model_AE = AE_1L2D()\n",
    "optimizer = torch.optim.Adam(model_AE.parameters(), lr=LR)"
   ]
  },
  {
   "cell_type": "markdown",
   "metadata": {
    "heading_collapsed": true
   },
   "source": [
    "## AE 4L2D"
   ]
  },
  {
   "cell_type": "code",
   "execution_count": 11,
   "metadata": {
    "hidden": true
   },
   "outputs": [],
   "source": [
    "#############################################################################################################\n",
    "###\n",
    "# PYTORCH DOCUMENTATION EXAMPLE\n",
    "# TUTORIAL USED: #https://github.com/MorvanZhou/PyTorch-Tutorial/blob/master/tutorial-contents/404_autoencoder.py\n",
    "###\n",
    "#### HYPER PARAMS\n",
    "LR = 0.0005         # learning rate\n",
    "\n",
    "class AE_4L2D(nn.Module):\n",
    "    def __init__(self):\n",
    "        super(AE_4L2D, self).__init__()\n",
    "        ###########################\n",
    "        #What is this used for?\n",
    "        #self.map = {}\n",
    "        ###########################\n",
    "        self.fw4 = nn.Linear(784, 300)\n",
    "        self.fw5 = nn.Linear(300, 100)\n",
    "        self.fw6 = nn.Linear(100, 20)\n",
    "        self.fw7 = nn.Linear(20, 2)\n",
    "        self.sig = nn.Sigmoid()\n",
    "        self.bc4 = nn.Linear(2, 20)        \n",
    "        self.bc5 = nn.Linear(20, 100)\n",
    "        self.bc6 = nn.Linear(100, 300)\n",
    "        self.bc7 = nn.Linear(300, 784)\n",
    "\n",
    "\n",
    "    def encode(self, z):\n",
    "        enc=self.fw4(z)\n",
    "        enc2=self.sig(enc)\n",
    "        enc3= self.fw5(enc2)\n",
    "        enc4=self.sig(enc3) \n",
    "        enc5= self.fw6(enc4)\n",
    "        enc6=self.sig(enc5)  \n",
    "        enc7= self.fw7(enc6)\n",
    "        enc8=self.sig(enc7)  \n",
    "        return enc8\n",
    "        \n",
    "    \n",
    "    def decode(self, z):\n",
    "        out=self.bc4(z)\n",
    "        out2=self.sig(out)\n",
    "        out3= self.bc5(out2)\n",
    "        out4=self.sig(out3) \n",
    "        out5= self.bc6(out4)\n",
    "        out6=self.sig(out5)  \n",
    "        out7= self.bc7(out6)\n",
    "        out8=self.sig(out7)  \n",
    "        return out8\n",
    "    \n",
    "\n",
    "    def forward(self, x):\n",
    "        encoded = self.encode(x)\n",
    "        decoded = self.decode(encoded)\n",
    "        return encoded, decoded\n",
    "### INITALIZE MODEL PARAMS\n",
    "model_AE4L2D =  AE_4L2D()\n",
    "optimizer = torch.optim.Adam(model_AE4L2D.parameters(), lr=LR)"
   ]
  },
  {
   "cell_type": "markdown",
   "metadata": {},
   "source": [
    "# Functions"
   ]
  },
  {
   "cell_type": "code",
   "execution_count": 12,
   "metadata": {},
   "outputs": [],
   "source": [
    "def loss_function(recon_x, x):\n",
    "    BCE = F.binary_cross_entropy(recon_x, x, reduction='sum')\n",
    "    return(BCE)\n",
    "def decode_loader(data, batch_size):\n",
    "    perm = torch.randperm(data.size(0))\n",
    "    idx = perm[:batch_size]\n",
    "    batch=data[idx]\n",
    "    return(batch)\n",
    "def export_tensor(out_tensor,filename):\n",
    "    arr = out_tensor.data.cpu().numpy()\n",
    "    # write CSV\n",
    "    np.savetxt(filename, arr)\n",
    "def import_tensor(filename):\n",
    "    from numpy import genfromtxt\n",
    "    test = np.genfromtxt(filename)\n",
    "    import_tensor=torch.tensor(test, dtype=torch.float)\n",
    "    return(import_tensor)\n",
    "def import_saved_output(filenames,loss_filename):\n",
    "    imp_data=[]\n",
    "    for i in range(0,len(filenames)):\n",
    "        out_file='output/'+filenames[i]+'.csv'\n",
    "        test=import_tensor(out_file)\n",
    "        imp_data.append(test)\n",
    "    test_lossvec = np.genfromtxt(loss_filename)\n",
    "    return(imp_data, test_lossvec)"
   ]
  },
  {
   "cell_type": "markdown",
   "metadata": {
    "heading_collapsed": true
   },
   "source": [
    "# Data Generation"
   ]
  },
  {
   "cell_type": "markdown",
   "metadata": {
    "hidden": true
   },
   "source": [
    "## Pull Indices and Labels"
   ]
  },
  {
   "cell_type": "code",
   "execution_count": 13,
   "metadata": {
    "hidden": true
   },
   "outputs": [],
   "source": [
    "def get_images(img_return_cnt,labels_raw, data_raw):\n",
    "    found=False\n",
    "    img_agg_cnt=np.zeros(10)\n",
    "    img_return_cnt=np.array(img_return_cnt)\n",
    "    i=0\n",
    "    labels=[]\n",
    "    indices=[]\n",
    "    while found==False and 70000>i:\n",
    "        target=labels_raw[i]\n",
    "        index=int(labels_raw[i].data)\n",
    "        if np.dot(np.subtract(img_agg_cnt, img_return_cnt),np.ones(10))==0:\n",
    "            found=True\n",
    "        else:\n",
    "            if img_agg_cnt[index] < img_return_cnt[index]:\n",
    "                img_agg_cnt[index]+=1\n",
    "                indices.append(i)\n",
    "        i+=1\n",
    "    return(indices)"
   ]
  },
  {
   "cell_type": "markdown",
   "metadata": {
    "hidden": true
   },
   "source": [
    "## Gen Random Embeddings"
   ]
  },
  {
   "cell_type": "code",
   "execution_count": 14,
   "metadata": {
    "hidden": true
   },
   "outputs": [],
   "source": [
    "def gen_rand_data(img_return_cnt,labels_raw, data_raw,Rdim):\n",
    "    #num_img_type= scalar= equal to the number of image categories\n",
    "    #img_return_cnt = array = index of array is the image type and value is sample size for image type\n",
    "    #example_data = data loader data in form: batch_idx, (example_data, example_targets) \n",
    "    #max_i= data size\n",
    "    #Rdim= vector dimension for rand generation\n",
    "    #img_return_cnt = array = index of array is the image type and value is sample size for image type\n",
    "    found=False\n",
    "    img_agg_cnt=np.zeros(10)\n",
    "    img_return_cnt=np.array(img_return_cnt)\n",
    "    i=0\n",
    "    first=True\n",
    "    labels=[]\n",
    "    indices=[]\n",
    "    while found==False and 70000>i:\n",
    "        target=labels_raw[i]\n",
    "        index=int(labels_raw[i].data)\n",
    "        if np.dot(np.subtract(img_agg_cnt, img_return_cnt),np.ones(10))==0:\n",
    "            found=True\n",
    "        else:\n",
    "            if img_agg_cnt[index] < img_return_cnt[index]:\n",
    "                labels.append(target.item())\n",
    "                datum=data_raw[i].view(-1,28*28)\n",
    "                img_agg_cnt[index]+=1\n",
    "                indices.append(i)\n",
    "                if first==True:\n",
    "                    x_tensor=datum\n",
    "                    randEnc_tensor=torch.rand(1, Rdim)\n",
    "                    first=False \n",
    "                else:\n",
    "                    omega=torch.rand(1, Rdim)\n",
    "                    x_tensor=torch.cat((x_tensor,datum),0)\n",
    "                    randEnc_tensor=torch.cat((randEnc_tensor,omega),0)\n",
    "        i+=1\n",
    "    data = rgenData(randEnc_tensor, x_tensor)\n",
    "    return(data, labels, indices)"
   ]
  },
  {
   "cell_type": "markdown",
   "metadata": {
    "hidden": true
   },
   "source": [
    "## Create RandEmbedding with Image Index"
   ]
  },
  {
   "cell_type": "code",
   "execution_count": 15,
   "metadata": {
    "hidden": true
   },
   "outputs": [],
   "source": [
    "def get_randenc_byindex(indices, labels_raw, data_raw,Rdim):\n",
    "    #num_img_type= scalar= equal to the number of image categories\n",
    "    #img_return_cnt = array = index of array is the image type and value is sample size for image type\n",
    "    #example_data = data loader data in form: batch_idx, (example_data, example_targets) \n",
    "    #max_i= data size\n",
    "    #Rdim= vector dimension for rand generation\n",
    "    #img_return_cnt = array = index of array is the image type and value is sample size for image type\n",
    "    i=0\n",
    "    cnt=len(indices)\n",
    "    labels=[]\n",
    "    datum=data_raw[indices[0]].view(-1,28*28)\n",
    "    x_tensor=datum\n",
    "    randEnc_tensor=torch.rand(1, Rdim)\n",
    "    labels.append(labels_raw[0])\n",
    "    for i in range(1,len(indices)):\n",
    "        index=indices[i]\n",
    "        labels.append(labels_raw[index])\n",
    "        datum=data_raw[index].view(-1,28*28)\n",
    "        omega=torch.rand(1, Rdim)\n",
    "        x_tensor=torch.cat((x_tensor,datum),0)\n",
    "        randEnc_tensor=torch.cat((randEnc_tensor,omega),0)\n",
    "    data = rgenData(randEnc_tensor, x_tensor)\n",
    "    return(data, labels)"
   ]
  },
  {
   "cell_type": "markdown",
   "metadata": {
    "hidden": true
   },
   "source": [
    "## Gen Dataset Given Image Index & Array of Embedding"
   ]
  },
  {
   "cell_type": "code",
   "execution_count": 16,
   "metadata": {
    "hidden": true
   },
   "outputs": [],
   "source": [
    "def get_enc_img(indices,labels_raw, data_raw,embedding):\n",
    "    #num_img_type= scalar= equal to the number of image categories\n",
    "    #img_return_cnt = array = index of array is the image type and value is sample size for image type\n",
    "    #example_data = data loader data in form: batch_idx, (example_data, example_targets) \n",
    "    #max_i= data size\n",
    "    #Rdim= vector dimension for rand generation\n",
    "    #img_return_cnt = array = index of array is the image type and value is sample size for image type\n",
    "    i=0\n",
    "    cnt=len(indices)\n",
    "    labels=[]\n",
    "    datum=data_raw[indices[0]].view(-1,28*28)\n",
    "    x_tensor=datum\n",
    "    randEnc_tensor=torch.tensor(embedding[0], dtype=torch.float)\n",
    "    labels.append(labels_raw[0])\n",
    "    for i in range(1,len(indices)):\n",
    "        index=indices[i]\n",
    "        labels.append(labels_raw[index])\n",
    "        datum=data_raw[index].view(-1,28*28)\n",
    "        omega=torch.tensor(embedding[i], dtype=torch.float)\n",
    "        x_tensor=torch.cat((x_tensor,datum),0)\n",
    "        randEnc_tensor=torch.cat((randEnc_tensor,omega),0)\n",
    "    data = rgenData(randEnc_tensor, x_tensor)\n",
    "    return(data, labels)"
   ]
  },
  {
   "cell_type": "markdown",
   "metadata": {},
   "source": [
    "# Models"
   ]
  },
  {
   "cell_type": "markdown",
   "metadata": {
    "heading_collapsed": true
   },
   "source": [
    "## Old Code"
   ]
  },
  {
   "cell_type": "markdown",
   "metadata": {
    "hidden": true
   },
   "source": [
    "### 1L Model"
   ]
  },
  {
   "cell_type": "code",
   "execution_count": 17,
   "metadata": {
    "hidden": true
   },
   "outputs": [],
   "source": [
    "def train_1L(epoch, data, size,log_interval=10):\n",
    "    model_1L= Decoder_1L()\n",
    "    optimizer = torch.optim.Adam(model_1L.parameters(), lr=LR)\n",
    "    train_loss = 0\n",
    "    optimizer.zero_grad()\n",
    "    lossvec=[]\n",
    "    lossvec_cnt=[]\n",
    "    cnt=0\n",
    "    for i in range(1, epoch):\n",
    "        if i%10000==0:\n",
    "            print(i)\n",
    "        for j in range(0,size):\n",
    "            x=data.x[j]\n",
    "            randEnc=data.randEnc[j]\n",
    "            cnt+=1\n",
    "            encoded, decoded = model_1L.forward(randEnc)\n",
    "            loss = loss_function(decoded, x)\n",
    "            loss.backward()\n",
    "            train_loss += loss.item()\n",
    "            optimizer.step()\n",
    "            '''\n",
    "            if batch_idx % log_interval == 0:\n",
    "                print('Train Epoch: {} [{}/{} ({:.0f}%)]\\tLoss: {:.6f}'.format(\n",
    "                    i, batch_idx * len(x), len(train_loader.dataset),\n",
    "                    100. * batch_idx / len(train_loader),\n",
    "                    loss.item() / len(x)))\n",
    "            '''\n",
    "        lossvec.append(train_loss / (size*i))\n",
    "        lossvec_cnt.append(i)\n",
    "        \n",
    "    return (lossvec, lossvec_cnt,model_1L)"
   ]
  },
  {
   "cell_type": "markdown",
   "metadata": {
    "hidden": true
   },
   "source": [
    "### 2L Model"
   ]
  },
  {
   "cell_type": "code",
   "execution_count": 18,
   "metadata": {
    "hidden": true
   },
   "outputs": [],
   "source": [
    "def train_2L(epoch, data, size,log_interval=10):\n",
    "    model_2L= Decoder_2L()\n",
    "    optimizer = torch.optim.Adam(model_2L.parameters(), lr=LR)\n",
    "    train_loss = 0\n",
    "    optimizer.zero_grad()\n",
    "    lossvec=[]\n",
    "    lossvec_cnt=[]\n",
    "    cnt=0\n",
    "    for i in range(1, epoch):\n",
    "        if i%10000==0:\n",
    "            print(i)\n",
    "        for j in range(0,size):\n",
    "            x=data.x[j]\n",
    "            randEnc=data.randEnc[j]\n",
    "            encoded, decoded = model_2L(randEnc)\n",
    "            loss = loss_function(decoded, x)\n",
    "            loss.backward()\n",
    "            train_loss += loss.item()\n",
    "            optimizer.step()\n",
    "            '''\n",
    "            if batch_idx % log_interval == 0:\n",
    "                print('Train Epoch: {} [{}/{} ({:.0f}%)]\\tLoss: {:.6f}'.format(\n",
    "                    i, batch_idx * len(x), len(train_loader.dataset),\n",
    "                    100. * batch_idx / len(train_loader),\n",
    "                    loss.item() / len(x)))\n",
    "            '''\n",
    "        lossvec.append(train_loss / (size*i))\n",
    "        lossvec_cnt.append(i)\n",
    "        \n",
    "    return (lossvec, lossvec_cnt, model_2L)"
   ]
  },
  {
   "cell_type": "markdown",
   "metadata": {
    "hidden": true
   },
   "source": [
    "### AE2L2D Model"
   ]
  },
  {
   "cell_type": "code",
   "execution_count": 19,
   "metadata": {
    "hidden": true
   },
   "outputs": [],
   "source": [
    "def train_AE2L(epoch, data, size,log_interval=10):\n",
    "    model_AE2 =  AE_2L2D()\n",
    "    optimizer = torch.optim.Adam(model_AE2.parameters(), lr=LR)\n",
    "    train_loss = 0\n",
    "    optimizer.zero_grad()\n",
    "    lossvec=[]\n",
    "    lossvec_cnt=[]\n",
    "    cnt=0\n",
    "    encoding=[]\n",
    "    for i in range(1, epoch):\n",
    "        if i%100000==0:\n",
    "            print(i)\n",
    "        for j in range(0,size):\n",
    "            x=data.x[j]\n",
    "            cnt+=1\n",
    "            encoded, decoded = model_AE2.forward(x)\n",
    "            encoding.append(encoded)\n",
    "            loss = loss_function(decoded, x)\n",
    "            loss.backward()\n",
    "            train_loss += loss.item()\n",
    "            optimizer.step()\n",
    "            '''\n",
    "            if batch_idx % log_interval == 0:\n",
    "                print('Train Epoch: {} [{}/{} ({:.0f}%)]\\tLoss: {:.6f}'.format(\n",
    "                    i, batch_idx * len(x), len(train_loader.dataset),\n",
    "                    100. * batch_idx / len(train_loader),\n",
    "                    loss.item() / len(x)))\n",
    "            '''\n",
    "        lossvec.append(train_loss / (size*i))\n",
    "        lossvec_cnt.append(i)\n",
    "        \n",
    "    return (lossvec, lossvec_cnt,model_AE2)"
   ]
  },
  {
   "cell_type": "markdown",
   "metadata": {
    "hidden": true
   },
   "source": [
    "### 1L6D Model"
   ]
  },
  {
   "cell_type": "code",
   "execution_count": 20,
   "metadata": {
    "hidden": true
   },
   "outputs": [],
   "source": [
    "def train_1L6D(epoch, data, size,log_interval=10):\n",
    "    model_1L6D= Decoder_1L6D()\n",
    "    optimizer = torch.optim.Adam(model_1L6D.parameters(), lr=LR)\n",
    "    train_loss = 0\n",
    "    optimizer.zero_grad()\n",
    "    lossvec=[]\n",
    "    lossvec_cnt=[]\n",
    "    cnt=0\n",
    "    for i in range(1, epoch):\n",
    "        if i%10000==0:\n",
    "            print(i)\n",
    "        for j in range(0,size):\n",
    "            x=data.x[j]\n",
    "            randEnc=data.randEnc[j]\n",
    "            cnt+=1\n",
    "            encoded, decoded = model_1L6D.forward(randEnc)\n",
    "            loss = loss_function(decoded, x)\n",
    "            loss.backward()\n",
    "            train_loss += loss.item()\n",
    "            optimizer.step()\n",
    "            '''\n",
    "            if batch_idx % log_interval == 0:\n",
    "                print('Train Epoch: {} [{}/{} ({:.0f}%)]\\tLoss: {:.6f}'.format(\n",
    "                    i, batch_idx * len(x), len(train_loader.dataset),\n",
    "                    100. * batch_idx / len(train_loader),\n",
    "                    loss.item() / len(x)))\n",
    "            '''\n",
    "        lossvec.append(train_loss / (size*i))\n",
    "        lossvec_cnt.append(i)\n",
    "        \n",
    "    return (lossvec, lossvec_cnt,model_1L6D)"
   ]
  },
  {
   "cell_type": "markdown",
   "metadata": {
    "hidden": true
   },
   "source": [
    "### AE1L6D Model"
   ]
  },
  {
   "cell_type": "code",
   "execution_count": 21,
   "metadata": {
    "hidden": true
   },
   "outputs": [],
   "source": [
    "def train_AE1(epoch, data, size,log_interval=10):\n",
    "    model_AE1 = AE_1L6D()\n",
    "    optimizer = torch.optim.Adam(model_AE1.parameters(), lr=LR)\n",
    "    train_loss = 0\n",
    "    optimizer.zero_grad()\n",
    "    lossvec=[]\n",
    "    lossvec_cnt=[]\n",
    "    cnt=0\n",
    "    encoding=[]\n",
    "    for i in range(1, epoch):\n",
    "        if i%100000==0:\n",
    "            print(i)\n",
    "        for j in range(0,size):\n",
    "            x=data.x[j]\n",
    "            cnt+=1\n",
    "            encoded, decoded = model_AE1.forward(x)\n",
    "            encoding.append(encoded)\n",
    "            loss = loss_function(decoded, x)\n",
    "            loss.backward()\n",
    "            train_loss += loss.item()\n",
    "            optimizer.step()\n",
    "            '''\n",
    "            if batch_idx % log_interval == 0:\n",
    "                print('Train Epoch: {} [{}/{} ({:.0f}%)]\\tLoss: {:.6f}'.format(\n",
    "                    i, batch_idx * len(x), len(train_loader.dataset),\n",
    "                    100. * batch_idx / len(train_loader),\n",
    "                    loss.item() / len(x)))\n",
    "            '''\n",
    "        lossvec.append(train_loss / (size*i))\n",
    "        lossvec_cnt.append(i)\n",
    "        \n",
    "    return (lossvec, lossvec_cnt,model_AE1)"
   ]
  },
  {
   "cell_type": "markdown",
   "metadata": {},
   "source": [
    "## Train Encoder"
   ]
  },
  {
   "cell_type": "code",
   "execution_count": 22,
   "metadata": {},
   "outputs": [],
   "source": [
    "def train_decoder(epoch, data, model, optimizer,size,log_interval=10):\n",
    "    train_loss = 0\n",
    "    optimizer.zero_grad()\n",
    "    lossvec=[]\n",
    "    lossvec_cnt=[]\n",
    "    cnt=0\n",
    "    for i in range(1, epoch):\n",
    "        if i%100000==0:\n",
    "            print(i)\n",
    "        for j in range(0,size):\n",
    "            x=data.x[j]\n",
    "            randEnc=data.randEnc[j]\n",
    "            cnt+=1\n",
    "            encoded, decoded = model.forward(randEnc)\n",
    "            loss = loss_function(decoded, x)\n",
    "            loss.backward()\n",
    "            train_loss += loss.item()\n",
    "            optimizer.step()\n",
    "            '''\n",
    "            if batch_idx % log_interval == 0:\n",
    "                print('Train Epoch: {} [{}/{} ({:.0f}%)]\\tLoss: {:.6f}'.format(\n",
    "                    i, batch_idx * len(x), len(train_loader.dataset),\n",
    "                    100. * batch_idx / len(train_loader),\n",
    "                    loss.item() / len(x)))\n",
    "            '''\n",
    "        lossvec.append(train_loss / (size*i))\n",
    "        lossvec_cnt.append(i)\n",
    "        \n",
    "    return (lossvec, lossvec_cnt, model)"
   ]
  },
  {
   "cell_type": "markdown",
   "metadata": {},
   "source": [
    "## Train AE"
   ]
  },
  {
   "cell_type": "code",
   "execution_count": 23,
   "metadata": {},
   "outputs": [],
   "source": [
    "def train_AE(epoch, data, model, optimizer,size,log_interval=10):\n",
    "    train_loss = 0\n",
    "    optimizer.zero_grad()\n",
    "    lossvec=[]\n",
    "    lossvec_cnt=[]\n",
    "    cnt=0\n",
    "    encoding=[]\n",
    "    for i in range(1, epoch):\n",
    "        if i%100000==0:\n",
    "            print(i)\n",
    "        for j in range(0,size):\n",
    "            x=data.x[j]\n",
    "            cnt+=1\n",
    "            encoded, decoded = model.forward(x)\n",
    "            encoding.append(encoded)\n",
    "            loss = loss_function(decoded, x)\n",
    "            loss.backward()\n",
    "            train_loss += loss.item()\n",
    "            optimizer.step()\n",
    "            '''\n",
    "            if batch_idx % log_interval == 0:\n",
    "                print('Train Epoch: {} [{}/{} ({:.0f}%)]\\tLoss: {:.6f}'.format(\n",
    "                    i, batch_idx * len(x), len(train_loader.dataset),\n",
    "                    100. * batch_idx / len(train_loader),\n",
    "                    loss.item() / len(x)))\n",
    "            '''\n",
    "        lossvec.append(train_loss / (size*i))\n",
    "        lossvec_cnt.append(i)\n",
    "        \n",
    "    return (lossvec, lossvec_cnt, model)"
   ]
  },
  {
   "cell_type": "markdown",
   "metadata": {
    "heading_collapsed": true
   },
   "source": [
    "# Plotting"
   ]
  },
  {
   "cell_type": "code",
   "execution_count": 24,
   "metadata": {
    "hidden": true
   },
   "outputs": [],
   "source": [
    "def x_xd_plot_compare(data,model,instances,ae=False): \n",
    "    rows=instances\n",
    "    cols=2\n",
    "    Rdim=data[0][0].shape\n",
    "    Rdim=Rdim[0]\n",
    "    tot=int(instances)*cols\n",
    "    fig = plt.figure(figsize=(rows, rows))\n",
    "    plt.tight_layout() \n",
    "    # plot with various axes scales\n",
    "    loc=0\n",
    "    fig.subplots_adjust(hspace=.5)\n",
    "    case=0\n",
    "    while case<(rows):\n",
    "        # linear\n",
    "        loc+=1\n",
    "        tensor=data[case][1].view(28,28)\n",
    "        if ae==False:\n",
    "            tensor_d=model.decode(data[case][0])\n",
    "        else:\n",
    "            encoded, tensor_d =model.forward(data[case][1])\n",
    "        tensor_d=tensor_d.view(28,28)\n",
    "        plt.subplot(rows, cols, loc).axis('off')\n",
    "        plt.imshow(tensor.detach().numpy(),cmap='gray')\n",
    "        plt.title(str(case))\n",
    "\n",
    "        loc+=1\n",
    "        # log\n",
    "        plt.subplot(rows, cols, loc).axis('off')\n",
    "        plt.imshow(tensor_d.detach().numpy(),cmap='gray')\n",
    "        plt.title(str(case))\n",
    "\n",
    "\n",
    "        if case==0:\n",
    "            exp_tensor=data[case][1]\n",
    "            exp_tensor_d=model.decode(data[case][0])\n",
    "            exp_omega=data[case][0]\n",
    "        else:\n",
    "            exp_tensor=torch.cat((exp_tensor,data[case][1]),0)\n",
    "            exp_tensor_d=torch.cat((exp_tensor_d,model.decode(data[case][0])),0)\n",
    "            exp_omega=torch.cat((exp_omega, data[case][0]),0)\n",
    "        case+=1\n",
    "\n",
    "    plt.show()\n",
    "    return(exp_tensor.view(instances,784),exp_tensor_d.view(instances,784),exp_omega.view(instances,Rdim))"
   ]
  },
  {
   "cell_type": "code",
   "execution_count": 25,
   "metadata": {
    "hidden": true
   },
   "outputs": [],
   "source": [
    "def plot_compare(x, x_d): \n",
    "    rows=len(x)\n",
    "    cols=2\n",
    "    fig = plt.figure(figsize=(rows, rows))\n",
    "    plt.tight_layout() \n",
    "    # plot with various axes scales\n",
    "    loc=0\n",
    "    fig.subplots_adjust(hspace=.5)\n",
    "    case=0\n",
    "    while case<(rows):\n",
    "        tensor=x[case].view(28,28)      \n",
    "        tensor_d=x_d[case].view(28,28)\n",
    "        ########################################\n",
    "        loc+=1\n",
    "        plt.subplot(rows, cols, loc).axis('off')\n",
    "        plt.imshow(tensor.detach().numpy(),cmap='gray')\n",
    "        plt.title(str(case))\n",
    "\n",
    "        loc+=1\n",
    "        # log\n",
    "        plt.subplot(rows, cols, loc).axis('off')\n",
    "        plt.imshow(tensor_d.detach().numpy(),cmap='gray')\n",
    "        plt.title(str(case))\n",
    "        case+=1\n",
    "    plt.show()\n",
    "    return()"
   ]
  },
  {
   "cell_type": "markdown",
   "metadata": {},
   "source": [
    "# Experiments"
   ]
  },
  {
   "cell_type": "markdown",
   "metadata": {},
   "source": [
    "## Import MNIST Data"
   ]
  },
  {
   "cell_type": "code",
   "execution_count": 26,
   "metadata": {},
   "outputs": [
    {
     "name": "stdout",
     "output_type": "stream",
     "text": [
      "C:\\Users\\clair\\scikit_learn_data\n",
      "torch.Size([70000, 784])\n"
     ]
    }
   ],
   "source": [
    "labelset, dataset=gen_mnist()\n",
    "EPOCH=100000\n",
    "size=50"
   ]
  },
  {
   "cell_type": "markdown",
   "metadata": {},
   "source": [
    "## Experiment #1- Gen 50 images from rand generator embedding"
   ]
  },
  {
   "cell_type": "code",
   "execution_count": 29,
   "metadata": {},
   "outputs": [
    {
     "name": "stdout",
     "output_type": "stream",
     "text": [
      "[0 6 4 0 7 8 0 4 1 5 2 1 6 0 5 7 4 2 2 6 5 2 2 3 8 0 2 8 7 5 8 2 6 8 2 3 3\n",
      " 0 2 4 6 6 7 3 6 2 0 6 1 4]\n",
      "[ 7.  3. 10.  4.  5.  4.  8.  4.  5.  0.]\n",
      "[12667, 24756, 36018, 36021, 36024, 12674, 48204, 12668, 2, 12665, 41937, 36023, 30596, 48200, 18623, 48202, 30597, 0, 48203, 30598, 41936, 5924, 30599, 12666, 24758, 3, 4, 12671, 48201, 5925, 36019, 18626, 41938, 24755, 36022, 24757, 12669, 12672, 1, 6, 12670, 18625, 12673, 36017, 18624, 5923, 36020, 24754, 41935, 5]\n"
     ]
    }
   ],
   "source": [
    "rand_gen=np.random.randint(0,9,size=50)\n",
    "print(rand_gen)\n",
    "\n",
    "img_return_cnt=np.zeros(10)\n",
    "for i in rand_gen:\n",
    "    img_return_cnt[i]+=1\n",
    "print(img_return_cnt)\n",
    "\n",
    "\n",
    "indices=get_images(img_return_cnt,labelset, dataset)\n",
    "ind_shuffle=indices[:]\n",
    "shuffle(ind_shuffle)\n",
    "print(ind_shuffle)"
   ]
  },
  {
   "cell_type": "code",
   "execution_count": 30,
   "metadata": {},
   "outputs": [],
   "source": [
    "rdim=2\n",
    "data, labels=get_randenc_byindex(ind_shuffle, labelset, dataset,rdim)"
   ]
  },
  {
   "cell_type": "markdown",
   "metadata": {},
   "source": [
    "### Run Code"
   ]
  },
  {
   "cell_type": "code",
   "execution_count": 26,
   "metadata": {},
   "outputs": [],
   "source": [
    "model_in = Decoder_2L()\n",
    "optimizer = torch.optim.Adam(model_in.parameters(), lr=LR)\n",
    "train_loss = 0\n",
    "optimizer.zero_grad()"
   ]
  },
  {
   "cell_type": "code",
   "execution_count": 27,
   "metadata": {},
   "outputs": [
    {
     "ename": "NameError",
     "evalue": "name 'labels' is not defined",
     "output_type": "error",
     "traceback": [
      "\u001b[1;31m---------------------------------------------------------------------------\u001b[0m",
      "\u001b[1;31mNameError\u001b[0m                                 Traceback (most recent call last)",
      "\u001b[1;32m<ipython-input-27-d316bf896d37>\u001b[0m in \u001b[0;36m<module>\u001b[1;34m()\u001b[0m\n\u001b[1;32m----> 1\u001b[1;33m \u001b[0msize\u001b[0m\u001b[1;33m=\u001b[0m\u001b[0mlen\u001b[0m\u001b[1;33m(\u001b[0m\u001b[0mlabels\u001b[0m\u001b[1;33m)\u001b[0m\u001b[1;33m\u001b[0m\u001b[0m\n\u001b[0m\u001b[0;32m      2\u001b[0m \u001b[0mstart_time\u001b[0m \u001b[1;33m=\u001b[0m \u001b[0mtime\u001b[0m\u001b[1;33m.\u001b[0m\u001b[0mtime\u001b[0m\u001b[1;33m(\u001b[0m\u001b[1;33m)\u001b[0m\u001b[1;33m\u001b[0m\u001b[0m\n\u001b[0;32m      3\u001b[0m \u001b[0mlossvec\u001b[0m\u001b[1;33m,\u001b[0m \u001b[0mlossvec_cnt\u001b[0m\u001b[1;33m,\u001b[0m \u001b[0mmodel\u001b[0m\u001b[1;33m=\u001b[0m\u001b[0mtrain_decoder\u001b[0m\u001b[1;33m(\u001b[0m\u001b[0mEPOCH\u001b[0m\u001b[1;33m,\u001b[0m\u001b[0mdata\u001b[0m\u001b[1;33m,\u001b[0m\u001b[0mmodel_in\u001b[0m\u001b[1;33m,\u001b[0m \u001b[0moptimizer\u001b[0m\u001b[1;33m,\u001b[0m\u001b[0msize\u001b[0m\u001b[1;33m)\u001b[0m\u001b[1;33m\u001b[0m\u001b[0m\n\u001b[0;32m      4\u001b[0m \u001b[0mprint\u001b[0m\u001b[1;33m(\u001b[0m\u001b[1;34m'--- train mins %---'\u001b[0m\u001b[1;33m)\u001b[0m\u001b[1;33m\u001b[0m\u001b[0m\n\u001b[0;32m      5\u001b[0m \u001b[0mprint\u001b[0m\u001b[1;33m(\u001b[0m\u001b[1;33m(\u001b[0m\u001b[0mtime\u001b[0m\u001b[1;33m.\u001b[0m\u001b[0mtime\u001b[0m\u001b[1;33m(\u001b[0m\u001b[1;33m)\u001b[0m \u001b[1;33m-\u001b[0m \u001b[0mstart_time\u001b[0m\u001b[1;33m)\u001b[0m\u001b[1;33m/\u001b[0m\u001b[1;36m60\u001b[0m\u001b[1;33m)\u001b[0m\u001b[1;33m\u001b[0m\u001b[0m\n",
      "\u001b[1;31mNameError\u001b[0m: name 'labels' is not defined"
     ]
    }
   ],
   "source": [
    "size=len(labels)\n",
    "start_time = time.time()\n",
    "lossvec, lossvec_cnt, model=train_decoder(EPOCH,data,model_in, optimizer,size) \n",
    "print('--- train mins %---')\n",
    "print((time.time() - start_time)/60)\n",
    "######################################\n",
    "\n",
    "###########################################################################################\n",
    "####   UPDATE INPUTS\n",
    "####\n",
    "tensor, tensor_d, omega=x_xd_plot_compare(data,model,size)"
   ]
  },
  {
   "cell_type": "markdown",
   "metadata": {
    "heading_collapsed": true
   },
   "source": [
    "### Output Data Files"
   ]
  },
  {
   "cell_type": "code",
   "execution_count": 221,
   "metadata": {
    "hidden": true
   },
   "outputs": [],
   "source": [
    "loss_filename='output/nb1_exp1_lossvec.csv'\n",
    "filenames=['nb1_exp1_tensor', 'nb1_exp1_tensor_d', 'nb1_exp1_omega']\n",
    "data_out=[]\n",
    "data_out.append(tensor)\n",
    "data_out.append(tensor_d)\n",
    "data_out.append(omega)"
   ]
  },
  {
   "cell_type": "code",
   "execution_count": 222,
   "metadata": {
    "hidden": true
   },
   "outputs": [],
   "source": [
    "for i in range(0,len(filenames)):\n",
    "    out_file='output/'+filenames[i]+'.csv'\n",
    "    export_tensor(data_out[i],out_file)\n",
    "np.savetxt(loss_filename, lossvec)"
   ]
  },
  {
   "cell_type": "markdown",
   "metadata": {},
   "source": [
    "## Experiment #2- Run AE On Same Data"
   ]
  },
  {
   "cell_type": "markdown",
   "metadata": {},
   "source": [
    "### Run Code"
   ]
  },
  {
   "cell_type": "code",
   "execution_count": 36,
   "metadata": {},
   "outputs": [],
   "source": [
    "EPOCH=80000\n",
    "model_in = AE_2L2D()\n",
    "optimizer = torch.optim.Adam(model_in.parameters(), lr=LR)\n",
    "train_loss = 0\n",
    "optimizer.zero_grad()"
   ]
  },
  {
   "cell_type": "code",
   "execution_count": 37,
   "metadata": {},
   "outputs": [
    {
     "name": "stdout",
     "output_type": "stream",
     "text": [
      "--- train mins %---\n",
      "313.1417247255643\n"
     ]
    },
    {
     "data": {
      "image/png": "[encoded data removed]",
      "text/plain": [
       "<Figure size 3600x3600 with 100 Axes>"
      ]
     },
     "metadata": {
      "needs_background": "light"
     },
     "output_type": "display_data"
    }
   ],
   "source": [
    "size=len(labels)\n",
    "start_time = time.time()\n",
    "lossvec, lossvec_cnt, model=train_AE(EPOCH,data, model_in, optimizer,size)\n",
    "print('--- train mins %---')\n",
    "print((time.time() - start_time)/60)\n",
    "######################################\n",
    "\n",
    "###########################################################################################\n",
    "####   UPDATE INPUTS\n",
    "####\n",
    "tensor, tensor_d, omega=x_xd_plot_compare(data,model,size,True)"
   ]
  },
  {
   "cell_type": "markdown",
   "metadata": {},
   "source": [
    "### Output Data Files"
   ]
  },
  {
   "cell_type": "code",
   "execution_count": 34,
   "metadata": {},
   "outputs": [],
   "source": [
    "loss_filename='output/nb1_exp2_lossvec.csv'\n",
    "filenames=['nb1_exp2_tensor', 'nb1_exp2_tensor_d', 'nb1_exp2_omega']\n",
    "data_out=[]\n",
    "data_out.append(tensor)\n",
    "data_out.append(tensor_d)\n",
    "data_out.append(omega)"
   ]
  },
  {
   "cell_type": "code",
   "execution_count": 35,
   "metadata": {},
   "outputs": [],
   "source": [
    "for i in range(0,len(filenames)):\n",
    "    out_file='output/'+filenames[i]+'.csv'\n",
    "    export_tensor(data_out[i],out_file)\n",
    "np.savetxt(loss_filename, lossvec)"
   ]
  },
  {
   "cell_type": "markdown",
   "metadata": {
    "heading_collapsed": true
   },
   "source": [
    "## Experiment #3- Gen 50 Same Class images from rand generator embedding"
   ]
  },
  {
   "cell_type": "code",
   "execution_count": null,
   "metadata": {
    "hidden": true
   },
   "outputs": [],
   "source": [
    "img_return_cnt=np.zeros(10)\n",
    "img_return_cnt[0]=50\n",
    "img_return_cnt[1]=0\n",
    "img_return_cnt[2]=0\n",
    "img_return_cnt[3]=0\n",
    "img_return_cnt[4]=0\n",
    "img_return_cnt[5]=0\n",
    "img_return_cnt[6]=0\n",
    "img_return_cnt[7]=0\n",
    "img_return_cnt[8]=0\n",
    "img_return_cnt[9]=0\n",
    "rdim=2\n",
    "batch_size=4\n",
    "data, labels, indices=gen_rand_data(img_return_cnt,labelset, dataset,rdim)\n",
    "print(indices)"
   ]
  },
  {
   "cell_type": "markdown",
   "metadata": {
    "hidden": true
   },
   "source": [
    "### Run Code"
   ]
  },
  {
   "cell_type": "code",
   "execution_count": null,
   "metadata": {
    "hidden": true
   },
   "outputs": [],
   "source": [
    "model_in = Decoder_2L()\n",
    "optimizer = torch.optim.Adam(model_in.parameters(), lr=LR)\n",
    "train_loss = 0\n",
    "optimizer.zero_grad()"
   ]
  },
  {
   "cell_type": "code",
   "execution_count": null,
   "metadata": {
    "hidden": true
   },
   "outputs": [],
   "source": [
    "size=len(labels)\n",
    "start_time = time.time()\n",
    "lossvec, lossvec_cnt, model=train_decoder(EPOCH,data,model_in, optimizer,size) \n",
    "print('--- train mins %---')\n",
    "print((time.time() - start_time)/60)\n",
    "######################################\n",
    "\n",
    "###########################################################################################\n",
    "####   UPDATE INPUTS\n",
    "####\n",
    "tensor, tensor_d, omega=x_xd_plot_compare(data,model,size)"
   ]
  },
  {
   "cell_type": "markdown",
   "metadata": {
    "hidden": true
   },
   "source": [
    "### Output Data Files"
   ]
  },
  {
   "cell_type": "code",
   "execution_count": null,
   "metadata": {
    "hidden": true
   },
   "outputs": [],
   "source": [
    "loss_filename='output/nb1_exp3_lossvec.csv'\n",
    "filenames=['nb1_exp3_tensor', 'nb1_exp3_tensor_d', 'nb1_exp3_omega']\n",
    "data_out=[]\n",
    "data_out.append(tensor)\n",
    "data_out.append(tensor_d)\n",
    "data_out.append(omega)"
   ]
  },
  {
   "cell_type": "code",
   "execution_count": null,
   "metadata": {
    "hidden": true
   },
   "outputs": [],
   "source": [
    "for i in range(0,len(filenames)):\n",
    "    out_file='output/'+filenames[i]+'.csv'\n",
    "    export_tensor(data_out[i],out_file)\n",
    "np.savetxt(loss_filename, lossvec)"
   ]
  },
  {
   "cell_type": "markdown",
   "metadata": {
    "heading_collapsed": true
   },
   "source": [
    "## Experiment #4- Run AE On Same Data"
   ]
  },
  {
   "cell_type": "code",
   "execution_count": null,
   "metadata": {
    "hidden": true
   },
   "outputs": [],
   "source": [
    "model_in = AE_2L2D()\n",
    "optimizer = torch.optim.Adam(model_in.parameters(), lr=LR)\n",
    "train_loss = 0\n",
    "optimizer.zero_grad()"
   ]
  },
  {
   "cell_type": "markdown",
   "metadata": {
    "hidden": true
   },
   "source": [
    "### Run Code"
   ]
  },
  {
   "cell_type": "code",
   "execution_count": null,
   "metadata": {
    "hidden": true
   },
   "outputs": [],
   "source": [
    "size=len(labels)\n",
    "start_time = time.time()\n",
    "lossvec, lossvec_cnt, model=train_AE(EPOCH,data, model_in, optimizer,size)\n",
    "print('--- train mins %---')\n",
    "print((time.time() - start_time)/60)\n",
    "######################################\n",
    "\n",
    "###########################################################################################\n",
    "####   UPDATE INPUTS\n",
    "####\n",
    "tensor, tensor_d, omega=x_xd_plot_compare(data,model,size,True)"
   ]
  },
  {
   "cell_type": "markdown",
   "metadata": {
    "hidden": true
   },
   "source": [
    "### Output Results"
   ]
  },
  {
   "cell_type": "code",
   "execution_count": null,
   "metadata": {
    "hidden": true
   },
   "outputs": [],
   "source": [
    "loss_filename='output/nb1_exp4_lossvec.csv'\n",
    "filenames=['nb1_exp4_tensor', 'nb1_exp4_tensor_d', 'nb1_exp4_omega']\n",
    "data_out=[]\n",
    "data_out.append(tensor)\n",
    "data_out.append(tensor_d)\n",
    "data_out.append(omega)"
   ]
  },
  {
   "cell_type": "code",
   "execution_count": null,
   "metadata": {
    "hidden": true
   },
   "outputs": [],
   "source": [
    "for i in range(0,len(filenames)):\n",
    "    out_file='output/'+filenames[i]+'.csv'\n",
    "    export_tensor(data_out[i],out_file)\n",
    "np.savetxt(loss_filename, lossvec)"
   ]
  },
  {
   "cell_type": "markdown",
   "metadata": {},
   "source": [
    "## Experiment #5- RandGen 50 and Run 4L Decoder"
   ]
  },
  {
   "cell_type": "code",
   "execution_count": 38,
   "metadata": {},
   "outputs": [
    {
     "name": "stdout",
     "output_type": "stream",
     "text": [
      "[6 4 4 4 8 6 1 7 5 0 5 6 8 0 8 5 4 3 4 3 0 6 6 7 8 1 7 0 2 2 3 3 0 4 5 3 8\n",
      " 8 2 0 0 3 7 7 5 0 1 6 8 1]\n",
      "[8. 4. 3. 6. 6. 5. 6. 5. 7. 0.]\n",
      "[30597, 18626, 5, 24754, 36017, 18625, 5925, 30599, 18624, 24757, 5924, 24758, 7, 48200, 41938, 12665, 0, 41935, 36020, 12666, 12667, 30598, 48205, 4, 30596, 18627, 5926, 18628, 41939, 41936, 48206, 24759, 1, 36018, 3, 2, 36021, 48201, 48202, 18623, 48203, 5923, 41937, 36019, 36022, 30600, 48204, 24756, 6, 24755]\n"
     ]
    }
   ],
   "source": [
    "rand_gen=np.random.randint(0,9,size=50)\n",
    "print(rand_gen)\n",
    "\n",
    "img_return_cnt=np.zeros(10)\n",
    "for i in rand_gen:\n",
    "    img_return_cnt[i]+=1\n",
    "print(img_return_cnt)\n",
    "\n",
    "\n",
    "indices=get_images(img_return_cnt,labelset, dataset)\n",
    "ind_shuffle=indices[:]\n",
    "shuffle(ind_shuffle)\n",
    "print(ind_shuffle)"
   ]
  },
  {
   "cell_type": "code",
   "execution_count": null,
   "metadata": {},
   "outputs": [],
   "source": [
    "rdim=2\n",
    "data, labels=get_randenc_byindex(ind_shuffle, labelset, dataset,rdim)"
   ]
  },
  {
   "cell_type": "markdown",
   "metadata": {},
   "source": [
    "### Run Code"
   ]
  },
  {
   "cell_type": "code",
   "execution_count": null,
   "metadata": {},
   "outputs": [],
   "source": [
    "model_in =   Decoder_4L()\n",
    "optimizer = torch.optim.Adam(model_in.parameters(), lr=LR)\n",
    "train_loss = 0\n",
    "optimizer.zero_grad()"
   ]
  },
  {
   "cell_type": "code",
   "execution_count": null,
   "metadata": {
    "code_folding": []
   },
   "outputs": [],
   "source": [
    "size=len(labels)\n",
    "start_time = time.time()\n",
    "lossvec, lossvec_cnt, model=train_decoder(EPOCH,data,model_in, optimizer,size) \n",
    "print('--- train mins %---')\n",
    "print((time.time() - start_time)/60)\n",
    "######################################\n",
    "\n",
    "###############################################################################################################################\n",
    "## UPDATE\n",
    "tensor, tensor_d, omega=x_xd_plot_compare(data,model,size)"
   ]
  },
  {
   "cell_type": "markdown",
   "metadata": {},
   "source": [
    "### Output Results"
   ]
  },
  {
   "cell_type": "code",
   "execution_count": null,
   "metadata": {},
   "outputs": [],
   "source": [
    "loss_filename='output/nb1_exp5_lossvec.csv'\n",
    "filenames=['nb1_exp5_tensor', 'nb1_exp5_tensor_d', 'nb1_exp5_omega']\n",
    "data_out=[]\n",
    "data_out.append(tensor)\n",
    "data_out.append(tensor_d)\n",
    "data_out.append(omega)"
   ]
  },
  {
   "cell_type": "code",
   "execution_count": null,
   "metadata": {},
   "outputs": [],
   "source": [
    "for i in range(0,len(filenames)):\n",
    "    out_file='output/'+filenames[i]+'.csv'\n",
    "    export_tensor(data_out[i],out_file)\n",
    "np.savetxt(loss_filename, lossvec)"
   ]
  },
  {
   "cell_type": "markdown",
   "metadata": {},
   "source": [
    "## Experiment #6- RandGen 50 and Run 4L AE"
   ]
  },
  {
   "cell_type": "markdown",
   "metadata": {},
   "source": [
    "### Run Code"
   ]
  },
  {
   "cell_type": "code",
   "execution_count": null,
   "metadata": {},
   "outputs": [],
   "source": [
    "model_in =  AE_4L2D()\n",
    "optimizer = torch.optim.Adam(model_in.parameters(), lr=LR)\n",
    "train_loss = 0\n",
    "optimizer.zero_grad()"
   ]
  },
  {
   "cell_type": "code",
   "execution_count": null,
   "metadata": {
    "code_folding": []
   },
   "outputs": [],
   "source": [
    "size=len(labels)\n",
    "start_time = time.time()\n",
    "lossvec, lossvec_cnt, model=train_AE(EPOCH,data, model_in, optimizer,size)\n",
    "print('--- train mins %---')\n",
    "print((time.time() - start_time)/60)\n",
    "######################################\n",
    "\n",
    "###########################################################################################\n",
    "####   UPDATE INPUTS\n",
    "####\n",
    "tensor, tensor_d, omega=x_xd_plot_compare(data,model,size,True)"
   ]
  },
  {
   "cell_type": "markdown",
   "metadata": {},
   "source": [
    "### Output Results"
   ]
  },
  {
   "cell_type": "code",
   "execution_count": null,
   "metadata": {},
   "outputs": [],
   "source": [
    "loss_filename='output/nb1_exp6_lossvec.csv'\n",
    "filenames=['nb1_exp6_tensor', 'nb1_exp6_tensor_d', 'nb1_exp6_omega']\n",
    "data_out=[]\n",
    "data_out.append(tensor)\n",
    "data_out.append(tensor_d)\n",
    "data_out.append(omega)"
   ]
  },
  {
   "cell_type": "code",
   "execution_count": null,
   "metadata": {},
   "outputs": [],
   "source": [
    "for i in range(0,len(filenames)):\n",
    "    out_file='output/'+filenames[i]+'.csv'\n",
    "    export_tensor(data_out[i],out_file)\n",
    "np.savetxt(loss_filename, lossvec)"
   ]
  },
  {
   "cell_type": "markdown",
   "metadata": {},
   "source": [
    "## Experiment #7"
   ]
  },
  {
   "cell_type": "code",
   "execution_count": null,
   "metadata": {},
   "outputs": [],
   "source": []
  },
  {
   "cell_type": "markdown",
   "metadata": {},
   "source": [
    "### Run Code"
   ]
  },
  {
   "cell_type": "code",
   "execution_count": null,
   "metadata": {},
   "outputs": [],
   "source": []
  },
  {
   "cell_type": "markdown",
   "metadata": {},
   "source": [
    "### Output Results"
   ]
  },
  {
   "cell_type": "code",
   "execution_count": null,
   "metadata": {},
   "outputs": [],
   "source": []
  },
  {
   "cell_type": "code",
   "execution_count": null,
   "metadata": {},
   "outputs": [],
   "source": []
  },
  {
   "cell_type": "markdown",
   "metadata": {},
   "source": [
    "## Experiment #8-"
   ]
  },
  {
   "cell_type": "code",
   "execution_count": null,
   "metadata": {},
   "outputs": [],
   "source": []
  },
  {
   "cell_type": "markdown",
   "metadata": {},
   "source": [
    "### Run Code"
   ]
  },
  {
   "cell_type": "code",
   "execution_count": null,
   "metadata": {},
   "outputs": [],
   "source": []
  },
  {
   "cell_type": "markdown",
   "metadata": {},
   "source": [
    "### Output Results"
   ]
  },
  {
   "cell_type": "code",
   "execution_count": null,
   "metadata": {},
   "outputs": [],
   "source": []
  },
  {
   "cell_type": "code",
   "execution_count": null,
   "metadata": {},
   "outputs": [],
   "source": []
  },
  {
   "cell_type": "markdown",
   "metadata": {},
   "source": [
    "# Import Previously Exported Data"
   ]
  },
  {
   "cell_type": "code",
   "execution_count": null,
   "metadata": {},
   "outputs": [],
   "source": [
    "loss_filename_1='output/nb1_exp1_lossvec.csv'\n",
    "filenames_1=['nb1_exp1_tensor', 'nb1_exp1_tensor_d', 'nb1_exp1_omega']\n",
    "imp_data_1, test_lossvec_1=import_saved_output(filenames_1,loss_filename_1)"
   ]
  },
  {
   "cell_type": "code",
   "execution_count": null,
   "metadata": {},
   "outputs": [],
   "source": [
    "loss_filename_2='output/exp2_lossvec.csv'\n",
    "filenames_2=['exp2_tensor', 'exp2_tensor_d', 'exp2_omega']\n",
    "imp_data_2, test_lossvec_2=import_saved_output(filenames,loss_filename_2)"
   ]
  },
  {
   "cell_type": "code",
   "execution_count": null,
   "metadata": {},
   "outputs": [],
   "source": [
    "loss_filename_6='output/nb1_exp6_lossvec.csv'\n",
    "filenames_6=['nb1_exp6_tensor', 'nb1_exp6_tensor_d', 'nb1_exp6_omega']\n",
    "imp_data_6, test_lossvec_6=import_saved_output(filenames_6,loss_filename_6)"
   ]
  },
  {
   "cell_type": "code",
   "execution_count": null,
   "metadata": {},
   "outputs": [],
   "source": []
  },
  {
   "cell_type": "code",
   "execution_count": null,
   "metadata": {},
   "outputs": [],
   "source": [
    "test_tensor=imp_data_1[0]\n",
    "test_tensor_d=imp_data_1[1] \n",
    "test_exp1_omega=imp_data_1[2] "
   ]
  },
  {
   "cell_type": "code",
   "execution_count": null,
   "metadata": {},
   "outputs": [],
   "source": [
    "torch.all(torch.eq(test_tensor,test_tensor_d))"
   ]
  },
  {
   "cell_type": "code",
   "execution_count": null,
   "metadata": {},
   "outputs": [],
   "source": [
    "len(test_tensor)"
   ]
  },
  {
   "cell_type": "code",
   "execution_count": null,
   "metadata": {},
   "outputs": [],
   "source": [
    "# Data\n",
    "cnt=len(test_lossvec_1)\n",
    "cnt_vec=np.arange(0,cnt)\n",
    "df=pd.DataFrame({'x': cnt_vec, 'exp2': np.asarray(test_lossvec_2), \n",
    "                 'exp1': np.asarray(test_lossvec_1)})\n",
    "\n",
    "plt.plot( 'x', 'exp1', data=df, marker='', markerfacecolor='blue', linewidth=2)\n",
    "plt.plot( 'x', 'exp2', data=df, marker='', color='pink', linewidth=2)\n",
    "\n",
    "plt.title('R2Encode')\n",
    "plt.legend()"
   ]
  },
  {
   "cell_type": "code",
   "execution_count": null,
   "metadata": {},
   "outputs": [],
   "source": [
    "# Data\n",
    "cnt=len(test_lossvec_6)\n",
    "cnt_vec=np.arange(0,cnt)\n",
    "df=pd.DataFrame({'x': cnt_vec,\n",
    "                 'exp1': np.asarray(test_lossvec_6)})\n",
    "\n",
    "plt.plot( 'x', 'exp1', data=df, marker='', markerfacecolor='blue', linewidth=2)\n",
    "#plt.plot( 'x', 'exp2', data=df, marker='', color='pink', linewidth=2)\n",
    "\n",
    "plt.title('R2Encode')\n",
    "plt.legend()"
   ]
  },
  {
   "cell_type": "code",
   "execution_count": null,
   "metadata": {},
   "outputs": [],
   "source": [
    "print('')\n",
    "print(test_lossvec_1[100000])\n",
    "print(test_lossvec_1[500000])"
   ]
  }
 ],
 "metadata": {
  "kernelspec": {
   "display_name": "Python 3",
   "language": "python",
   "name": "python3"
  },
  "language_info": {
   "codemirror_mode": {
    "name": "ipython",
    "version": 3
   },
   "file_extension": ".py",
   "mimetype": "text/x-python",
   "name": "python",
   "nbconvert_exporter": "python",
   "pygments_lexer": "ipython3",
   "version": "3.7.0"
  },
  "toc": {
   "base_numbering": 1,
   "nav_menu": {},
   "number_sections": true,
   "sideBar": true,
   "skip_h1_title": false,
   "title_cell": "Table of Contents",
   "title_sidebar": "Contents",
   "toc_cell": false,
   "toc_position": {},
   "toc_section_display": true,
   "toc_window_display": false
  }
 },
 "nbformat": 4,
 "nbformat_minor": 2
}
