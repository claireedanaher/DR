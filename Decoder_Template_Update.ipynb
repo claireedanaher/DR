{
 "cells": [
  {
   "cell_type": "markdown",
   "metadata": {},
   "source": [
    "# LIBRARIES"
   ]
  },
  {
   "cell_type": "code",
   "execution_count": 1,
   "metadata": {},
   "outputs": [],
   "source": [
    "## import torch\n",
    "import torchvision\n",
    "import torch\n",
    "import torchvision.datasets as datasets\n",
    "import torch.nn as nn\n",
    "import matplotlib.pyplot as plt\n",
    "from mpl_toolkits.mplot3d import Axes3D\n",
    "from matplotlib import cm\n",
    "import numpy as np\n",
    "from torch.nn import functional as F\n",
    "import time\n",
    "import pandas as pd "
   ]
  },
  {
   "cell_type": "markdown",
   "metadata": {},
   "source": [
    "# Pull in MNIST Data"
   ]
  },
  {
   "cell_type": "markdown",
   "metadata": {},
   "source": [
    "## MNIST Data Label Generation"
   ]
  },
  {
   "cell_type": "code",
   "execution_count": 2,
   "metadata": {},
   "outputs": [],
   "source": [
    "def gen_mnist():\n",
    "    from sklearn.datasets.base import get_data_home \n",
    "    from sklearn.datasets import fetch_mldata\n",
    "    print (get_data_home())\n",
    "    mnist_raw = fetch_mldata('MNIST original', data_home=get_data_home())\n",
    "    mnist=mnistData(mnist_raw.target,mnist_raw.data) \n",
    "    cnt=len(mnist.label)\n",
    "    labelset=torch.tensor(mnist.label)\n",
    "    labelset.shape\n",
    "    dataset=torch.tensor(mnist.x,dtype=torch.float)\n",
    "    number_columns=dataset.shape[1]\n",
    "    dataset = dataset.view(-1,number_columns).float()/256.0\n",
    "    print(dataset.shape)\n",
    "    dataset=dataset.view(cnt,28,28)\n",
    "    return(labelset, dataset)"
   ]
  },
  {
   "cell_type": "markdown",
   "metadata": {},
   "source": [
    "# Classes"
   ]
  },
  {
   "cell_type": "markdown",
   "metadata": {},
   "source": [
    "## Data Loaders"
   ]
  },
  {
   "cell_type": "code",
   "execution_count": 3,
   "metadata": {},
   "outputs": [],
   "source": [
    "## CUSTOM DATA LOADER\n",
    "from torch.utils.data.dataset import Dataset\n",
    "class rgenData(Dataset):\n",
    "    def __init__(self, randEnc, x, transform=None):\n",
    "        self.randEnc= randEnc\n",
    "        self.x=x \n",
    "    def __len__(self):\n",
    "        z=self.x.shape[0]\n",
    "        return  z\n",
    "    def __getitem__(self, idx):\n",
    "        randEnc=self.randEnc[idx]\n",
    "        x=self.x[idx]\n",
    "        return randEnc, x\n",
    "\n",
    "## CUSTOM DATA LOADER\n",
    "from torch.utils.data.dataset import Dataset\n",
    "class mnistData(Dataset):\n",
    "    def __init__(self, label, x, transform=None):\n",
    "        self.label= label\n",
    "        self.x=x \n",
    "    def __len__(self):\n",
    "        z=self.x.shape[0]\n",
    "        return  z\n",
    "    def __getitem__(self, idx):\n",
    "        label=self.label[idx]\n",
    "        x=self.x[idx]\n",
    "        return x"
   ]
  },
  {
   "cell_type": "markdown",
   "metadata": {},
   "source": [
    "## Decoder 1L"
   ]
  },
  {
   "cell_type": "code",
   "execution_count": 4,
   "metadata": {},
   "outputs": [],
   "source": [
    "#############################################################################################################\n",
    "###\n",
    "# PYTORCH DOCUMENTATION EXAMPLE\n",
    "# TUTORIAL USED: #https://github.com/MorvanZhou/PyTorch-Tutorial/blob/master/tutorial-contents/404_autoencoder.py\n",
    "###\n",
    "#### HYPER PARAMS\n",
    "LR = 0.0005         # learning rate\n",
    "N_TEST_IMG = 5\n",
    "\n",
    "class Decoder_1L(nn.Module):\n",
    "    def __init__(self):\n",
    "        super(Decoder_1L, self).__init__()\n",
    "        ###########################\n",
    "        #What is this used for?\n",
    "        #self.map = {}\n",
    "        ###########################\n",
    "        self.fc4 = nn.Linear(2, 784)\n",
    "\n",
    "        \n",
    "    def decode(self, z):\n",
    "        out=self.fc4(z)\n",
    "        return torch.sigmoid(out)\n",
    "    \n",
    "    def forward(self, x):\n",
    "        encoded = x\n",
    "        #decoded= x\n",
    "        decoded = self.decode(encoded)\n",
    "        return encoded, decoded\n",
    "    \n",
    "    \n",
    "### INITALIZE MODEL PARAMS\n",
    "model_1L = Decoder_1L()\n",
    "optimizer = torch.optim.Adam(model_1L.parameters(), lr=LR)"
   ]
  },
  {
   "cell_type": "markdown",
   "metadata": {},
   "source": [
    "## Decoder 2L"
   ]
  },
  {
   "cell_type": "code",
   "execution_count": 5,
   "metadata": {},
   "outputs": [],
   "source": [
    "#############################################################################################################\n",
    "###\n",
    "# PYTORCH DOCUMENTATION EXAMPLE\n",
    "# TUTORIAL USED: #https://github.com/MorvanZhou/PyTorch-Tutorial/blob/master/tutorial-contents/404_autoencoder.py\n",
    "###\n",
    "#### HYPER PARAMS\n",
    "LR = 0.0005         # learning rate\n",
    "N_TEST_IMG = 5\n",
    "\n",
    "class Decoder_2L(nn.Module):\n",
    "    def __init__(self):\n",
    "        super(Decoder_2L, self).__init__()\n",
    "        ###########################\n",
    "        #What is this used for?\n",
    "        #self.map = {}\n",
    "        ###########################\n",
    "        self.fc4 = nn.Linear(2, 50)\n",
    "        self.sig = nn.Sigmoid()\n",
    "        self.fc5 = nn.Linear(50, 784)\n",
    "\n",
    "        \n",
    "    def decode(self, z):\n",
    "        out=self.fc4(z)\n",
    "        out2=self.sig(out)\n",
    "        out3=self.fc5(out2)\n",
    "        out4=self.sig(out3)\n",
    "        return out4\n",
    "    \n",
    "    def forward(self, x):\n",
    "        encoded = x\n",
    "        #decoded= x\n",
    "        decoded = self.decode(encoded)\n",
    "        return encoded, decoded\n",
    "    \n",
    "    \n",
    "### INITALIZE MODEL PARAMS\n",
    "model_2L = Decoder_2L()\n",
    "optimizer_2L = torch.optim.Adam(model_2L.parameters(), lr=LR)"
   ]
  },
  {
   "cell_type": "markdown",
   "metadata": {},
   "source": [
    "## Decoder 1L6D"
   ]
  },
  {
   "cell_type": "code",
   "execution_count": 6,
   "metadata": {},
   "outputs": [],
   "source": [
    "#############################################################################################################\n",
    "###\n",
    "# PYTORCH DOCUMENTATION EXAMPLE\n",
    "# TUTORIAL USED: #https://github.com/MorvanZhou/PyTorch-Tutorial/blob/master/tutorial-contents/404_autoencoder.py\n",
    "###\n",
    "#### HYPER PARAMS\n",
    "LR = 0.0005         # learning rate\n",
    "N_TEST_IMG = 5\n",
    "\n",
    "class Decoder_1L6D(nn.Module):\n",
    "    def __init__(self):\n",
    "        super(Decoder_1L6D, self).__init__()\n",
    "        ###########################\n",
    "        #What is this used for?\n",
    "        #self.map = {}\n",
    "        ###########################\n",
    "        self.fc4 = nn.Linear(6, 784)\n",
    "\n",
    "        \n",
    "    def decode(self, z):\n",
    "        out=self.fc4(z)\n",
    "        return torch.sigmoid(out)\n",
    "    \n",
    "    def forward(self, x):\n",
    "        encoded = x\n",
    "        #decoded= x\n",
    "        decoded = self.decode(encoded)\n",
    "        return encoded, decoded\n",
    "    \n",
    "    \n",
    "### INITALIZE MODEL PARAMS\n",
    "model_1L6D = Decoder_1L6D()\n",
    "optimizer = torch.optim.Adam(model_1L6D.parameters(), lr=LR)"
   ]
  },
  {
   "cell_type": "markdown",
   "metadata": {},
   "source": [
    "## AE"
   ]
  },
  {
   "cell_type": "code",
   "execution_count": 7,
   "metadata": {},
   "outputs": [],
   "source": [
    "#############################################################################################################\n",
    "###\n",
    "# PYTORCH DOCUMENTATION EXAMPLE\n",
    "# TUTORIAL USED: #https://github.com/MorvanZhou/PyTorch-Tutorial/blob/master/tutorial-contents/404_autoencoder.py\n",
    "###\n",
    "#### HYPER PARAMS\n",
    "LR = 0.0005         # learning rate\n",
    "\n",
    "class AE_1L6D(nn.Module):\n",
    "    def __init__(self):\n",
    "        super(AE_1L6D, self).__init__()\n",
    "        ###########################\n",
    "        #What is this used for?\n",
    "        #self.map = {}\n",
    "        ###########################\n",
    "        self.fw4 = nn.Linear(784, 6)\n",
    "        self.bc4 = nn.Linear(6, 784)\n",
    "        \n",
    "    def encode(self, z):\n",
    "        enc=self.fw4(z)\n",
    "        return torch.sigmoid(enc)\n",
    "        \n",
    "    \n",
    "    def decode(self, z):\n",
    "        out=self.bc4(z)\n",
    "        return torch.sigmoid(out)\n",
    "    \n",
    "\n",
    "    def forward(self, x):\n",
    "        encoded = self.encode(x)\n",
    "        decoded = self.decode(encoded)\n",
    "        return encoded, decoded\n",
    "### INITALIZE MODEL PARAMS\n",
    "model_AE1 = AE_1L6D()\n",
    "optimizer = torch.optim.Adam(model_AE1.parameters(), lr=LR)"
   ]
  },
  {
   "cell_type": "markdown",
   "metadata": {},
   "source": [
    "# Functions"
   ]
  },
  {
   "cell_type": "code",
   "execution_count": 8,
   "metadata": {},
   "outputs": [],
   "source": [
    "def loss_function(recon_x, x):\n",
    "    BCE = F.binary_cross_entropy(recon_x, x, reduction='sum')\n",
    "    return(BCE)\n",
    "def decode_loader(data, batch_size):\n",
    "    perm = torch.randperm(data.size(0))\n",
    "    idx = perm[:batch_size]\n",
    "    batch=data[idx]\n",
    "    return(batch)"
   ]
  },
  {
   "cell_type": "markdown",
   "metadata": {},
   "source": [
    "# Data Generation"
   ]
  },
  {
   "cell_type": "markdown",
   "metadata": {
    "heading_collapsed": true
   },
   "source": [
    "## Pull Indices and Labels"
   ]
  },
  {
   "cell_type": "code",
   "execution_count": 9,
   "metadata": {
    "hidden": true
   },
   "outputs": [],
   "source": [
    "def get_images(img_return_cnt,labels_raw, data_raw):\n",
    "    found=False\n",
    "    img_agg_cnt=np.zeros(10)\n",
    "    img_return_cnt=np.array(img_return_cnt)\n",
    "    i=0\n",
    "    labels=[]\n",
    "    indices=[]\n",
    "    while found==False and 70000>i:\n",
    "        target=labels_raw[i]\n",
    "        index=int(labels_raw[i].data)\n",
    "        if np.dot(np.subtract(img_agg_cnt, img_return_cnt),np.ones(10))==0:\n",
    "            found=True\n",
    "        else:\n",
    "            if img_agg_cnt[index] < img_return_cnt[index]:\n",
    "                img_agg_cnt[index]+=1\n",
    "                indices.append(i)\n",
    "        i+=1\n",
    "    return(indices)"
   ]
  },
  {
   "cell_type": "markdown",
   "metadata": {
    "heading_collapsed": true
   },
   "source": [
    "## Gen Random Embeddings"
   ]
  },
  {
   "cell_type": "code",
   "execution_count": 10,
   "metadata": {
    "hidden": true
   },
   "outputs": [],
   "source": [
    "def gen_rand_data(img_return_cnt,labels_raw, data_raw,Rdim):\n",
    "    #num_img_type= scalar= equal to the number of image categories\n",
    "    #img_return_cnt = array = index of array is the image type and value is sample size for image type\n",
    "    #example_data = data loader data in form: batch_idx, (example_data, example_targets) \n",
    "    #max_i= data size\n",
    "    #Rdim= vector dimension for rand generation\n",
    "    #img_return_cnt = array = index of array is the image type and value is sample size for image type\n",
    "    found=False\n",
    "    img_agg_cnt=np.zeros(10)\n",
    "    img_return_cnt=np.array(img_return_cnt)\n",
    "    i=0\n",
    "    first=True\n",
    "    labels=[]\n",
    "    indices=[]\n",
    "    while found==False and 70000>i:\n",
    "        target=labels_raw[i]\n",
    "        index=int(labels_raw[i].data)\n",
    "        if np.dot(np.subtract(img_agg_cnt, img_return_cnt),np.ones(10))==0:\n",
    "            found=True\n",
    "        else:\n",
    "            if img_agg_cnt[index] < img_return_cnt[index]:\n",
    "                labels.append(target.item())\n",
    "                datum=data_raw[i].view(-1,28*28)\n",
    "                img_agg_cnt[index]+=1\n",
    "                indices.append(i)\n",
    "                if first==True:\n",
    "                    x_tensor=datum\n",
    "                    randEnc_tensor=torch.rand(1, Rdim)\n",
    "                    first=False \n",
    "                else:\n",
    "                    omega=torch.rand(1, Rdim)\n",
    "                    x_tensor=torch.cat((x_tensor,datum),0)\n",
    "                    randEnc_tensor=torch.cat((randEnc_tensor,omega),0)\n",
    "        i+=1\n",
    "    data = rgenData(randEnc_tensor, x_tensor)\n",
    "    return(data, labels, indices)"
   ]
  },
  {
   "cell_type": "markdown",
   "metadata": {},
   "source": [
    "## Create RandEmbedding with Image Index"
   ]
  },
  {
   "cell_type": "code",
   "execution_count": 11,
   "metadata": {},
   "outputs": [],
   "source": [
    "def get_randenc_byindex(indices, labels_raw, data_raw,Rdim):\n",
    "    #num_img_type= scalar= equal to the number of image categories\n",
    "    #img_return_cnt = array = index of array is the image type and value is sample size for image type\n",
    "    #example_data = data loader data in form: batch_idx, (example_data, example_targets) \n",
    "    #max_i= data size\n",
    "    #Rdim= vector dimension for rand generation\n",
    "    #img_return_cnt = array = index of array is the image type and value is sample size for image type\n",
    "    i=0\n",
    "    cnt=len(indices)\n",
    "    labels=[]\n",
    "    datum=data_raw[indices[0]].view(-1,28*28)\n",
    "    x_tensor=datum\n",
    "    randEnc_tensor=torch.rand(1, Rdim)\n",
    "    labels.append(labels_raw[0])\n",
    "    for i in range(1,len(indices)):\n",
    "        index=indices[i]\n",
    "        labels.append(labels_raw[index])\n",
    "        datum=data_raw[index].view(-1,28*28)\n",
    "        omega=torch.rand(1, Rdim)\n",
    "        x_tensor=torch.cat((x_tensor,datum),0)\n",
    "        randEnc_tensor=torch.cat((randEnc_tensor,omega),0)\n",
    "    data = rgenData(randEnc_tensor, x_tensor)\n",
    "    return(data, labels)"
   ]
  },
  {
   "cell_type": "markdown",
   "metadata": {
    "heading_collapsed": true
   },
   "source": [
    "## Gen Dataset Given Image Index & Array of Embedding"
   ]
  },
  {
   "cell_type": "code",
   "execution_count": 12,
   "metadata": {
    "hidden": true
   },
   "outputs": [],
   "source": [
    "def get_enc_img(indices,labels_raw, data_raw,embedding):\n",
    "    #num_img_type= scalar= equal to the number of image categories\n",
    "    #img_return_cnt = array = index of array is the image type and value is sample size for image type\n",
    "    #example_data = data loader data in form: batch_idx, (example_data, example_targets) \n",
    "    #max_i= data size\n",
    "    #Rdim= vector dimension for rand generation\n",
    "    #img_return_cnt = array = index of array is the image type and value is sample size for image type\n",
    "    i=0\n",
    "    cnt=len(indices)\n",
    "    labels=[]\n",
    "    datum=data_raw[indices[0]].view(-1,28*28)\n",
    "    x_tensor=datum\n",
    "    randEnc_tensor=torch.tensor(embedding[0], dtype=torch.float)\n",
    "    labels.append(labels_raw[0])\n",
    "    for i in range(1,len(indices)):\n",
    "        index=indices[i]\n",
    "        labels.append(labels_raw[index])\n",
    "        datum=data_raw[index].view(-1,28*28)\n",
    "        omega=torch.tensor(embedding[i], dtype=torch.float)\n",
    "        x_tensor=torch.cat((x_tensor,datum),0)\n",
    "        randEnc_tensor=torch.cat((randEnc_tensor,omega),0)\n",
    "    data = rgenData(randEnc_tensor, x_tensor)\n",
    "    return(data, labels)"
   ]
  },
  {
   "cell_type": "markdown",
   "metadata": {},
   "source": [
    "# Models"
   ]
  },
  {
   "cell_type": "markdown",
   "metadata": {},
   "source": [
    "## 1L Model"
   ]
  },
  {
   "cell_type": "code",
   "execution_count": 13,
   "metadata": {},
   "outputs": [],
   "source": [
    "def train_1L(epoch, data, size,log_interval=10):\n",
    "    model_1L= Decoder_1L()\n",
    "    optimizer = torch.optim.Adam(model_1L.parameters(), lr=LR)\n",
    "    train_loss = 0\n",
    "    optimizer.zero_grad()\n",
    "    lossvec=[]\n",
    "    lossvec_cnt=[]\n",
    "    cnt=0\n",
    "    for i in range(1, epoch):\n",
    "        if i%10000==0:\n",
    "            print(i)\n",
    "        for j in range(0,size):\n",
    "            x=data.x[j]\n",
    "            randEnc=data.randEnc[j]\n",
    "            cnt+=1\n",
    "            encoded, decoded = model_1L.forward(randEnc)\n",
    "            loss = loss_function(decoded, x)\n",
    "            loss.backward()\n",
    "            train_loss += loss.item()\n",
    "            optimizer.step()\n",
    "            '''\n",
    "            if batch_idx % log_interval == 0:\n",
    "                print('Train Epoch: {} [{}/{} ({:.0f}%)]\\tLoss: {:.6f}'.format(\n",
    "                    i, batch_idx * len(x), len(train_loader.dataset),\n",
    "                    100. * batch_idx / len(train_loader),\n",
    "                    loss.item() / len(x)))\n",
    "            '''\n",
    "        lossvec.append(train_loss / (size*i))\n",
    "        lossvec_cnt.append(i)\n",
    "        \n",
    "    return (lossvec, lossvec_cnt,model_1L)"
   ]
  },
  {
   "cell_type": "markdown",
   "metadata": {},
   "source": [
    "## 2L Model"
   ]
  },
  {
   "cell_type": "code",
   "execution_count": 14,
   "metadata": {},
   "outputs": [],
   "source": [
    "def train_2L(epoch, log_interval=10):\n",
    "    model_2L= Decoder_2L()\n",
    "    optimizer = torch.optim.Adam(model_2L.parameters(), lr=LR)\n",
    "    train_loss = 0\n",
    "    optimizer.zero_grad()\n",
    "    lossvec=[]\n",
    "    lossvec_cnt=[]\n",
    "    cnt=0\n",
    "    for i in range(1, epoch):\n",
    "        for batch_idx, (randEnc, x) in enumerate(train_loader):\n",
    "            if i%200000==0:\n",
    "                print(i)\n",
    "            cnt+=1\n",
    "            encoded, decoded = model_2L(randEnc)\n",
    "            loss = loss_function(decoded, x)\n",
    "            loss.backward()\n",
    "            train_loss += loss.item()\n",
    "            optimizer.step()\n",
    "            '''\n",
    "            if batch_idx % log_interval == 0:\n",
    "                print('Train Epoch: {} [{}/{} ({:.0f}%)]\\tLoss: {:.6f}'.format(\n",
    "                    i, batch_idx * len(x), len(train_loader.dataset),\n",
    "                    100. * batch_idx / len(train_loader),\n",
    "                    loss.item() / len(x)))\n",
    "            '''\n",
    "        lossvec.append(train_loss / (len(train_loader.dataset)*i))\n",
    "        lossvec_cnt.append(i)\n",
    "        \n",
    "    return (lossvec, lossvec_cnt, model_2L)"
   ]
  },
  {
   "cell_type": "markdown",
   "metadata": {},
   "source": [
    "## 1L6D Model"
   ]
  },
  {
   "cell_type": "code",
   "execution_count": 15,
   "metadata": {},
   "outputs": [],
   "source": [
    "def train_1L6D(epoch, data, size,log_interval=10):\n",
    "    model_1L6D= Decoder_1L6D()\n",
    "    optimizer = torch.optim.Adam(model_1L6D.parameters(), lr=LR)\n",
    "    train_loss = 0\n",
    "    optimizer.zero_grad()\n",
    "    lossvec=[]\n",
    "    lossvec_cnt=[]\n",
    "    cnt=0\n",
    "    for i in range(1, epoch):\n",
    "        if i%10000==0:\n",
    "            print(i)\n",
    "        for j in range(0,size):\n",
    "            x=data.x[j]\n",
    "            randEnc=data.randEnc[j]\n",
    "            cnt+=1\n",
    "            encoded, decoded = model_1L6D.forward(randEnc)\n",
    "            loss = loss_function(decoded, x)\n",
    "            loss.backward()\n",
    "            train_loss += loss.item()\n",
    "            optimizer.step()\n",
    "            '''\n",
    "            if batch_idx % log_interval == 0:\n",
    "                print('Train Epoch: {} [{}/{} ({:.0f}%)]\\tLoss: {:.6f}'.format(\n",
    "                    i, batch_idx * len(x), len(train_loader.dataset),\n",
    "                    100. * batch_idx / len(train_loader),\n",
    "                    loss.item() / len(x)))\n",
    "            '''\n",
    "        lossvec.append(train_loss / (size*i))\n",
    "        lossvec_cnt.append(i)\n",
    "        \n",
    "    return (lossvec, lossvec_cnt,model_1L6D)"
   ]
  },
  {
   "cell_type": "markdown",
   "metadata": {},
   "source": [
    "## AE1L6D Model"
   ]
  },
  {
   "cell_type": "code",
   "execution_count": 16,
   "metadata": {},
   "outputs": [],
   "source": [
    "def train_AE1(epoch, data, size,log_interval=10):\n",
    "    model_AE1 = AE_1L6D()\n",
    "    optimizer = torch.optim.Adam(model_AE1.parameters(), lr=LR)\n",
    "    train_loss = 0\n",
    "    optimizer.zero_grad()\n",
    "    lossvec=[]\n",
    "    lossvec_cnt=[]\n",
    "    cnt=0\n",
    "    encoding=[]\n",
    "    for i in range(1, epoch):\n",
    "        if i%100000==0:\n",
    "            print(i)\n",
    "        for j in range(0,size):\n",
    "            x=data.x[j]\n",
    "            cnt+=1\n",
    "            encoded, decoded = model_AE1.forward(x)\n",
    "            encoding.append(encoded)\n",
    "            loss = loss_function(decoded, x)\n",
    "            loss.backward()\n",
    "            train_loss += loss.item()\n",
    "            optimizer.step()\n",
    "            '''\n",
    "            if batch_idx % log_interval == 0:\n",
    "                print('Train Epoch: {} [{}/{} ({:.0f}%)]\\tLoss: {:.6f}'.format(\n",
    "                    i, batch_idx * len(x), len(train_loader.dataset),\n",
    "                    100. * batch_idx / len(train_loader),\n",
    "                    loss.item() / len(x)))\n",
    "            '''\n",
    "        lossvec.append(train_loss / (size*i))\n",
    "        lossvec_cnt.append(i)\n",
    "        \n",
    "    return (lossvec, lossvec_cnt,model_AE1)"
   ]
  },
  {
   "cell_type": "markdown",
   "metadata": {
    "heading_collapsed": true
   },
   "source": [
    "# Plotting"
   ]
  },
  {
   "cell_type": "code",
   "execution_count": 17,
   "metadata": {
    "hidden": true
   },
   "outputs": [],
   "source": [
    "def x_xd_plot_compare(data,model,instances): \n",
    "    rows=instances\n",
    "    cols=2\n",
    "    Rdim=data[0][0].shape\n",
    "    Rdim=Rdim[0]\n",
    "    tot=int(instances)*cols\n",
    "    fig = plt.figure(figsize=(rows, rows))\n",
    "    plt.tight_layout() \n",
    "    # plot with various axes scales\n",
    "    loc=0\n",
    "    fig.subplots_adjust(hspace=.5)\n",
    "    case=0\n",
    "    while case<(rows):\n",
    "        # linear\n",
    "        loc+=1\n",
    "        tensor=data[case][1].view(28,28)      \n",
    "        tensor_d=model.decode(data[case][0])\n",
    "        tensor_d=tensor_d.view(28,28)\n",
    "        plt.subplot(rows, cols, loc).axis('off')\n",
    "        plt.imshow(tensor.detach().numpy(),cmap='gray')\n",
    "        plt.title(str(case))\n",
    "\n",
    "        loc+=1\n",
    "        # log\n",
    "        plt.subplot(rows, cols, loc).axis('off')\n",
    "        plt.imshow(tensor_d.detach().numpy(),cmap='gray')\n",
    "        plt.title(str(case))\n",
    "\n",
    "\n",
    "        if case==0:\n",
    "            exp_tensor=data[case][1]\n",
    "            exp_tensor_d=model.decode(data[case][0])\n",
    "            exp_omega=data[case][0]\n",
    "        else:\n",
    "            exp_tensor=torch.cat((exp_tensor,data[case][1]),0)\n",
    "            exp_tensor_d=torch.cat((exp_tensor_d,model.decode(data[case][0])),0)\n",
    "            exp_omega=torch.cat((exp_omega, data[case][0]),0)\n",
    "        case+=1\n",
    "\n",
    "    plt.show()\n",
    "    return(exp_tensor.view(instances,784),exp_tensor_d.view(instances,784),exp_omega.view(instances,Rdim))"
   ]
  },
  {
   "cell_type": "markdown",
   "metadata": {},
   "source": [
    "# Experiments"
   ]
  },
  {
   "cell_type": "markdown",
   "metadata": {},
   "source": [
    "## Import MNIST Data"
   ]
  },
  {
   "cell_type": "code",
   "execution_count": 21,
   "metadata": {},
   "outputs": [
    {
     "name": "stdout",
     "output_type": "stream",
     "text": [
      "C:\\Users\\clair\\scikit_learn_data\n",
      "torch.Size([70000, 784])\n"
     ]
    }
   ],
   "source": [
    "labelset, dataset=gen_mnist()"
   ]
  },
  {
   "cell_type": "markdown",
   "metadata": {
    "heading_collapsed": true
   },
   "source": [
    "## Experiment #1- RandEnc and Select Images"
   ]
  },
  {
   "cell_type": "markdown",
   "metadata": {
    "hidden": true
   },
   "source": [
    "### Run Code"
   ]
  },
  {
   "cell_type": "code",
   "execution_count": 15,
   "metadata": {
    "hidden": true
   },
   "outputs": [
    {
     "name": "stdout",
     "output_type": "stream",
     "text": [
      "[0, 1, 5923, 5924]\n"
     ]
    }
   ],
   "source": [
    "img_return_cnt=np.zeros(10)\n",
    "img_return_cnt[0]=2\n",
    "img_return_cnt[1]=2\n",
    "img_return_cnt[2]=0\n",
    "img_return_cnt[3]=0\n",
    "img_return_cnt[4]=0\n",
    "img_return_cnt[5]=0\n",
    "img_return_cnt[6]=0\n",
    "img_return_cnt[7]=0\n",
    "img_return_cnt[8]=0\n",
    "img_return_cnt[9]=0\n",
    "rdim=2\n",
    "batch_size=4\n",
    "data, labels, indices=gen_rand_data(img_return_cnt,labelset, dataset,rdim)\n",
    "print(indices)"
   ]
  },
  {
   "cell_type": "code",
   "execution_count": 18,
   "metadata": {
    "hidden": true
   },
   "outputs": [
    {
     "name": "stdout",
     "output_type": "stream",
     "text": [
      "--- train mins %---\n",
      "0.15164364178975423\n"
     ]
    }
   ],
   "source": [
    "EPOCH=5000\n",
    "size=4\n",
    "start_time = time.time()\n",
    "lossvec, lossvec_cnt, model=train_1L(EPOCH,data,size) \n",
    "print('--- train mins %---')\n",
    "print((time.time() - start_time)/60)\n",
    "######################################\n",
    "\n",
    "###########################################################################################\n",
    "####   UPDATE INPUTS\n",
    "####\n",
    "\n",
    "exp1_lossvec=lossvec\n",
    "exp1_lossvec_cnt=lossvec_cnt\n",
    "exp1_labels=labels\n",
    "exp1_model=model"
   ]
  },
  {
   "cell_type": "markdown",
   "metadata": {
    "hidden": true
   },
   "source": [
    "### Plot Results"
   ]
  },
  {
   "cell_type": "code",
   "execution_count": 19,
   "metadata": {
    "hidden": true
   },
   "outputs": [
    {
     "data": {
      "image/png": "[encoded data removed]",
      "text/plain": [
       "<Figure size 288x288 with 8 Axes>"
      ]
     },
     "metadata": {
      "needs_background": "light"
     },
     "output_type": "display_data"
    },
    {
     "data": {
      "image/png": "[encoded data removed]",
      "text/plain": [
       "<Figure size 432x288 with 1 Axes>"
      ]
     },
     "metadata": {
      "needs_background": "light"
     },
     "output_type": "display_data"
    }
   ],
   "source": [
    "exp1_tensor, exp1_tensor_d, exp1_omega=x_xd_plot_compare(data,model,size)\n",
    "omega=exp1_omega\n",
    "label=exp1_labels\n",
    "\n",
    "\n",
    "title='Epochs: '+str(EPOCH)+ ' --- Encoding Dimension: '+str(rdim) \n",
    "df_omega=pd.DataFrame(omega.numpy(),columns=['x','y'])\n",
    "\n",
    "plt.scatter('x', 'y', data=df_omega, marker='o', c=label)\n",
    "plt.title(title)\n",
    "for i in range(0,len(label)):\n",
    "    txt=str(i)\n",
    "    plt.annotate(txt, (df_omega['x'][i], df_omega['y'][i]))"
   ]
  },
  {
   "cell_type": "markdown",
   "metadata": {
    "heading_collapsed": true
   },
   "source": [
    "## Experiment #2- RandEnc Specified Images"
   ]
  },
  {
   "cell_type": "markdown",
   "metadata": {
    "hidden": true
   },
   "source": [
    "### Run Code"
   ]
  },
  {
   "cell_type": "code",
   "execution_count": 25,
   "metadata": {
    "hidden": true
   },
   "outputs": [
    {
     "name": "stdout",
     "output_type": "stream",
     "text": [
      "[0, 1, 5923, 5924]\n"
     ]
    }
   ],
   "source": [
    "indices=[0, 1, 5923, 5924]\n",
    "data_2, labels_2= get_randenc_byindex(indices,labelset, dataset,rdim)\n",
    "print(indices)"
   ]
  },
  {
   "cell_type": "code",
   "execution_count": 26,
   "metadata": {
    "hidden": true
   },
   "outputs": [
    {
     "data": {
      "text/plain": [
       "torch.Size([784])"
      ]
     },
     "execution_count": 26,
     "metadata": {},
     "output_type": "execute_result"
    }
   ],
   "source": [
    "data_2.x[0].shape"
   ]
  },
  {
   "cell_type": "code",
   "execution_count": 27,
   "metadata": {
    "hidden": true
   },
   "outputs": [
    {
     "name": "stdout",
     "output_type": "stream",
     "text": [
      "--- train mins %---\n",
      "0.1469399094581604\n"
     ]
    }
   ],
   "source": [
    "EPOCH=5000\n",
    "size=4\n",
    "start_time = time.time()\n",
    "lossvec, lossvec_cnt, model=train_1L(EPOCH,data_2,size) \n",
    "print('--- train mins %---')\n",
    "print((time.time() - start_time)/60)\n",
    "######################################\n",
    "\n",
    "###########################################################################################\n",
    "####   UPDATE INPUTS\n",
    "####\n",
    "\n",
    "exp2_lossvec=lossvec\n",
    "exp2_lossvec_cnt=lossvec_cnt\n",
    "exp2_labels=labels\n",
    "exp2_model=model"
   ]
  },
  {
   "cell_type": "markdown",
   "metadata": {
    "hidden": true
   },
   "source": [
    "### Plot Results"
   ]
  },
  {
   "cell_type": "code",
   "execution_count": 28,
   "metadata": {
    "hidden": true
   },
   "outputs": [
    {
     "data": {
      "image/png": "[encoded data removed]",
      "text/plain": [
       "<Figure size 288x288 with 8 Axes>"
      ]
     },
     "metadata": {
      "needs_background": "light"
     },
     "output_type": "display_data"
    },
    {
     "data": {
      "image/png": "[encoded data removed]",
      "text/plain": [
       "<Figure size 432x288 with 1 Axes>"
      ]
     },
     "metadata": {
      "needs_background": "light"
     },
     "output_type": "display_data"
    }
   ],
   "source": [
    "###############################################################################################################################\n",
    "## UPDATE\n",
    "exp2_tensor, exp2_tensor_d, exp2_omega=x_xd_plot_compare(data_2,model,size)\n",
    "omega=exp2_omega\n",
    "label=exp2_labels\n",
    "\n",
    "###############################################################################################################################\n",
    "title='Epochs: '+str(EPOCH)+ ' --- Encoding Dimension: '+str(rdim) \n",
    "df_omega=pd.DataFrame(omega.numpy(),columns=['x','y'])\n",
    "\n",
    "plt.scatter('x', 'y', data=df_omega, marker='o', c=label)\n",
    "plt.title(title)\n",
    "for i in range(0,len(label)):\n",
    "    txt=str(i)\n",
    "    plt.annotate(txt, (df_omega['x'][i], df_omega['y'][i]))"
   ]
  },
  {
   "cell_type": "markdown",
   "metadata": {},
   "source": [
    "## Experiment #3- Specific Encodings And Images"
   ]
  },
  {
   "cell_type": "markdown",
   "metadata": {},
   "source": [
    "### Run Code"
   ]
  },
  {
   "cell_type": "code",
   "execution_count": 51,
   "metadata": {},
   "outputs": [],
   "source": [
    "embedding=np.matrix([[1, -1, 1, -1, 1, -1, 1, -1, 1, -1, 1, -1, 1, -1, 1, -1],\n",
    "[1, 1, -1, -1, 1, 1, -1, -1, 1, 1, -1, -1, 1, 1, -1, -1],\n",
    "[1, -1, -1, 1, 1, -1, -1, 1, 1, -1, -1, 1, 1, -1, -1, 1],\n",
    "[1, -1, 1, -1, -1, 1, -1, 1, 1, -1, 1, -1, -1, 1, -1, 1],\n",
    "[1, 1, -1, -1, 1, 1, -1, -1, -1, -1, 1, 1, -1, -1, 1, 1],\n",
    "[1, -1, -1, -1,-1, 1, 1, -1, -1, 1, 1, -1, 1, -1, -1, 1]])\n",
    "embedding=embedding.transpose()"
   ]
  },
  {
   "cell_type": "code",
   "execution_count": 52,
   "metadata": {},
   "outputs": [],
   "source": [
    "img_return_cnt=np.zeros(10)\n",
    "img_return_cnt[0]=8\n",
    "img_return_cnt[1]=8\n",
    "img_return_cnt[2]=0\n",
    "img_return_cnt[3]=0\n",
    "img_return_cnt[4]=0\n",
    "img_return_cnt[5]=0\n",
    "img_return_cnt[6]=0\n",
    "img_return_cnt[7]=0\n",
    "img_return_cnt[8]=0\n",
    "img_return_cnt[9]=0"
   ]
  },
  {
   "cell_type": "code",
   "execution_count": 53,
   "metadata": {},
   "outputs": [],
   "source": [
    "indices=get_images(img_return_cnt,labelset, dataset)"
   ]
  },
  {
   "cell_type": "code",
   "execution_count": 54,
   "metadata": {},
   "outputs": [
    {
     "name": "stdout",
     "output_type": "stream",
     "text": [
      "[0, 1, 2, 3, 4, 5, 6, 7, 5923, 5924, 5925, 5926, 5927, 5928, 5929, 5930]\n"
     ]
    }
   ],
   "source": [
    "print(indices)"
   ]
  },
  {
   "cell_type": "code",
   "execution_count": 55,
   "metadata": {},
   "outputs": [],
   "source": [
    "data_3, labels_3=get_enc_img(indices,labelset, dataset,embedding)"
   ]
  },
  {
   "cell_type": "code",
   "execution_count": 56,
   "metadata": {},
   "outputs": [
    {
     "name": "stdout",
     "output_type": "stream",
     "text": [
      "[tensor(0., dtype=torch.float64), tensor(0., dtype=torch.float64), tensor(0., dtype=torch.float64), tensor(0., dtype=torch.float64), tensor(0., dtype=torch.float64), tensor(0., dtype=torch.float64), tensor(0., dtype=torch.float64), tensor(0., dtype=torch.float64), tensor(1., dtype=torch.float64), tensor(1., dtype=torch.float64), tensor(1., dtype=torch.float64), tensor(1., dtype=torch.float64), tensor(1., dtype=torch.float64), tensor(1., dtype=torch.float64), tensor(1., dtype=torch.float64), tensor(1., dtype=torch.float64)]\n",
      "torch.Size([784])\n",
      "torch.Size([6])\n"
     ]
    }
   ],
   "source": [
    "print(labels_3)\n",
    "print(data_3.x[0].shape)\n",
    "print(data_3.randEnc[0].shape)"
   ]
  },
  {
   "cell_type": "code",
   "execution_count": 57,
   "metadata": {},
   "outputs": [
    {
     "name": "stdout",
     "output_type": "stream",
     "text": [
      "10000\n",
      "20000\n",
      "30000\n",
      "40000\n",
      "50000\n",
      "60000\n",
      "70000\n",
      "80000\n",
      "90000\n",
      "100000\n",
      "110000\n",
      "120000\n",
      "130000\n",
      "140000\n",
      "150000\n",
      "160000\n",
      "170000\n",
      "180000\n",
      "190000\n",
      "200000\n",
      "210000\n",
      "220000\n",
      "230000\n",
      "240000\n",
      "250000\n",
      "260000\n",
      "270000\n",
      "280000\n",
      "290000\n",
      "300000\n",
      "310000\n",
      "320000\n",
      "330000\n",
      "340000\n",
      "350000\n",
      "360000\n",
      "370000\n",
      "380000\n",
      "390000\n",
      "400000\n",
      "410000\n",
      "420000\n",
      "430000\n",
      "440000\n",
      "450000\n",
      "460000\n",
      "470000\n",
      "480000\n",
      "490000\n",
      "500000\n",
      "510000\n",
      "520000\n",
      "530000\n",
      "540000\n",
      "550000\n",
      "560000\n",
      "570000\n",
      "580000\n",
      "590000\n",
      "600000\n",
      "610000\n",
      "620000\n",
      "630000\n",
      "640000\n",
      "650000\n",
      "660000\n",
      "670000\n",
      "680000\n",
      "690000\n",
      "700000\n",
      "710000\n",
      "720000\n",
      "730000\n",
      "740000\n",
      "750000\n",
      "760000\n",
      "770000\n",
      "780000\n",
      "790000\n",
      "800000\n",
      "810000\n",
      "820000\n",
      "830000\n",
      "840000\n",
      "850000\n",
      "860000\n",
      "870000\n",
      "880000\n",
      "890000\n",
      "900000\n",
      "910000\n",
      "920000\n",
      "930000\n",
      "940000\n",
      "950000\n",
      "960000\n",
      "970000\n",
      "980000\n",
      "990000\n",
      "--- train mins %---\n",
      "145.79423181613285\n"
     ]
    }
   ],
   "source": [
    "EPOCH=1000000\n",
    "size=16\n",
    "start_time = time.time()\n",
    "lossvec, lossvec_cnt, model=train_1L6D(EPOCH,data_3,size) \n",
    "print('--- train mins %---')\n",
    "print((time.time() - start_time)/60)\n",
    "######################################\n",
    "\n",
    "###########################################################################################\n",
    "####   UPDATE INPUTS\n",
    "####\n",
    "\n",
    "exp3_lossvec=lossvec\n",
    "exp3_lossvec_cnt=lossvec_cnt\n",
    "exp3_labels=labels\n",
    "exp3_model=model"
   ]
  },
  {
   "cell_type": "markdown",
   "metadata": {},
   "source": [
    "### Plot Results"
   ]
  },
  {
   "cell_type": "code",
   "execution_count": 58,
   "metadata": {},
   "outputs": [
    {
     "data": {
      "image/png": "[encoded data removed]",
      "text/plain": [
       "<Figure size 1152x1152 with 32 Axes>"
      ]
     },
     "metadata": {
      "needs_background": "light"
     },
     "output_type": "display_data"
    }
   ],
   "source": [
    "###############################################################################################################################\n",
    "## UPDATE\n",
    "exp3_tensor, exp3_tensor_d, exp3_omega=x_xd_plot_compare(data_3,model,size)\n",
    "omega=exp3_omega\n",
    "label=exp3_labels"
   ]
  },
  {
   "cell_type": "markdown",
   "metadata": {},
   "source": [
    "## Experiment #4- Random Encodings And Specific Images-6D"
   ]
  },
  {
   "cell_type": "markdown",
   "metadata": {
    "heading_collapsed": true
   },
   "source": [
    "### Run Code"
   ]
  },
  {
   "cell_type": "code",
   "execution_count": 23,
   "metadata": {
    "hidden": true
   },
   "outputs": [],
   "source": [
    "indices=[0, 1, 2, 3, 4, 5, 6, 7, 5923, 5924, 5925, 5926, 5927, 5928, 5929, 5930]"
   ]
  },
  {
   "cell_type": "code",
   "execution_count": 30,
   "metadata": {
    "hidden": true
   },
   "outputs": [],
   "source": [
    "data_4, labels_4=get_randenc_byindex(indices, labelset, dataset,6)"
   ]
  },
  {
   "cell_type": "code",
   "execution_count": 45,
   "metadata": {
    "hidden": true
   },
   "outputs": [
    {
     "name": "stdout",
     "output_type": "stream",
     "text": [
      "10000\n",
      "20000\n",
      "30000\n",
      "40000\n",
      "50000\n",
      "60000\n",
      "70000\n",
      "80000\n",
      "90000\n",
      "100000\n",
      "110000\n",
      "120000\n",
      "130000\n",
      "140000\n",
      "150000\n",
      "160000\n",
      "170000\n",
      "180000\n",
      "190000\n",
      "200000\n",
      "210000\n",
      "220000\n",
      "230000\n",
      "240000\n",
      "250000\n",
      "260000\n",
      "270000\n",
      "280000\n",
      "290000\n",
      "300000\n",
      "310000\n",
      "320000\n",
      "330000\n",
      "340000\n",
      "350000\n",
      "360000\n",
      "370000\n",
      "380000\n",
      "390000\n",
      "400000\n",
      "410000\n",
      "420000\n",
      "430000\n",
      "440000\n",
      "450000\n",
      "460000\n",
      "470000\n",
      "480000\n",
      "490000\n",
      "500000\n",
      "510000\n",
      "520000\n",
      "530000\n",
      "540000\n",
      "550000\n",
      "560000\n",
      "570000\n",
      "580000\n",
      "590000\n",
      "600000\n",
      "610000\n",
      "620000\n",
      "630000\n",
      "640000\n",
      "650000\n",
      "660000\n",
      "670000\n",
      "680000\n",
      "690000\n",
      "700000\n",
      "710000\n",
      "720000\n",
      "730000\n",
      "740000\n",
      "750000\n",
      "760000\n",
      "770000\n",
      "780000\n",
      "790000\n",
      "800000\n",
      "810000\n",
      "820000\n",
      "830000\n",
      "840000\n",
      "850000\n",
      "860000\n",
      "870000\n",
      "880000\n",
      "890000\n",
      "900000\n",
      "910000\n",
      "920000\n",
      "930000\n",
      "940000\n",
      "950000\n",
      "960000\n",
      "970000\n",
      "980000\n",
      "990000\n",
      "--- train mins %---\n",
      "144.6289988398552\n"
     ]
    }
   ],
   "source": [
    "EPOCH=1000000\n",
    "size=16\n",
    "start_time = time.time()\n",
    "lossvec, lossvec_cnt, model=train_1L6D(EPOCH,data_4,size) \n",
    "print('--- train mins %---')\n",
    "print((time.time() - start_time)/60)\n",
    "######################################\n",
    "\n",
    "###########################################################################################\n",
    "####   UPDATE INPUTS\n",
    "####\n",
    "\n",
    "exp4_lossvec=lossvec\n",
    "exp4_lossvec_cnt=lossvec_cnt\n",
    "exp4_labels=labels_4\n",
    "exp4_model=model"
   ]
  },
  {
   "cell_type": "markdown",
   "metadata": {},
   "source": [
    "### Plot Results"
   ]
  },
  {
   "cell_type": "code",
   "execution_count": 46,
   "metadata": {},
   "outputs": [
    {
     "data": {
      "image/png": "[encoded data removed]",
      "text/plain": [
       "<Figure size 1152x1152 with 32 Axes>"
      ]
     },
     "metadata": {
      "needs_background": "light"
     },
     "output_type": "display_data"
    }
   ],
   "source": [
    "exp4_tensor, exp4_tensor_d, exp4_omega=x_xd_plot_compare(data_4,model,size)\n",
    "omega=exp4_omega\n",
    "label=exp4_labels"
   ]
  },
  {
   "cell_type": "markdown",
   "metadata": {},
   "source": [
    "## Experiment #5- AE "
   ]
  },
  {
   "cell_type": "markdown",
   "metadata": {},
   "source": [
    "### Run Code"
   ]
  },
  {
   "cell_type": "code",
   "execution_count": 19,
   "metadata": {},
   "outputs": [],
   "source": [
    "indices=[0, 1, 2, 3, 4, 5, 6, 7, 5923, 5924, 5925, 5926, 5927, 5928, 5929, 5930]"
   ]
  },
  {
   "cell_type": "code",
   "execution_count": 22,
   "metadata": {},
   "outputs": [],
   "source": [
    "data_5, labels_5=get_randenc_byindex(indices, labelset, dataset,6)"
   ]
  },
  {
   "cell_type": "code",
   "execution_count": null,
   "metadata": {},
   "outputs": [
    {
     "name": "stdout",
     "output_type": "stream",
     "text": [
      "10000\n",
      "20000\n",
      "30000\n",
      "40000\n",
      "50000\n",
      "60000\n",
      "70000\n",
      "80000\n",
      "90000\n",
      "100000\n",
      "110000\n",
      "120000\n",
      "130000\n",
      "140000\n",
      "150000\n",
      "160000\n",
      "170000\n",
      "180000\n",
      "190000\n",
      "200000\n",
      "210000\n",
      "220000\n",
      "230000\n",
      "240000\n",
      "250000\n",
      "260000\n",
      "270000\n",
      "280000\n",
      "290000\n",
      "300000\n",
      "310000\n",
      "320000\n",
      "330000\n",
      "340000\n",
      "350000\n",
      "360000\n",
      "370000\n",
      "380000\n",
      "390000\n",
      "400000\n",
      "410000\n",
      "420000\n",
      "430000\n",
      "440000\n",
      "450000\n",
      "460000\n",
      "470000\n",
      "480000\n",
      "490000\n",
      "500000\n",
      "510000\n",
      "520000\n"
     ]
    }
   ],
   "source": [
    "EPOCH=1000000\n",
    "size=16\n",
    "start_time = time.time()\n",
    "lossvec, lossvec_cnt, model=train_AE1(EPOCH,data_5,size) \n",
    "print('--- train mins %---')\n",
    "print((time.time() - start_time)/60)\n",
    "print('Final Loss')\n",
    "print(loss_vec[999999])\n",
    "######################################\n",
    "\n",
    "###########################################################################################\n",
    "####   UPDATE INPUTS\n",
    "####\n",
    "\n",
    "exp5_lossvec=lossvec\n",
    "exp5_lossvec_cnt=lossvec_cnt\n",
    "exp5_labels=labels_5\n",
    "exp5_model=model"
   ]
  },
  {
   "cell_type": "markdown",
   "metadata": {},
   "source": [
    "### Plot Results"
   ]
  },
  {
   "cell_type": "code",
   "execution_count": null,
   "metadata": {},
   "outputs": [],
   "source": [
    "###############################################################################################################################\n",
    "## UPDATE\n",
    "exp5_tensor, exp5_tensor_d, exp5_omega=x_xd_plot_compare(data_5,model,size)\n",
    "omega=exp5_omega\n",
    "label=labels_5"
   ]
  }
 ],
 "metadata": {
  "kernelspec": {
   "display_name": "Python 3",
   "language": "python",
   "name": "python3"
  },
  "language_info": {
   "codemirror_mode": {
    "name": "ipython",
    "version": 3
   },
   "file_extension": ".py",
   "mimetype": "text/x-python",
   "name": "python",
   "nbconvert_exporter": "python",
   "pygments_lexer": "ipython3",
   "version": "3.7.0"
  },
  "toc": {
   "base_numbering": 1,
   "nav_menu": {},
   "number_sections": true,
   "sideBar": true,
   "skip_h1_title": false,
   "title_cell": "Table of Contents",
   "title_sidebar": "Contents",
   "toc_cell": false,
   "toc_position": {},
   "toc_section_display": true,
   "toc_window_display": false
  }
 },
 "nbformat": 4,
 "nbformat_minor": 2
}
