{
 "cells": [
  {
   "cell_type": "markdown",
   "metadata": {},
   "source": [
    "# Libraries"
   ]
  },
  {
   "cell_type": "code",
   "execution_count": 3,
   "metadata": {},
   "outputs": [],
   "source": [
    "## import torch\n",
    "import torchvision\n",
    "import torch\n",
    "import torchvision.datasets as datasets\n",
    "import torch.nn as nn\n",
    "import matplotlib.pyplot as plt\n",
    "from mpl_toolkits.mplot3d import Axes3D\n",
    "from matplotlib import cm\n",
    "import numpy as np\n",
    "from torch.nn import functional as F\n",
    "import time\n",
    "import pandas as pd \n",
    "from random import shuffle"
   ]
  },
  {
   "cell_type": "markdown",
   "metadata": {},
   "source": [
    "# Classes"
   ]
  },
  {
   "cell_type": "markdown",
   "metadata": {
    "heading_collapsed": true
   },
   "source": [
    "## Data Loaders"
   ]
  },
  {
   "cell_type": "code",
   "execution_count": 4,
   "metadata": {
    "hidden": true
   },
   "outputs": [],
   "source": [
    "## CUSTOM DATA LOADER\n",
    "from torch.utils.data.dataset import Dataset\n",
    "class rgenData(Dataset):\n",
    "    def __init__(self, randEnc, x, transform=None):\n",
    "        self.randEnc= randEnc\n",
    "        self.x=x \n",
    "    def __len__(self):\n",
    "        z=self.x.shape[0]\n",
    "        return  z\n",
    "    def __getitem__(self, idx):\n",
    "        randEnc=self.randEnc[idx]\n",
    "        x=self.x[idx]\n",
    "        return randEnc, x\n",
    "\n",
    "## CUSTOM DATA LOADER\n",
    "from torch.utils.data.dataset import Dataset\n",
    "class mnistData(Dataset):\n",
    "    def __init__(self, label, x, transform=None):\n",
    "        self.label= label\n",
    "        self.x=x \n",
    "    def __len__(self):\n",
    "        z=self.x.shape[0]\n",
    "        return  z\n",
    "    def __getitem__(self, idx):\n",
    "        label=self.label[idx]\n",
    "        x=self.x[idx]\n",
    "        return x"
   ]
  },
  {
   "cell_type": "markdown",
   "metadata": {},
   "source": [
    "## Omega=2"
   ]
  },
  {
   "cell_type": "markdown",
   "metadata": {},
   "source": [
    "### Square Matrix Decoder 1Layer Decoder"
   ]
  },
  {
   "cell_type": "code",
   "execution_count": 5,
   "metadata": {},
   "outputs": [],
   "source": [
    "#############################################################################################################\n",
    "###\n",
    "# PYTORCH DOCUMENTATION EXAMPLE\n",
    "# TUTORIAL USED: #https://github.com/MorvanZhou/PyTorch-Tutorial/blob/master/tutorial-contents/404_autoencoder.py\n",
    "###\n",
    "#### HYPER PARAMS\n",
    "LR = 0.0005         # learning rate\n",
    "N_TEST_IMG = 5\n",
    "\n",
    "class Decoder_1LSQ_2D(nn.Module):\n",
    "    def __init__(self):\n",
    "        super(Decoder_1LSQ_2D, self).__init__()\n",
    "        ###########################\n",
    "        #What is this used for?\n",
    "        #self.map = {}\n",
    "        ###########################\n",
    "        self.U0 = nn.Linear(2, 2)\n",
    "        self.sig0 = nn.Sigmoid()\n",
    "        self.U1 = nn.Linear(2, 784)\n",
    "        \n",
    "    def decode(self, z):\n",
    "        out=self.U0(z)\n",
    "        out2=self.sig0(out)\n",
    "        out3=self.U1(out2)\n",
    "        return out3\n",
    "    \n",
    "    def forward(self, x):\n",
    "        encoded = x\n",
    "        #decoded= x\n",
    "        decoded = self.decode(encoded)\n",
    "        return encoded, decoded"
   ]
  },
  {
   "cell_type": "markdown",
   "metadata": {
    "heading_collapsed": true
   },
   "source": [
    "### Square Matrix Decoder 2Layer Decoder"
   ]
  },
  {
   "cell_type": "code",
   "execution_count": null,
   "metadata": {
    "hidden": true
   },
   "outputs": [],
   "source": []
  },
  {
   "cell_type": "markdown",
   "metadata": {},
   "source": [
    "### Square Matrix Decoder 3Layer Decoder"
   ]
  },
  {
   "cell_type": "code",
   "execution_count": null,
   "metadata": {},
   "outputs": [],
   "source": []
  },
  {
   "cell_type": "markdown",
   "metadata": {},
   "source": [
    "### Square Matrix Decoder 4Layer Decoder"
   ]
  },
  {
   "cell_type": "code",
   "execution_count": null,
   "metadata": {},
   "outputs": [],
   "source": []
  },
  {
   "cell_type": "markdown",
   "metadata": {},
   "source": [
    "### Square Matrix Decoder 2Layer Decoder"
   ]
  },
  {
   "cell_type": "markdown",
   "metadata": {},
   "source": [
    "# Functions"
   ]
  },
  {
   "cell_type": "code",
   "execution_count": 6,
   "metadata": {},
   "outputs": [],
   "source": [
    "def RMSELoss(recon_x, x):\n",
    "    return torch.sqrt(torch.mean((recon_x, x))**2)\n",
    "def loss_function(recon_x, x):\n",
    "    BCE = F.binary_cross_entropy(recon_x, x, reduction='sum')\n",
    "    return(BCE)\n",
    "def decode_loader(data, batch_size):\n",
    "    perm = torch.randperm(data.size(0))\n",
    "    idx = perm[:batch_size]\n",
    "    batch=data[idx]\n",
    "    return(batch)\n",
    "def export_tensor(out_tensor,filename):\n",
    "    arr = out_tensor.data.cpu().numpy()\n",
    "    # write CSV\n",
    "    np.savetxt(filename, arr)\n",
    "def import_tensor(filename):\n",
    "    from numpy import genfromtxt\n",
    "    test = np.genfromtxt(filename)\n",
    "    import_tensor=torch.tensor(test, dtype=torch.float)\n",
    "    return(import_tensor)\n",
    "def import_saved_output(filenames,loss_filename):\n",
    "    imp_data=[]\n",
    "    for i in range(0,len(filenames)):\n",
    "        out_file='output/'+filenames[i]+'.csv'\n",
    "        test=import_tensor(out_file)\n",
    "        imp_data.append(test)\n",
    "    test_lossvec = np.genfromtxt(loss_filename)\n",
    "    return(imp_data, test_lossvec)"
   ]
  },
  {
   "cell_type": "code",
   "execution_count": 7,
   "metadata": {},
   "outputs": [],
   "source": [
    "def get_images(img_return_cnt,labels_raw, data_raw):\n",
    "    found=False\n",
    "    img_agg_cnt=np.zeros(10)\n",
    "    img_return_cnt=np.array(img_return_cnt)\n",
    "    i=0\n",
    "    labels=[]\n",
    "    indices=[]\n",
    "    while found==False and 70000>i:\n",
    "        target=labels_raw[i]\n",
    "        index=int(labels_raw[i].data)\n",
    "        if np.dot(np.subtract(img_agg_cnt, img_return_cnt),np.ones(10))==0:\n",
    "            found=True\n",
    "        else:\n",
    "            if img_agg_cnt[index] < img_return_cnt[index]:\n",
    "                img_agg_cnt[index]+=1\n",
    "                indices.append(i)\n",
    "        i+=1\n",
    "    return(indices)\n",
    "def gen_rand_data(img_return_cnt,labels_raw, data_raw,Rdim):\n",
    "    #num_img_type= scalar= equal to the number of image categories\n",
    "    #img_return_cnt = array = index of array is the image type and value is sample size for image type\n",
    "    #example_data = data loader data in form: batch_idx, (example_data, example_targets) \n",
    "    #max_i= data size\n",
    "    #Rdim= vector dimension for rand generation\n",
    "    #img_return_cnt = array = index of array is the image type and value is sample size for image type\n",
    "    found=False\n",
    "    img_agg_cnt=np.zeros(10)\n",
    "    img_return_cnt=np.array(img_return_cnt)\n",
    "    i=0\n",
    "    first=True\n",
    "    labels=[]\n",
    "    indices=[]\n",
    "    while found==False and 70000>i:\n",
    "        target=labels_raw[i]\n",
    "        index=int(labels_raw[i].data)\n",
    "        if np.dot(np.subtract(img_agg_cnt, img_return_cnt),np.ones(10))==0:\n",
    "            found=True\n",
    "        else:\n",
    "            if img_agg_cnt[index] < img_return_cnt[index]:\n",
    "                labels.append(target.item())\n",
    "                datum=data_raw[i].view(-1,28*28)\n",
    "                img_agg_cnt[index]+=1\n",
    "                indices.append(i)\n",
    "                if first==True:\n",
    "                    x_tensor=datum\n",
    "                    randEnc_tensor=torch.rand(1, Rdim)\n",
    "                    first=False \n",
    "                else:\n",
    "                    omega=torch.rand(1, Rdim)\n",
    "                    x_tensor=torch.cat((x_tensor,datum),0)\n",
    "                    randEnc_tensor=torch.cat((randEnc_tensor,omega),0)\n",
    "        i+=1\n",
    "    data = rgenData(randEnc_tensor, x_tensor)\n",
    "    return(data, labels, indices)\n",
    "def get_randenc_byindex(indices, labels_raw, data_raw,Rdim):\n",
    "    #num_img_type= scalar= equal to the number of image categories\n",
    "    #img_return_cnt = array = index of array is the image type and value is sample size for image type\n",
    "    #example_data = data loader data in form: batch_idx, (example_data, example_targets) \n",
    "    #max_i= data size\n",
    "    #Rdim= vector dimension for rand generation\n",
    "    #img_return_cnt = array = index of array is the image type and value is sample size for image type\n",
    "    i=0\n",
    "    cnt=len(indices)\n",
    "    labels=[]\n",
    "    datum=data_raw[indices[0]].view(-1,28*28)\n",
    "    x_tensor=datum\n",
    "    randEnc_tensor=torch.rand(1, Rdim)\n",
    "    labels.append(labels_raw[0])\n",
    "    for i in range(1,len(indices)):\n",
    "        index=indices[i]\n",
    "        labels.append(labels_raw[index])\n",
    "        datum=data_raw[index].view(-1,28*28)\n",
    "        omega=torch.rand(1, Rdim)\n",
    "        x_tensor=torch.cat((x_tensor,datum),0)\n",
    "        randEnc_tensor=torch.cat((randEnc_tensor,omega),0)\n",
    "    data = rgenData(randEnc_tensor, x_tensor)\n",
    "    return(data, labels)\n",
    "def get_enc_img(indices,labels_raw, data_raw,embedding):\n",
    "    #num_img_type= scalar= equal to the number of image categories\n",
    "    #img_return_cnt = array = index of array is the image type and value is sample size for image type\n",
    "    #example_data = data loader data in form: batch_idx, (example_data, example_targets) \n",
    "    #max_i= data size\n",
    "    #Rdim= vector dimension for rand generation\n",
    "    #img_return_cnt = array = index of array is the image type and value is sample size for image type\n",
    "    i=0\n",
    "    cnt=len(indices)\n",
    "    labels=[]\n",
    "    datum=data_raw[indices[0]].view(-1,28*28)\n",
    "    x_tensor=datum\n",
    "    randEnc_tensor=torch.tensor(embedding[0], dtype=torch.float)\n",
    "    labels.append(labels_raw[0])\n",
    "    for i in range(1,len(indices)):\n",
    "        index=indices[i]\n",
    "        labels.append(labels_raw[index])\n",
    "        datum=data_raw[index].view(-1,28*28)\n",
    "        omega=torch.tensor(embedding[i], dtype=torch.float)\n",
    "        x_tensor=torch.cat((x_tensor,datum),0)\n",
    "        randEnc_tensor=torch.cat((randEnc_tensor,omega),0)\n",
    "    data = rgenData(randEnc_tensor, x_tensor)\n",
    "    return(data, labels)"
   ]
  },
  {
   "cell_type": "markdown",
   "metadata": {},
   "source": [
    "# Models"
   ]
  },
  {
   "cell_type": "code",
   "execution_count": 17,
   "metadata": {},
   "outputs": [],
   "source": [
    "def train_AE_MSE(epoch, data, model, optimizer,size,log_interval=10):\n",
    "    train_loss = 0\n",
    "    optimizer.zero_grad()\n",
    "    lossvec=[]\n",
    "    cnt=0\n",
    "    encoding=[]\n",
    "    for i in range(1, epoch):\n",
    "        if i%10000==0:\n",
    "            print(i)\n",
    "        for j in range(0,size):\n",
    "            x=data.x[j]\n",
    "            cnt+=1\n",
    "            encoded, decoded = model.forward(x)\n",
    "            encoding.append(encoded)\n",
    "            criterion = nn.MSELoss()\n",
    "            loss = torch.sqrt(criterion(x, y))\n",
    "            loss.backward()\n",
    "            print(x.grad)\n",
    "            loss.backward()\n",
    "            train_loss += loss.item()\n",
    "            optimizer.step()\n",
    "        lossvec.append(train_loss / (size*i))\n",
    "        \n",
    "    return (lossvec, model)"
   ]
  },
  {
   "cell_type": "code",
   "execution_count": 39,
   "metadata": {},
   "outputs": [],
   "source": [
    "def train_decoder_mse(epoch, data, model, optimizer,size,log_interval=10):\n",
    "    train_loss = 0\n",
    "    optimizer.zero_grad()\n",
    "    lossvec=[]\n",
    "    cnt=0\n",
    "    for i in range(1, epoch):\n",
    "        if i%10000==0:\n",
    "            print(i)\n",
    "        for j in range(0,size):\n",
    "            x=data.x[j]\n",
    "            randEnc=data.randEnc[j]\n",
    "            cnt+=1\n",
    "            encoded, decoded = model.forward(randEnc)\n",
    "            criterion = nn.MSELoss()\n",
    "            loss = torch.sqrt(criterion(x, decoded))\n",
    "            loss.backward()\n",
    "            train_loss += loss.item()\n",
    "            optimizer.step()\n",
    "        lossvec.append(train_loss / (size*i))\n",
    "        \n",
    "    return (lossvec, model)"
   ]
  },
  {
   "cell_type": "markdown",
   "metadata": {},
   "source": [
    "# Plotting"
   ]
  },
  {
   "cell_type": "code",
   "execution_count": 43,
   "metadata": {},
   "outputs": [],
   "source": [
    "def x_xd_plot_compare(data,model,instances,ae=False): \n",
    "    rows=instances\n",
    "    cols=2\n",
    "    Rdim=data[0][0].shape\n",
    "    Rdim=Rdim[0]\n",
    "    tot=int(instances)*cols\n",
    "    fig = plt.figure(figsize=(rows, rows))\n",
    "    plt.tight_layout() \n",
    "    # plot with various axes scales\n",
    "    loc=0\n",
    "    fig.subplots_adjust(hspace=.5)\n",
    "    case=0\n",
    "    while case<(rows):\n",
    "        # linear\n",
    "        loc+=1\n",
    "        tensor=data[case][1].view(28,28)\n",
    "        if ae==False:\n",
    "            tensor_d=model.decode(data[case][0])\n",
    "        else:\n",
    "            encoded, tensor_d =model.forward(data[case][1])\n",
    "        tensor_d=tensor_d.view(28,28)\n",
    "        plt.subplot(rows, cols, loc).axis('off')\n",
    "        plt.imshow(tensor.detach().numpy(),cmap='gray')\n",
    "        plt.title(str(case))\n",
    "\n",
    "        loc+=1\n",
    "        # log\n",
    "        plt.subplot(rows, cols, loc).axis('off')\n",
    "        plt.imshow(tensor_d.detach().numpy(),cmap='gray')\n",
    "        plt.title(str(case))\n",
    "\n",
    "\n",
    "        if case==0:\n",
    "            exp_tensor=data[case][1]\n",
    "            exp_tensor_d=model.decode(data[case][0])\n",
    "            exp_omega=data[case][0]\n",
    "        else:\n",
    "            exp_tensor=torch.cat((exp_tensor,data[case][1]),0)\n",
    "            exp_tensor_d=torch.cat((exp_tensor_d,model.decode(data[case][0])),0)\n",
    "            exp_omega=torch.cat((exp_omega, data[case][0]),0)\n",
    "        case+=1\n",
    "\n",
    "    plt.show()\n",
    "    return(exp_tensor.view(instances,784),exp_tensor_d.view(instances,784),exp_omega.view(instances,Rdim))"
   ]
  },
  {
   "cell_type": "code",
   "execution_count": 42,
   "metadata": {},
   "outputs": [],
   "source": [
    "def plot_compare(x, x_d): \n",
    "    rows=len(x)\n",
    "    cols=2\n",
    "    fig = plt.figure(figsize=(rows, rows))\n",
    "    plt.tight_layout() \n",
    "    # plot with various axes scales\n",
    "    loc=0\n",
    "    fig.subplots_adjust(hspace=.5)\n",
    "    case=0\n",
    "    while case<(rows):\n",
    "        tensor=x[case].view(28,28)      \n",
    "        tensor_d=x_d[case].view(28,28)\n",
    "        ########################################\n",
    "        loc+=1\n",
    "        plt.subplot(rows, cols, loc).axis('off')\n",
    "        plt.imshow(tensor.detach().numpy(),cmap='gray')\n",
    "        plt.title(str(case))\n",
    "\n",
    "        loc+=1\n",
    "        # log\n",
    "        plt.subplot(rows, cols, loc).axis('off')\n",
    "        plt.imshow(tensor_d.detach().numpy(),cmap='gray')\n",
    "        plt.title(str(case))\n",
    "        case+=1\n",
    "    plt.show()\n",
    "    return()"
   ]
  },
  {
   "cell_type": "markdown",
   "metadata": {
    "heading_collapsed": true
   },
   "source": [
    "# Experiments"
   ]
  },
  {
   "cell_type": "code",
   "execution_count": 8,
   "metadata": {
    "hidden": true
   },
   "outputs": [],
   "source": [
    "exp_name='test_1_'"
   ]
  },
  {
   "cell_type": "markdown",
   "metadata": {
    "hidden": true
   },
   "source": [
    "## Specify Data"
   ]
  },
  {
   "cell_type": "code",
   "execution_count": 12,
   "metadata": {
    "hidden": true
   },
   "outputs": [
    {
     "name": "stderr",
     "output_type": "stream",
     "text": [
      "C:\\Users\\clair\\Anaconda3\\lib\\site-packages\\ipykernel_launcher.py:8: FutureWarning: Method .as_matrix will be removed in a future version. Use .values instead.\n",
      "  \n"
     ]
    }
   ],
   "source": [
    "#labelset, dataset=gen_mnist()\n",
    "EPOCH=5\n",
    "\n",
    "import_file = np.genfromtxt('mnist_labelset.txt')\n",
    "#labelset=torch.tensor(import_file).cuda()\n",
    "labelset=torch.tensor(import_file)\n",
    "pd_dataset=pd.read_csv(\"mnist_dataset.csv\")\n",
    "np_dataset=pd_dataset.as_matrix()\n",
    "dataset_test=np_dataset.reshape(70000,28,28)\n",
    "#dataset=torch.tensor(dataset_test,dtype=torch.float).cuda()\n",
    "dataset=torch.tensor(dataset_test,dtype=torch.float)"
   ]
  },
  {
   "cell_type": "code",
   "execution_count": 13,
   "metadata": {
    "hidden": true
   },
   "outputs": [
    {
     "data": {
      "text/plain": [
       "'\\nrand_gen=np.random.randint(0,9,size=50)\\nprint(rand_gen)\\n\\nimg_return_cnt=np.zeros(10)\\nfor i in rand_gen:\\n    img_return_cnt[i]+=1\\nprint(img_return_cnt)\\n\\n\\nindices=get_images(img_return_cnt,labelset, dataset)\\nind_shuffle=indices[:]\\nshuffle(ind_shuffle)\\nprint(ind_shuffle)'"
      ]
     },
     "execution_count": 13,
     "metadata": {},
     "output_type": "execute_result"
    }
   ],
   "source": [
    "#Pull Random Images\n",
    "'''\n",
    "rand_gen=np.random.randint(0,9,size=50)\n",
    "print(rand_gen)\n",
    "\n",
    "img_return_cnt=np.zeros(10)\n",
    "for i in rand_gen:\n",
    "    img_return_cnt[i]+=1\n",
    "print(img_return_cnt)\n",
    "\n",
    "\n",
    "indices=get_images(img_return_cnt,labelset, dataset)\n",
    "ind_shuffle=indices[:]\n",
    "shuffle(ind_shuffle)\n",
    "print(ind_shuffle)'''"
   ]
  },
  {
   "cell_type": "code",
   "execution_count": 14,
   "metadata": {
    "hidden": true
   },
   "outputs": [
    {
     "name": "stdout",
     "output_type": "stream",
     "text": [
      "[0, 1, 2, 3, 4, 5, 6, 7, 8, 9, 10, 11, 12, 13, 14, 15]\n"
     ]
    }
   ],
   "source": [
    "# Pull Rnadom Encodings for Certain Image Types\n",
    "\n",
    "img_return_cnt=np.zeros(10)\n",
    "img_return_cnt[0]=16\n",
    "img_return_cnt[1]=0\n",
    "img_return_cnt[2]=0\n",
    "img_return_cnt[3]=0\n",
    "img_return_cnt[4]=0\n",
    "img_return_cnt[5]=0\n",
    "img_return_cnt[6]=0\n",
    "img_return_cnt[7]=0\n",
    "img_return_cnt[8]=0\n",
    "img_return_cnt[9]=0\n",
    "rdim=2\n",
    "batch_size=4\n",
    "data, labels, indices=gen_rand_data(img_return_cnt,labelset, dataset,rdim)\n",
    "print(indices)"
   ]
  },
  {
   "cell_type": "code",
   "execution_count": null,
   "metadata": {
    "hidden": true
   },
   "outputs": [],
   "source": [
    "# Pull Images to go with ETF\n",
    "'''\n",
    "embedding=np.matrix([[1, -1, 1, -1, 1, -1, 1, -1, 1, -1, 1, -1, 1, -1, 1, -1],\n",
    "[1, 1, -1, -1, 1, 1, -1, -1, 1, 1, -1, -1, 1, 1, -1, -1],\n",
    "[1, -1, -1, 1, 1, -1, -1, 1, 1, -1, -1, 1, 1, -1, -1, 1],\n",
    "[1, -1, 1, -1, -1, 1, -1, 1, 1, -1, 1, -1, -1, 1, -1, 1],\n",
    "[1, 1, -1, -1, 1, 1, -1, -1, -1, -1, 1, 1, -1, -1, 1, 1],\n",
    "[1, -1, -1, -1,-1, 1, 1, -1, -1, 1, 1, -1, 1, -1, -1, 1]])\n",
    "embedding=embedding.transpose()\n",
    "img_return_cnt=np.zeros(10)\n",
    "img_return_cnt[0]=8\n",
    "img_return_cnt[1]=8\n",
    "img_return_cnt[2]=0\n",
    "img_return_cnt[3]=0\n",
    "img_return_cnt[4]=0\n",
    "img_return_cnt[5]=0\n",
    "img_return_cnt[6]=0\n",
    "img_return_cnt[7]=0\n",
    "img_return_cnt[8]=0\n",
    "img_return_cnt[9]=0\n",
    "indices=get_images(img_return_cnt,labelset, dataset)\n",
    "ind_shuffle=indices[:]\n",
    "shuffle(ind_shuffle)\n",
    "print(ind_shuffle)\n",
    "data, labels=get_enc_img(ind_shuffle,labelset, dataset,embedding)\n",
    "'''\n"
   ]
  },
  {
   "cell_type": "markdown",
   "metadata": {},
   "source": [
    "# Experiment #1"
   ]
  },
  {
   "cell_type": "markdown",
   "metadata": {},
   "source": [
    "## Run Model"
   ]
  },
  {
   "cell_type": "code",
   "execution_count": 40,
   "metadata": {},
   "outputs": [],
   "source": [
    "model_in =   Decoder_1LSQ_2D()\n",
    "optimizer = torch.optim.Adam(model_in.parameters(), lr=LR)\n",
    "train_loss = 0\n",
    "optimizer.zero_grad()"
   ]
  },
  {
   "cell_type": "code",
   "execution_count": 44,
   "metadata": {},
   "outputs": [
    {
     "name": "stdout",
     "output_type": "stream",
     "text": [
      "--- train mins %---\n",
      "0.0011963248252868652\n",
      "Completed Exp5\n"
     ]
    },
    {
     "data": {
      "image/png": "[encoded data removed]",
      "text/plain": [
       "<Figure size 1152x1152 with 32 Axes>"
      ]
     },
     "metadata": {
      "needs_background": "light"
     },
     "output_type": "display_data"
    }
   ],
   "source": [
    "size=len(labels)\n",
    "start_time = time.time()\n",
    "lossvec,model=train_decoder_mse(EPOCH,data,model_in, optimizer,size)  \n",
    "print('--- train mins %---')\n",
    "print((time.time() - start_time)/60)\n",
    "######################################\n",
    "\n",
    "###############################################################################################################################\n",
    "## UPDATE\n",
    "print('Completed Exp5')\n",
    "tensor, tensor_d, omega=x_xd_plot_compare(data,model,size)"
   ]
  },
  {
   "cell_type": "markdown",
   "metadata": {},
   "source": [
    "## Output Results"
   ]
  },
  {
   "cell_type": "code",
   "execution_count": null,
   "metadata": {},
   "outputs": [],
   "source": [
    "expnum='1'\n",
    "tensor_d_name='output/'+exp_name+'exp'+expnum+'_tensor_d'\n",
    "tensor_name='output/'+exp_name+'exp'+expnum+'_tensor'\n",
    "omega_name='output/'+exp_name+'exp'+expnum+'_omega'\n",
    "loss_filename='output/'+exp_name+'exp'+expnum+'_lossvec.csv'\n",
    "labels_filename='output/'+exp_name+'exp'+expnum+'_labels_test.csv'\n",
    "\n",
    "filenames=[tensor_name, tensor_d_name, omega_name]\n",
    "data_out=[]\n",
    "data_out.append(tensor)\n",
    "data_out.append(tensor_d)\n",
    "data_out.append(omega)\n",
    "\n",
    "for i in range(0,len(filenames)):\n",
    "    out_file=filenames[i]+'.csv'\n",
    "    export_tensor(data_out[i],out_file)\n",
    "np.savetxt(loss_filename, lossvec)\n",
    "np.savetxt(labels_filename, labels)"
   ]
  },
  {
   "cell_type": "markdown",
   "metadata": {},
   "source": [
    "# Experiment #2"
   ]
  },
  {
   "cell_type": "markdown",
   "metadata": {},
   "source": [
    "## Run Model"
   ]
  },
  {
   "cell_type": "code",
   "execution_count": null,
   "metadata": {},
   "outputs": [],
   "source": [
    "model_in =   AE_4L6D()\n",
    "optimizer = torch.optim.Adam(model_in.parameters(), lr=LR)\n",
    "train_loss = 0\n",
    "optimizer.zero_grad()"
   ]
  },
  {
   "cell_type": "code",
   "execution_count": null,
   "metadata": {},
   "outputs": [],
   "source": [
    "size=len(labels)\n",
    "start_time = time.time()\n",
    "lossvec, lossvec_cnt, model=train_decoder(EPOCH,data,model_in, optimizer,size) \n",
    "print('--- train mins %---')\n",
    "print((time.time() - start_time)/60)\n",
    "######################################\n",
    "\n",
    "###############################################################################################################################\n",
    "## UPDATE\n",
    "print('Completed Exp5')\n",
    "tensor, tensor_d, omega=x_xd_plot_compare(data,model,size)"
   ]
  },
  {
   "cell_type": "markdown",
   "metadata": {},
   "source": [
    "## Output Results"
   ]
  },
  {
   "cell_type": "code",
   "execution_count": null,
   "metadata": {},
   "outputs": [],
   "source": [
    "expnum='2'\n",
    "tensor_d_name='output/'+exp_name+'exp'+expnum+'_tensor_d'\n",
    "tensor_name='output/'+exp_name+'exp'+expnum+'_tensor'\n",
    "omega_name='output/'+exp_name+'exp'+expnum+'_omega'\n",
    "loss_filename='output/'+exp_name+'exp'+expnum+'_lossvec.csv'\n",
    "labels_filename='output/'+exp_name+'exp'+expnum+'_labels_test.csv'\n",
    "\n",
    "filenames=[tensor_name, tensor_d_name, omega_name]\n",
    "data_out=[]\n",
    "data_out.append(tensor)\n",
    "data_out.append(tensor_d)\n",
    "data_out.append(omega)\n",
    "\n",
    "for i in range(0,len(filenames)):\n",
    "    out_file=filenames[i]+'.csv'\n",
    "    export_tensor(data_out[i],out_file)\n",
    "np.savetxt(loss_filename, lossvec)\n",
    "np.savetxt(labels_filename, labels)"
   ]
  },
  {
   "cell_type": "code",
   "execution_count": null,
   "metadata": {},
   "outputs": [],
   "source": []
  },
  {
   "cell_type": "markdown",
   "metadata": {},
   "source": [
    "# Experiment #3"
   ]
  },
  {
   "cell_type": "markdown",
   "metadata": {},
   "source": [
    "# Experiment #4"
   ]
  },
  {
   "cell_type": "markdown",
   "metadata": {},
   "source": [
    "# Experiment #5"
   ]
  },
  {
   "cell_type": "markdown",
   "metadata": {},
   "source": [
    "# Experiment #6"
   ]
  }
 ],
 "metadata": {
  "kernelspec": {
   "display_name": "Python 3",
   "language": "python",
   "name": "python3"
  },
  "language_info": {
   "codemirror_mode": {
    "name": "ipython",
    "version": 3
   },
   "file_extension": ".py",
   "mimetype": "text/x-python",
   "name": "python",
   "nbconvert_exporter": "python",
   "pygments_lexer": "ipython3",
   "version": "3.7.0"
  },
  "toc": {
   "base_numbering": 1,
   "nav_menu": {},
   "number_sections": true,
   "sideBar": true,
   "skip_h1_title": false,
   "title_cell": "Table of Contents",
   "title_sidebar": "Contents",
   "toc_cell": false,
   "toc_position": {},
   "toc_section_display": true,
   "toc_window_display": false
  }
 },
 "nbformat": 4,
 "nbformat_minor": 2
}
