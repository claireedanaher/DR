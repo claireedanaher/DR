{
 "cells": [
  {
   "cell_type": "code",
   "execution_count": 5,
   "metadata": {},
   "outputs": [],
   "source": [
    "## import torch\n",
    "import torchvision\n",
    "import torch\n",
    "import torchvision.datasets as datasets\n",
    "import torch.nn as nn\n",
    "import matplotlib.pyplot as plt\n",
    "from mpl_toolkits.mplot3d import Axes3D\n",
    "from matplotlib import cm\n",
    "import numpy as np\n",
    "from torch.nn import functional as F"
   ]
  },
  {
   "cell_type": "code",
   "execution_count": 6,
   "metadata": {},
   "outputs": [],
   "source": [
    "#############################################################################################################\n",
    "###\n",
    "# PYTORCH DOCUMENTATION EXAMPLE\n",
    "# TUTORIAL USED: #https://github.com/MorvanZhou/PyTorch-Tutorial/blob/master/tutorial-contents/404_autoencoder.py\n",
    "###\n",
    "#### HYPER PARAMS\n",
    "LR = 0.0005         # learning rate\n",
    "N_TEST_IMG = 5\n",
    "\n",
    "class Decoder(nn.Module):\n",
    "    def __init__(self):\n",
    "        super(Decoder, self).__init__()\n",
    "        ###########################\n",
    "        #What is this used for?\n",
    "        #self.map = {}\n",
    "        ###########################\n",
    "        self.fc4 = nn.Linear(2, 784)\n",
    "\n",
    "        \n",
    "    def decode(self, z):\n",
    "        out=self.fc4(z)\n",
    "        return torch.sigmoid(out)\n",
    "    \n",
    "    def forward(self, x):\n",
    "        encoded = x\n",
    "        #decoded= x\n",
    "        decoded = self.decode(encoded)\n",
    "        return encoded, decoded\n",
    "    \n",
    "    \n",
    "### INITALIZE MODEL PARAMS\n",
    "model = Decoder()\n",
    "optimizer = torch.optim.Adam(model.parameters(), lr=LR)\n",
    "\n",
    "\n",
    "def loss_function(recon_x, x):\n",
    "    BCE = F.binary_cross_entropy(recon_x, x, reduction='sum')\n",
    "    return(BCE)\n",
    "def decode_loader(data, batch_size):\n",
    "    perm = torch.randperm(data.size(0))\n",
    "    idx = perm[:batch_size]\n",
    "    batch=data[idx]\n",
    "    return(batch)\n",
    "\n",
    "\n",
    "## CUSTOM DATA LOADER\n",
    "from torch.utils.data.dataset import Dataset\n",
    "class rgenData(Dataset):\n",
    "    def __init__(self, randEnc, x, transform=None):\n",
    "        self.randEnc= randEnc\n",
    "        self.x=x \n",
    "    def __len__(self):\n",
    "        z=self.x.shape[0]\n",
    "        return  z\n",
    "    def __getitem__(self, idx):\n",
    "        randEnc=self.randEnc[idx]\n",
    "        x=self.x[idx]\n",
    "        return randEnc, x"
   ]
  },
  {
   "cell_type": "markdown",
   "metadata": {},
   "source": [
    "# Generate Train Data"
   ]
  },
  {
   "cell_type": "markdown",
   "metadata": {},
   "source": [
    "## Pull in MNIST Data"
   ]
  },
  {
   "cell_type": "code",
   "execution_count": 7,
   "metadata": {},
   "outputs": [
    {
     "data": {
      "text/plain": [
       "torch.Size([60000, 1, 28, 28])"
      ]
     },
     "execution_count": 7,
     "metadata": {},
     "output_type": "execute_result"
    }
   ],
   "source": [
    "#####################\n",
    "## IMPORT MNIST DATA SET\n",
    "batch_size_loader=100000\n",
    "data_loader = torch.utils.data.DataLoader(\n",
    "                            torchvision.datasets.MNIST('/files/', train=True, download=True,\n",
    "                             transform=torchvision.transforms.ToTensor()),batch_size=batch_size_loader, shuffle=True)\n",
    "examples = enumerate(data_loader)\n",
    "batch_idx, (example_data, example_targets) = next(examples)\n",
    "example_data.shape"
   ]
  },
  {
   "cell_type": "markdown",
   "metadata": {},
   "source": [
    "## Pull Training Images and Generate training tensors\n",
    "###  Ω = randomlt generated vector in R2\n",
    "###  Iteration= one pass through Decode\n",
    "### RandEnc= a tensor containing the desired number of iterations of Ω "
   ]
  },
  {
   "cell_type": "code",
   "execution_count": 12,
   "metadata": {},
   "outputs": [],
   "source": [
    "found=False\n",
    "i=0\n",
    "cnt_0=0\n",
    "cnt_1=0\n",
    "onecnt=0\n",
    "zerocnt=10\n",
    "\n",
    "while found==False:\n",
    "    target=example_targets[i]\n",
    "    if cnt_0==zerocnt and cnt_1==onecnt:\n",
    "        found=True\n",
    "    else:\n",
    "        datum=example_data[i].view(-1,28*28)\n",
    "        if (target==1 and cnt_1<onecnt and onecnt!=0):\n",
    "            if cnt_0==0 and cnt_1==0:\n",
    "                x_tensor=datum\n",
    "                omega=torch.rand(1, 2)\n",
    "                randEnc_tensor=omega\n",
    "                cnt_1+=1\n",
    "                print('CNT_1')\n",
    "                print(cnt_1)\n",
    "            else:\n",
    "                omega=torch.rand(1, 2)\n",
    "                print(omega)\n",
    "                x_tensor=torch.cat((x_tensor,datum),0)\n",
    "                randEnc_tensor=torch.cat((randEnc_tensor,omega),0)\n",
    "                cnt_1+=1\n",
    "        if (target==0 and cnt_0<zerocnt and zerocnt!=0):\n",
    "            if  cnt_0==0 and cnt_1==0:\n",
    "                x_tensor=datum\n",
    "                omega=torch.rand(1, 2)\n",
    "                randEnc_tensor=omega\n",
    "                cnt_0+=1\n",
    "            else:\n",
    "                omega=torch.rand(1, 2)\n",
    "                x_tensor=torch.cat((x_tensor,datum),0)\n",
    "                randEnc_tensor=torch.cat((randEnc_tensor,omega),0)\n",
    "                cnt_0+=1\n",
    "    i+=1\n",
    "data_10zero = rgenData(randEnc_tensor, x_tensor)"
   ]
  },
  {
   "cell_type": "code",
   "execution_count": 11,
   "metadata": {},
   "outputs": [],
   "source": [
    "found=False\n",
    "i=0\n",
    "cnt_0=0\n",
    "cnt_1=0\n",
    "onecnt=0\n",
    "zerocnt=25\n",
    "\n",
    "while found==False:\n",
    "    target=example_targets[i]\n",
    "    if cnt_0==zerocnt and cnt_1==onecnt:\n",
    "        found=True\n",
    "    else:\n",
    "        datum=example_data[i].view(-1,28*28)\n",
    "        if (target==1 and cnt_1<onecnt and onecnt!=0):\n",
    "            if cnt_0==0 and cnt_1==0:\n",
    "                x_tensor=datum\n",
    "                omega=torch.rand(1, 2)\n",
    "                randEnc_tensor=omega\n",
    "                cnt_1+=1\n",
    "                print('CNT_1')\n",
    "                print(cnt_1)\n",
    "            else:\n",
    "                omega=torch.rand(1, 2)\n",
    "                print(omega)\n",
    "                x_tensor=torch.cat((x_tensor,datum),0)\n",
    "                randEnc_tensor=torch.cat((randEnc_tensor,omega),0)\n",
    "                cnt_1+=1\n",
    "        if (target==0 and cnt_0<zerocnt and zerocnt!=0):\n",
    "            if  cnt_0==0 and cnt_1==0:\n",
    "                x_tensor=datum\n",
    "                omega=torch.rand(1, 2)\n",
    "                randEnc_tensor=omega\n",
    "                cnt_0+=1\n",
    "            else:\n",
    "                omega=torch.rand(1, 2)\n",
    "                x_tensor=torch.cat((x_tensor,datum),0)\n",
    "                randEnc_tensor=torch.cat((randEnc_tensor,omega),0)\n",
    "                cnt_0+=1\n",
    "    i+=1\n",
    "data_25zero = rgenData(randEnc_tensor, x_tensor)"
   ]
  },
  {
   "cell_type": "code",
   "execution_count": 30,
   "metadata": {},
   "outputs": [],
   "source": [
    "found=False\n",
    "i=0\n",
    "cnt_0=0\n",
    "cnt_1=0\n",
    "onecnt=0\n",
    "zerocnt=50\n",
    "\n",
    "while found==False:\n",
    "    target=example_targets[i]\n",
    "    if cnt_0==zerocnt and cnt_1==onecnt:\n",
    "        found=True\n",
    "    else:\n",
    "        datum=example_data[i].view(-1,28*28)\n",
    "        if (target==1 and cnt_1<onecnt and onecnt!=0):\n",
    "            if cnt_0==0 and cnt_1==0:\n",
    "                x_tensor=datum\n",
    "                omega=torch.rand(1, 2)\n",
    "                randEnc_tensor=omega\n",
    "                cnt_1+=1\n",
    "            else:\n",
    "                omega=torch.rand(1, 2)\n",
    "                print(omega)\n",
    "                x_tensor=torch.cat((x_tensor,datum),0)\n",
    "                randEnc_tensor=torch.cat((randEnc_tensor,omega),0)\n",
    "                cnt_1+=1\n",
    "        if (target==0 and cnt_0<zerocnt and zerocnt!=0):\n",
    "            if  cnt_0==0 and cnt_1==0:\n",
    "                x_tensor=datum\n",
    "                omega=torch.rand(1, 2)\n",
    "                randEnc_tensor=omega\n",
    "                cnt_0+=1\n",
    "            else:\n",
    "                omega=torch.rand(1, 2)\n",
    "                x_tensor=torch.cat((x_tensor,datum),0)\n",
    "                randEnc_tensor=torch.cat((randEnc_tensor,omega),0)\n",
    "                cnt_0+=1\n",
    "    i+=1\n",
    "data_50zero  = rgenData(randEnc_tensor, x_tensor)"
   ]
  },
  {
   "cell_type": "code",
   "execution_count": 32,
   "metadata": {},
   "outputs": [],
   "source": [
    "found=False\n",
    "i=0\n",
    "cnt_0=0\n",
    "cnt_1=0\n",
    "onecnt=0\n",
    "zerocnt=75\n",
    "\n",
    "while found==False:\n",
    "    target=example_targets[i]\n",
    "    if cnt_0==zerocnt and cnt_1==onecnt:\n",
    "        found=True\n",
    "    else:\n",
    "        datum=example_data[i].view(-1,28*28)\n",
    "        if (target==1 and cnt_1<onecnt and onecnt!=0):\n",
    "            if cnt_0==0 and cnt_1==0:\n",
    "                x_tensor=datum\n",
    "                omega=torch.rand(1, 2)\n",
    "                randEnc_tensor=omega\n",
    "                cnt_1+=1\n",
    "            else:\n",
    "                omega=torch.rand(1, 2)\n",
    "                print(omega)\n",
    "                x_tensor=torch.cat((x_tensor,datum),0)\n",
    "                randEnc_tensor=torch.cat((randEnc_tensor,omega),0)\n",
    "                cnt_1+=1\n",
    "        if (target==0 and cnt_0<zerocnt and zerocnt!=0):\n",
    "            if  cnt_0==0 and cnt_1==0:\n",
    "                x_tensor=datum\n",
    "                omega=torch.rand(1, 2)\n",
    "                randEnc_tensor=omega\n",
    "                cnt_0+=1\n",
    "            else:\n",
    "                omega=torch.rand(1, 2)\n",
    "                x_tensor=torch.cat((x_tensor,datum),0)\n",
    "                randEnc_tensor=torch.cat((randEnc_tensor,omega),0)\n",
    "                cnt_0+=1\n",
    "    i+=1\n",
    "data_75zero  = rgenData(randEnc_tensor, x_tensor)"
   ]
  },
  {
   "cell_type": "code",
   "execution_count": 33,
   "metadata": {},
   "outputs": [],
   "source": [
    "found=False\n",
    "i=0\n",
    "cnt_0=0\n",
    "cnt_1=0\n",
    "onecnt=0\n",
    "zerocnt=100\n",
    "\n",
    "while found==False:\n",
    "    target=example_targets[i]\n",
    "    if cnt_0==zerocnt and cnt_1==onecnt:\n",
    "        found=True\n",
    "    else:\n",
    "        datum=example_data[i].view(-1,28*28)\n",
    "        if (target==1 and cnt_1<onecnt and onecnt!=0):\n",
    "            if cnt_0==0 and cnt_1==0:\n",
    "                x_tensor=datum\n",
    "                omega=torch.rand(1, 2)\n",
    "                randEnc_tensor=omega\n",
    "                cnt_1+=1\n",
    "            else:\n",
    "                omega=torch.rand(1, 2)\n",
    "                print(omega)\n",
    "                x_tensor=torch.cat((x_tensor,datum),0)\n",
    "                randEnc_tensor=torch.cat((randEnc_tensor,omega),0)\n",
    "                cnt_1+=1\n",
    "        if (target==0 and cnt_0<zerocnt and zerocnt!=0):\n",
    "            if  cnt_0==0 and cnt_1==0:\n",
    "                x_tensor=datum\n",
    "                omega=torch.rand(1, 2)\n",
    "                randEnc_tensor=omega\n",
    "                cnt_0+=1\n",
    "            else:\n",
    "                omega=torch.rand(1, 2)\n",
    "                x_tensor=torch.cat((x_tensor,datum),0)\n",
    "                randEnc_tensor=torch.cat((randEnc_tensor,omega),0)\n",
    "                cnt_0+=1\n",
    "    i+=1\n",
    "data_100zero  = rgenData(randEnc_tensor, x_tensor)"
   ]
  },
  {
   "cell_type": "code",
   "execution_count": 51,
   "metadata": {},
   "outputs": [],
   "source": [
    "found=False\n",
    "i=0\n",
    "cnt_0=0\n",
    "cnt_1=0\n",
    "onecnt=0\n",
    "zerocnt=1000\n",
    "\n",
    "while found==False:\n",
    "    target=example_targets[i]\n",
    "    if cnt_0==zerocnt and cnt_1==onecnt:\n",
    "        found=True\n",
    "    else:\n",
    "        datum=example_data[i].view(-1,28*28)\n",
    "        if (target==1 and cnt_1<onecnt and onecnt!=0):\n",
    "            if cnt_0==0 and cnt_1==0:\n",
    "                x_tensor=datum\n",
    "                omega=torch.rand(1, 2)\n",
    "                randEnc_tensor=omega\n",
    "                cnt_1+=1\n",
    "            else:\n",
    "                omega=torch.rand(1, 2)\n",
    "                print(omega)\n",
    "                x_tensor=torch.cat((x_tensor,datum),0)\n",
    "                randEnc_tensor=torch.cat((randEnc_tensor,omega),0)\n",
    "                cnt_1+=1\n",
    "        if (target==0 and cnt_0<zerocnt and zerocnt!=0):\n",
    "            if  cnt_0==0 and cnt_1==0:\n",
    "                x_tensor=datum\n",
    "                omega=torch.rand(1, 2)\n",
    "                randEnc_tensor=omega\n",
    "                cnt_0+=1\n",
    "            else:\n",
    "                omega=torch.rand(1, 2)\n",
    "                x_tensor=torch.cat((x_tensor,datum),0)\n",
    "                randEnc_tensor=torch.cat((randEnc_tensor,omega),0)\n",
    "                cnt_0+=1\n",
    "    i+=1\n",
    "data_1kzero  = rgenData(randEnc_tensor, x_tensor)"
   ]
  },
  {
   "cell_type": "markdown",
   "metadata": {},
   "source": [
    "## Run Model"
   ]
  },
  {
   "cell_type": "code",
   "execution_count": 13,
   "metadata": {},
   "outputs": [],
   "source": [
    "def train_e(epoch, log_interval=10):\n",
    "    model.train()\n",
    "    train_loss = 0\n",
    "    optimizer.zero_grad()\n",
    "    lossvec=[]\n",
    "    lossvec_cnt=[]\n",
    "    cnt=0\n",
    "    for i in range(1, epoch):\n",
    "        for batch_idx, (randEnc, x) in enumerate(train_loader):\n",
    "            cnt+=1\n",
    "            encoded, decoded = model(randEnc)\n",
    "            loss = loss_function(decoded, x)\n",
    "            loss.backward()\n",
    "            train_loss += loss.item()\n",
    "            optimizer.step()\n",
    "            '''\n",
    "            if batch_idx % log_interval == 0:\n",
    "                print('Train Epoch: {} [{}/{} ({:.0f}%)]\\tLoss: {:.6f}'.format(\n",
    "                    i, batch_idx * len(x), len(train_loader.dataset),\n",
    "                    100. * batch_idx / len(train_loader),\n",
    "                    loss.item() / len(x)))\n",
    "            '''\n",
    "        lossvec.append(train_loss / (len(train_loader.dataset)*i))\n",
    "        lossvec_cnt.append(i)\n",
    "        \n",
    "    return (lossvec, lossvec_cnt)"
   ]
  },
  {
   "cell_type": "code",
   "execution_count": 39,
   "metadata": {},
   "outputs": [
    {
     "data": {
      "text/plain": [
       "Text(0.5,0.98,'Sample Size: 10 /  Epoch Size: 10000 /  Min Error:186')"
      ]
     },
     "execution_count": 39,
     "metadata": {},
     "output_type": "execute_result"
    },
    {
     "data": {
      "image/png": "[encoded data removed]",
      "text/plain": [
       "<Figure size 432x288 with 2 Axes>"
      ]
     },
     "metadata": {
      "needs_background": "light"
     },
     "output_type": "display_data"
    }
   ],
   "source": [
    "batch_size=10\n",
    "EPOCH=10000\n",
    "train_loader=torch.utils.data.DataLoader(\n",
    "    data_10zero, batch_size=batch_size, shuffle=False)\n",
    "model = Decoder()\n",
    "optimizer = torch.optim.Adam(model.parameters(), lr=LR)\n",
    "\n",
    "lossvec_10zero, lossvec_cnt_10zero=train_e(EPOCH) \n",
    "\n",
    "minerror=round(lossvec_10zero[EPOCH-2])\n",
    "f,(ax1, ax2) = plt.subplots(1,2)\n",
    "ax1.set_title('Omega 0')\n",
    "ax1.imshow(tensor0.detach().numpy(),cmap='gray')\n",
    "ax2.set_title('Omega 0D')\n",
    "ax2.imshow(tensor_d0.detach().numpy(),cmap='gray')\n",
    "val='Sample Size: '+str(batch_size)+' / '+' Epoch Size: '+str(EPOCH)+' / '+ ' Min Error:'+str(minerror) \n",
    "f.suptitle(val, fontsize=16)"
   ]
  },
  {
   "cell_type": "code",
   "execution_count": 40,
   "metadata": {},
   "outputs": [
    {
     "data": {
      "text/plain": [
       "Text(0.5,0.98,'Sample Size: 25 /  Epoch Size: 10000 /  Min Error:222')"
      ]
     },
     "execution_count": 40,
     "metadata": {},
     "output_type": "execute_result"
    },
    {
     "data": {
      "image/png": "[encoded data removed]",
      "text/plain": [
       "<Figure size 432x288 with 2 Axes>"
      ]
     },
     "metadata": {
      "needs_background": "light"
     },
     "output_type": "display_data"
    }
   ],
   "source": [
    "batch_size=25\n",
    "EPOCH=10000\n",
    "train_loader=torch.utils.data.DataLoader(\n",
    "    data_25zero, batch_size=batch_size, shuffle=False)\n",
    "model = Decoder()\n",
    "optimizer = torch.optim.Adam(model.parameters(), lr=LR)\n",
    "\n",
    "lossvec_25zero, lossvec_cnt_25zero=train_e(EPOCH) \n",
    "\n",
    "tensor0=data_25zero[0][1].view(28,28)\n",
    "tensor_d0=model.decode(data_25zero[0][0])\n",
    "tensor_d0=tensor_d0.view(28,28)\n",
    "\n",
    "minerror=round(lossvec_25zero[EPOCH-2])\n",
    "f,(ax1, ax2) = plt.subplots(1,2)\n",
    "ax1.set_title('Omega 0')\n",
    "ax1.imshow(tensor0.detach().numpy(),cmap='gray')\n",
    "ax2.set_title('Omega 0D')\n",
    "ax2.imshow(tensor_d0.detach().numpy(),cmap='gray')\n",
    "val='Sample Size: '+str(batch_size)+' / '+' Epoch Size: '+str(EPOCH)+' / '+ ' Min Error:'+str(minerror) \n",
    "f.suptitle(val, fontsize=16)"
   ]
  },
  {
   "cell_type": "code",
   "execution_count": 44,
   "metadata": {},
   "outputs": [
    {
     "data": {
      "text/plain": [
       "Text(0.5,0.98,'Sample Size: 50 /  Epoch Size: 10000 /  Min Error:237')"
      ]
     },
     "execution_count": 44,
     "metadata": {},
     "output_type": "execute_result"
    },
    {
     "data": {
      "image/png": "[encoded data removed]",
      "text/plain": [
       "<Figure size 432x288 with 2 Axes>"
      ]
     },
     "metadata": {
      "needs_background": "light"
     },
     "output_type": "display_data"
    }
   ],
   "source": [
    "batch_size=50\n",
    "EPOCH=10000\n",
    "train_loader=torch.utils.data.DataLoader(\n",
    "    data_50zero, batch_size=batch_size, shuffle=False)\n",
    "model = Decoder()\n",
    "optimizer = torch.optim.Adam(model.parameters(), lr=LR)\n",
    "\n",
    "lossvec_50zero, lossvec_cnt_50zero=train_e(EPOCH) \n",
    "\n",
    "tensor0=data_50zero[0][1].view(28,28)\n",
    "tensor_d0=model.decode(data_50zero[0][0])\n",
    "tensor_d0=tensor_d0.view(28,28)\n",
    "\n",
    "minerror=round(lossvec_50zero[EPOCH-2])\n",
    "f,(ax1, ax2) = plt.subplots(1,2)\n",
    "ax1.set_title('Omega 0')\n",
    "ax1.imshow(tensor0.detach().numpy(),cmap='gray')\n",
    "ax2.set_title('Omega 0D')\n",
    "ax2.imshow(tensor_d0.detach().numpy(),cmap='gray')\n",
    "val='Sample Size: '+str(batch_size)+' / '+' Epoch Size: '+str(EPOCH)+' / '+ ' Min Error:'+str(minerror) \n",
    "f.suptitle(val, fontsize=16)"
   ]
  },
  {
   "cell_type": "code",
   "execution_count": 45,
   "metadata": {},
   "outputs": [
    {
     "data": {
      "text/plain": [
       "Text(0.5,0.98,'Sample Size: 75 /  Epoch Size: 10000 /  Min Error:244')"
      ]
     },
     "execution_count": 45,
     "metadata": {},
     "output_type": "execute_result"
    },
    {
     "data": {
      "image/png": "[encoded data removed]",
      "text/plain": [
       "<Figure size 432x288 with 2 Axes>"
      ]
     },
     "metadata": {
      "needs_background": "light"
     },
     "output_type": "display_data"
    }
   ],
   "source": [
    "batch_size=75\n",
    "EPOCH=10000\n",
    "train_loader=torch.utils.data.DataLoader(\n",
    "    data_75zero, batch_size=batch_size, shuffle=False)\n",
    "model = Decoder()\n",
    "optimizer = torch.optim.Adam(model.parameters(), lr=LR)\n",
    "\n",
    "lossvec_75zero, lossvec_cnt_75zero=train_e(EPOCH) \n",
    "\n",
    "tensor0=data_75zero[0][1].view(28,28)\n",
    "tensor_d0=model.decode(data_75zero[0][0])\n",
    "tensor_d0=tensor_d0.view(28,28)\n",
    "\n",
    "minerror=round(lossvec_75zero[EPOCH-2])\n",
    "f,(ax1, ax2) = plt.subplots(1,2)\n",
    "ax1.set_title('Omega 0')\n",
    "ax1.imshow(tensor0.detach().numpy(),cmap='gray')\n",
    "ax2.set_title('Omega 0D')\n",
    "ax2.imshow(tensor_d0.detach().numpy(),cmap='gray')\n",
    "val='Sample Size: '+str(batch_size)+' / '+' Epoch Size: '+str(EPOCH)+' / '+ ' Min Error:'+str(minerror) \n",
    "f.suptitle(val, fontsize=16)"
   ]
  },
  {
   "cell_type": "code",
   "execution_count": 46,
   "metadata": {},
   "outputs": [
    {
     "data": {
      "text/plain": [
       "Text(0.5,0.98,'Sample Size: 100 /  Epoch Size: 10000 /  Min Error:243')"
      ]
     },
     "execution_count": 46,
     "metadata": {},
     "output_type": "execute_result"
    },
    {
     "data": {
      "image/png": "[encoded data removed]",
      "text/plain": [
       "<Figure size 432x288 with 2 Axes>"
      ]
     },
     "metadata": {
      "needs_background": "light"
     },
     "output_type": "display_data"
    }
   ],
   "source": [
    "batch_size=100\n",
    "EPOCH=10000\n",
    "train_loader=torch.utils.data.DataLoader(\n",
    "    data_100zero, batch_size=batch_size, shuffle=False)\n",
    "model = Decoder()\n",
    "optimizer = torch.optim.Adam(model.parameters(), lr=LR)\n",
    "\n",
    "lossvec_100zero, lossvec_cnt_100zero=train_e(EPOCH) \n",
    "\n",
    "tensor0=data_100zero[0][1].view(28,28)\n",
    "tensor_d0=model.decode(data_100zero[0][0])\n",
    "tensor_d0=tensor_d0.view(28,28)\n",
    "\n",
    "minerror=round(lossvec_100zero[EPOCH-2])\n",
    "f,(ax1, ax2) = plt.subplots(1,2)\n",
    "ax1.set_title('Omega 0')\n",
    "ax1.imshow(tensor0.detach().numpy(),cmap='gray')\n",
    "ax2.set_title('Omega 0D')\n",
    "ax2.imshow(tensor_d0.detach().numpy(),cmap='gray')\n",
    "val='Sample Size: '+str(batch_size)+' / '+' Epoch Size: '+str(EPOCH)+' / '+ ' Min Error:'+str(minerror) \n",
    "f.suptitle(val, fontsize=16)"
   ]
  },
  {
   "cell_type": "code",
   "execution_count": 52,
   "metadata": {},
   "outputs": [
    {
     "data": {
      "text/plain": [
       "Text(0.5,0.98,'Sample Size: 1000 /  Epoch Size: 10000 /  Min Error:243')"
      ]
     },
     "execution_count": 52,
     "metadata": {},
     "output_type": "execute_result"
    },
    {
     "data": {
      "image/png": "[encoded data removed]",
      "text/plain": [
       "<Figure size 432x288 with 2 Axes>"
      ]
     },
     "metadata": {
      "needs_background": "light"
     },
     "output_type": "display_data"
    }
   ],
   "source": [
    "batch_size=1000\n",
    "EPOCH=10000\n",
    "train_loader=torch.utils.data.DataLoader(\n",
    "    data_100zero, batch_size=batch_size, shuffle=False)\n",
    "model = Decoder()\n",
    "optimizer = torch.optim.Adam(model.parameters(), lr=LR)\n",
    "\n",
    "lossvec_1kzero, lossvec_cnt_1kzero=train_e(EPOCH) \n",
    "\n",
    "tensor0=data_1kzero[0][1].view(28,28)\n",
    "tensor_d0=model.decode(data_1kzero[0][0])\n",
    "tensor_d0=tensor_d0.view(28,28)\n",
    "\n",
    "minerror=round(lossvec_100zero[EPOCH-2])\n",
    "f,(ax1, ax2) = plt.subplots(1,2)\n",
    "ax1.set_title('Omega 0')\n",
    "ax1.imshow(tensor0.detach().numpy(),cmap='gray')\n",
    "ax2.set_title('Omega 0D')\n",
    "ax2.imshow(tensor_d0.detach().numpy(),cmap='gray')\n",
    "val='Sample Size: '+str(batch_size)+' / '+' Epoch Size: '+str(EPOCH)+' / '+ ' Min Error:'+str(minerror) \n",
    "f.suptitle(val, fontsize=16)"
   ]
  },
  {
   "cell_type": "code",
   "execution_count": 50,
   "metadata": {},
   "outputs": [
    {
     "data": {
      "text/plain": [
       "<matplotlib.legend.Legend at 0x257faa4ad68>"
      ]
     },
     "execution_count": 50,
     "metadata": {},
     "output_type": "execute_result"
    },
    {
     "data": {
      "image/png": "[encoded data removed]",
      "text/plain": [
       "<Figure size 432x288 with 1 Axes>"
      ]
     },
     "metadata": {
      "needs_background": "light"
     },
     "output_type": "display_data"
    }
   ],
   "source": [
    "\n",
    "import matplotlib.pyplot as plt\n",
    "import numpy as np\n",
    "import pandas as pd\n",
    "\n",
    "\n",
    "# Data\n",
    "df=pd.DataFrame({'x': lossvec_cnt_100zero, 'ten_zero': np.asarray(lossvec_10zero), 'twenty_zero': np.asarray(lossvec_25zero), \n",
    "                 'fifty_zero': np.asarray(lossvec_50zero), 'seventy-five_zero': np.asarray(lossvec_75zero), 'one-hundred_zero': np.asarray(lossvec_100zero) })\n",
    " \n",
    "# multiple line plot\n",
    "plt.plot( 'x', 'ten_zero', data=df, marker='', markerfacecolor='blue', linewidth=2)\n",
    "plt.plot( 'x', 'twenty_zero', data=df, marker='', color='pink', linewidth=2)\n",
    "plt.plot( 'x', 'fifty_zero', data=df, marker='', color='purple', linewidth=2)\n",
    "plt.plot( 'x', 'seventy-five_zero', data=df, marker='', color='yellow', linewidth=2)\n",
    "plt.plot( 'x', 'one-hundred_zero', data=df, marker='', color='green', linewidth=2)\n",
    "plt.title('10000 Epoch')\n",
    "plt.legend()\n",
    "\n"
   ]
  }
 ],
 "metadata": {
  "kernelspec": {
   "display_name": "Python 3",
   "language": "python",
   "name": "python3"
  },
  "language_info": {
   "codemirror_mode": {
    "name": "ipython",
    "version": 3
   },
   "file_extension": ".py",
   "mimetype": "text/x-python",
   "name": "python",
   "nbconvert_exporter": "python",
   "pygments_lexer": "ipython3",
   "version": "3.7.0"
  }
 },
 "nbformat": 4,
 "nbformat_minor": 2
}
