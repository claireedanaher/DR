{
  "nbformat": 4,
  "nbformat_minor": 0,
  "metadata": {
    "colab": {
      "name": "Experiment_GPU_2DRand_LossUpdate_Collab.ipynb",
      "version": "0.3.2",
      "provenance": [],
      "collapsed_sections": [
        "j_z5-blKx9Oc",
        "l2VZpf9ex9Oj",
        "sI64h9yjx9Oo",
        "nj0L46z2x9Ot",
        "-zJVzGKTx9O3",
        "cqjsRdI2x9O8",
        "uPzC_wyHx9O9",
        "tvehBzfvx9PC",
        "sVR171Kpx9PH",
        "5_hNAaICx9PO",
        "LkGnN3bqx9PV",
        "A76FL3pox9PZ",
        "Q90Aboxrx9Pe",
        "uIRRJemtx9Pi",
        "H2sZ5fVXx9Pm",
        "EmL23qLYx9Pm",
        "VVWmWLaXx9Pq",
        "aPI_T2g6x9Pv",
        "9Sbcok7Ax9P0",
        "4R24KL9hx9P6",
        "xSJJmhaLx9P-",
        "qh_unlmRx9QD",
        "S4t3zRSyx9QH",
        "SPCY5lTwx9QR",
        "B5LToT-Gx9Qf",
        "IPg07JmHx9Qw",
        "VHJFEckfx9RY",
        "aeRceE5Mx9R3",
        "yeYjwURox9SC",
        "kOMwkQXAx9SQ"
      ]
    },
    "language_info": {
      "codemirror_mode": {
        "name": "ipython",
        "version": 3
      },
      "file_extension": ".py",
      "mimetype": "text/x-python",
      "name": "python",
      "nbconvert_exporter": "python",
      "pygments_lexer": "ipython3",
      "version": "3.7.0"
    },
    "kernelspec": {
      "display_name": "Python 3",
      "language": "python",
      "name": "python3"
    },
    "accelerator": "GPU"
  },
  "cells": [
    {
      "metadata": {
        "colab_type": "text",
        "heading_collapsed": true,
        "id": "iLlMCqgzx9N1"
      },
      "cell_type": "markdown",
      "source": [
        "# LIBRARIES"
      ]
    },
    {
      "metadata": {
        "colab_type": "code",
        "hidden": true,
        "id": "YDxBkSjnx9N3",
        "colab": {}
      },
      "cell_type": "code",
      "source": [
        "## import torch\n",
        "import torchvision\n",
        "import torch\n",
        "import torchvision.datasets as datasets\n",
        "import torch.nn as nn\n",
        "import matplotlib.pyplot as plt\n",
        "from mpl_toolkits.mplot3d import Axes3D\n",
        "from matplotlib import cm\n",
        "import numpy as np\n",
        "from torch.nn import functional as F\n",
        "import time\n",
        "import pandas as pd \n",
        "from random import shuffle"
      ],
      "execution_count": 0,
      "outputs": []
    },
    {
      "metadata": {
        "colab_type": "text",
        "heading_collapsed": true,
        "id": "JIMbMDlZx9N8"
      },
      "cell_type": "markdown",
      "source": [
        "# Pull in MNIST Data"
      ]
    },
    {
      "metadata": {
        "colab_type": "text",
        "hidden": true,
        "id": "9ftUtu11x9N9"
      },
      "cell_type": "markdown",
      "source": [
        "## MNIST Data Label Generation"
      ]
    },
    {
      "metadata": {
        "colab_type": "code",
        "hidden": true,
        "id": "LwAxqMBqx9N-",
        "colab": {}
      },
      "cell_type": "code",
      "source": [
        "def gen_mnist():\n",
        "    from sklearn.datasets.base import get_data_home \n",
        "    from sklearn.datasets import fetch_mldata\n",
        "    print (get_data_home())\n",
        "    mnist_raw = fetch_mldata('MNIST original', data_home=get_data_home())\n",
        "    mnist=mnistData(mnist_raw.target,mnist_raw.data) \n",
        "    cnt=len(mnist.label)\n",
        "    labelset=torch.tensor(mnist.label)\n",
        "    labelset.shape\n",
        "    dataset=torch.tensor(mnist.x,dtype=torch.float)\n",
        "    number_columns=dataset.shape[1]\n",
        "    #dataset = dataset.view(-1,number_columns).float()/256.0\n",
        "    print(dataset.shape)\n",
        "    dataset=dataset.view(cnt,28,28)\n",
        "    return(labelset, dataset)"
      ],
      "execution_count": 0,
      "outputs": []
    },
    {
      "metadata": {
        "colab_type": "text",
        "heading_collapsed": true,
        "id": "vfpnBQRSx9OD"
      },
      "cell_type": "markdown",
      "source": [
        "# Classes"
      ]
    },
    {
      "metadata": {
        "colab_type": "text",
        "heading_collapsed": true,
        "hidden": true,
        "id": "lt6PFBNzx9OF"
      },
      "cell_type": "markdown",
      "source": [
        "## Data Loaders"
      ]
    },
    {
      "metadata": {
        "colab_type": "code",
        "hidden": true,
        "id": "wnWZNlU5x9OG",
        "colab": {}
      },
      "cell_type": "code",
      "source": [
        "## CUSTOM DATA LOADER\n",
        "from torch.utils.data.dataset import Dataset\n",
        "class rgenData(Dataset):\n",
        "    def __init__(self, randEnc, x, transform=None):\n",
        "        self.randEnc= randEnc\n",
        "        self.x=x \n",
        "    def __len__(self):\n",
        "        z=self.x.shape[0]\n",
        "        return  z\n",
        "    def __getitem__(self, idx):\n",
        "        randEnc=self.randEnc[idx]\n",
        "        x=self.x[idx]\n",
        "        return randEnc, x\n",
        "\n",
        "## CUSTOM DATA LOADER\n",
        "from torch.utils.data.dataset import Dataset\n",
        "class mnistData(Dataset):\n",
        "    def __init__(self, label, x, transform=None):\n",
        "        self.label= label\n",
        "        self.x=x \n",
        "    def __len__(self):\n",
        "        z=self.x.shape[0]\n",
        "        return  z\n",
        "    def __getitem__(self, idx):\n",
        "        label=self.label[idx]\n",
        "        x=self.x[idx]\n",
        "        return x"
      ],
      "execution_count": 0,
      "outputs": []
    },
    {
      "metadata": {
        "colab_type": "text",
        "heading_collapsed": true,
        "id": "25l-ifLxx9QM"
      },
      "cell_type": "markdown",
      "source": [
        "# Functions"
      ]
    },
    {
      "metadata": {
        "colab_type": "code",
        "hidden": true,
        "id": "26J0SafNx9QN",
        "colab": {}
      },
      "cell_type": "code",
      "source": [
        "def loss_function(recon_x, x):\n",
        "    BCE = F.binary_cross_entropy(recon_x, x, reduction='sum')\n",
        "    return(BCE)\n",
        "def decode_loader(data, batch_size):\n",
        "    perm = torch.randperm(data.size(0))\n",
        "    idx = perm[:batch_size]\n",
        "    batch=data[idx]\n",
        "    return(batch)\n",
        "def export_tensor(out_tensor,filename):\n",
        "    arr = out_tensor.data.cpu().numpy()\n",
        "    # write CSV\n",
        "    np.savetxt(filename, arr)\n",
        "def import_tensor(filename):\n",
        "    from numpy import genfromtxt\n",
        "    test = np.genfromtxt(filename)\n",
        "    import_tensor=torch.tensor(test, dtype=torch.float)\n",
        "    return(import_tensor)\n",
        "def import_saved_output(filenames,loss_filename):\n",
        "    imp_data=[]\n",
        "    for i in range(0,len(filenames)):\n",
        "        out_file='output/'+filenames[i]+'.csv'\n",
        "        test=import_tensor(out_file)\n",
        "        imp_data.append(test)\n",
        "    test_lossvec = np.genfromtxt(loss_filename)\n",
        "    return(imp_data, test_lossvec)\n",
        "def min_max_normalization(tensor, min_value, max_value):\n",
        "    min_tensor = tensor.min()\n",
        "    tensor = (tensor - min_tensor)\n",
        "    max_tensor = tensor.max()\n",
        "    tensor = tensor / max_tensor\n",
        "    tensor = tensor * (max_value - min_value) + min_value\n",
        "    return tensor\n",
        "\n",
        "def tensor_round(tensor):\n",
        "    return torch.round(tensor)"
      ],
      "execution_count": 0,
      "outputs": []
    },
    {
      "metadata": {
        "colab_type": "text",
        "heading_collapsed": true,
        "id": "WOHk-qVKx9QQ"
      },
      "cell_type": "markdown",
      "source": [
        "# Data Generation"
      ]
    },
    {
      "metadata": {
        "colab_type": "text",
        "hidden": true,
        "id": "SPCY5lTwx9QR"
      },
      "cell_type": "markdown",
      "source": [
        "## Pull Indices and Labels"
      ]
    },
    {
      "metadata": {
        "colab_type": "code",
        "hidden": true,
        "id": "nSOUZVbtx9QR",
        "colab": {}
      },
      "cell_type": "code",
      "source": [
        "def get_images(img_return_cnt,labels_raw, data_raw):\n",
        "    found=False\n",
        "    img_agg_cnt=np.zeros(10)\n",
        "    img_return_cnt=np.array(img_return_cnt)\n",
        "    i=0\n",
        "    labels=[]\n",
        "    indices=[]\n",
        "    while found==False and 70000>i:\n",
        "        target=labels_raw[i]\n",
        "        index=int(labels_raw[i].data)\n",
        "        if np.dot(np.subtract(img_agg_cnt, img_return_cnt),np.ones(10))==0:\n",
        "            found=True\n",
        "        else:\n",
        "            if img_agg_cnt[index] < img_return_cnt[index]:\n",
        "                img_agg_cnt[index]+=1\n",
        "                indices.append(i)\n",
        "        i+=1\n",
        "    return(indices)"
      ],
      "execution_count": 0,
      "outputs": []
    },
    {
      "metadata": {
        "colab_type": "text",
        "hidden": true,
        "id": "7esglvhmx9QU"
      },
      "cell_type": "markdown",
      "source": [
        "## Gen Random Embeddings"
      ]
    },
    {
      "metadata": {
        "colab_type": "code",
        "hidden": true,
        "id": "osBwbnsix9QV",
        "colab": {}
      },
      "cell_type": "code",
      "source": [
        "def gen_rand_data(img_return_cnt,labels_raw, data_raw,Rdim):\n",
        "    #num_img_type= scalar= equal to the number of image categories\n",
        "    #img_return_cnt = array = index of array is the image type and value is sample size for image type\n",
        "    #example_data = data loader data in form: batch_idx, (example_data, example_targets) \n",
        "    #max_i= data size\n",
        "    #Rdim= vector dimension for rand generation\n",
        "    #img_return_cnt = array = index of array is the image type and value is sample size for image type\n",
        "    found=False\n",
        "    img_agg_cnt=np.zeros(10)\n",
        "    img_return_cnt=np.array(img_return_cnt)\n",
        "    i=0\n",
        "    first=True\n",
        "    labels=[]\n",
        "    indices=[]\n",
        "    while found==False and 70000>i:\n",
        "        target=labels_raw[i]\n",
        "        index=int(labels_raw[i].data)\n",
        "        if np.dot(np.subtract(img_agg_cnt, img_return_cnt),np.ones(10))==0:\n",
        "            found=True\n",
        "        else:\n",
        "            if img_agg_cnt[index] < img_return_cnt[index]:\n",
        "                labels.append(target.item())\n",
        "                datum=data_raw[i].view(-1,28*28)\n",
        "                img_agg_cnt[index]+=1\n",
        "                indices.append(i)\n",
        "                if first==True:\n",
        "                    x_tensor=datum\n",
        "                    randEnc_tensor=torch.rand(1, Rdim).cuda()\n",
        "                    first=False \n",
        "                else:\n",
        "                    omega=torch.rand(1, Rdim).cuda()\n",
        "                    x_tensor=torch.cat((x_tensor,datum),0)\n",
        "                    randEnc_tensor=torch.cat((randEnc_tensor,omega),0)\n",
        "        i+=1\n",
        "    data = rgenData(randEnc_tensor, x_tensor)\n",
        "    return(data, labels, indices)"
      ],
      "execution_count": 0,
      "outputs": []
    },
    {
      "metadata": {
        "colab_type": "text",
        "hidden": true,
        "id": "JTJFjv1rx9QZ"
      },
      "cell_type": "markdown",
      "source": [
        "## Create RandEmbedding with Image Index"
      ]
    },
    {
      "metadata": {
        "colab_type": "code",
        "hidden": true,
        "id": "UQpB3bvNx9Qa",
        "colab": {}
      },
      "cell_type": "code",
      "source": [
        "def get_randenc_byindex(indices, labels_raw, data_raw,Rdim):\n",
        "    #num_img_type= scalar= equal to the number of image categories\n",
        "    #img_return_cnt = array = index of array is the image type and value is sample size for image type\n",
        "    #example_data = data loader data in form: batch_idx, (example_data, example_targets) \n",
        "    #max_i= data size\n",
        "    #Rdim= vector dimension for rand generation\n",
        "    #img_return_cnt = array = index of array is the image type and value is sample size for image type\n",
        "    i=0\n",
        "    cnt=len(indices)\n",
        "    labels=[]\n",
        "    datum=data_raw[indices[0]].view(-1,28*28)\n",
        "    datum=min_max_normalization(datum, 0, 1)\n",
        "    datum=tensor_round(datum)\n",
        "    x_tensor=datum.cuda()\n",
        "    randEnc_tensor=torch.rand(1, Rdim).cuda()\n",
        "    labels.append(labels_raw[0])\n",
        "    for i in range(1,len(indices)):\n",
        "        index=indices[i]\n",
        "        labels.append(labels_raw[index])\n",
        "        datum=data_raw[index].view(-1,28*28)\n",
        "        omega=torch.rand(1, Rdim).cuda()\n",
        "        x_tensor=torch.cat((x_tensor,datum),0)\n",
        "        randEnc_tensor=torch.cat((randEnc_tensor,omega),0)\n",
        "    data = rgenData(randEnc_tensor, x_tensor)\n",
        "    return(data, labels)"
      ],
      "execution_count": 0,
      "outputs": []
    },
    {
      "metadata": {
        "colab_type": "text",
        "hidden": true,
        "id": "B5LToT-Gx9Qf"
      },
      "cell_type": "markdown",
      "source": [
        "## Gen Dataset Given Image Index & Array of Embedding"
      ]
    },
    {
      "metadata": {
        "colab_type": "code",
        "hidden": true,
        "id": "2vgwyRmTx9Qo",
        "colab": {}
      },
      "cell_type": "code",
      "source": [
        "def get_enc_img(indices,labels_raw, data_raw,embedding):\n",
        "    #num_img_type= scalar= equal to the number of image categories\n",
        "    #img_return_cnt = array = index of array is the image type and value is sample size for image type\n",
        "    #example_data = data loader data in form: batch_idx, (example_data, example_targets) \n",
        "    #max_i= data size\n",
        "    #Rdim= vector dimension for rand generation\n",
        "    #img_return_cnt = array = index of array is the image type and value is sample size for image type\n",
        "    i=0\n",
        "    cnt=len(indices)\n",
        "    labels=[]\n",
        "    datum=data_raw[indices[0]].view(-1,28*28).cuda()\n",
        "    x_tensor=datum\n",
        "    randEnc_tensor=torch.tensor(embedding[0], dtype=torch.float).cuda()\n",
        "    labels.append(labels_raw[0])\n",
        "    for i in range(1,len(indices)):\n",
        "        index=indices[i]\n",
        "        labels.append(labels_raw[index])\n",
        "        datum=data_raw[index].view(-1,28*28).cuda()\n",
        "        omega=torch.tensor(embedding[i], dtype=torch.float).cuda()\n",
        "        x_tensor=torch.cat((x_tensor,datum),0)\n",
        "        randEnc_tensor=torch.cat((randEnc_tensor,omega),0)\n",
        "    data = rgenData(randEnc_tensor, x_tensor)\n",
        "    return(data, labels)"
      ],
      "execution_count": 0,
      "outputs": []
    },
    {
      "metadata": {
        "colab_type": "text",
        "id": "ZMsQJaJWx9Qr"
      },
      "cell_type": "markdown",
      "source": [
        "# Models"
      ]
    },
    {
      "metadata": {
        "colab_type": "text",
        "id": "935_g5cXx9Qs"
      },
      "cell_type": "markdown",
      "source": [
        "## Train Decoder"
      ]
    },
    {
      "metadata": {
        "id": "NEuC1CjHys1K",
        "colab_type": "code",
        "colab": {}
      },
      "cell_type": "code",
      "source": [
        "def train_decoder(epoch, data, model, optimizer,size,log_interval=10):\n",
        "    train_loss = 0\n",
        "    optimizer.zero_grad()\n",
        "    lossvec=[]\n",
        "    lossvec_cnt=[]\n",
        "    cnt=0\n",
        "    criterion = nn.BCELoss()\n",
        "    optimizer = torch.optim.Adam(\n",
        "    model.parameters(), lr=LR, weight_decay=1e-5)\n",
        "    for epoch in range(epoch):\n",
        "      if epoch%500==0:\n",
        "        print(epoch)\n",
        "      for j in range(0,size):\n",
        "        x=data.x[j]\n",
        "        enc=data.randEnc[j]\n",
        "        # ===================forward=====================\n",
        "        encoded, decoded = model(enc)\n",
        "        loss = criterion(decoded, x)\n",
        "        MSE_loss = nn.MSELoss()(decoded, x)\n",
        "        # ===================backward====================\n",
        "        optimizer.zero_grad()\n",
        "        loss.backward()\n",
        "        optimizer.step()\n",
        "    # ===================log========================\n",
        "    return(lossvec, lossvec_cnt, model)"
      ],
      "execution_count": 0,
      "outputs": []
    },
    {
      "metadata": {
        "colab_type": "code",
        "id": "pi-CJxPWx9Qt",
        "colab": {
          "base_uri": "https://localhost:8080/",
          "height": 53
        },
        "outputId": "676c4a5a-97ab-4f20-f727-226eb283dae7"
      },
      "cell_type": "code",
      "source": [
        "'''\n",
        "def train_decoder(epoch, data, model, optimizer,size,log_interval=10):\n",
        "    train_loss = 0\n",
        "    optimizer.zero_grad()\n",
        "    lossvec=[]\n",
        "    lossvec_cnt=[]\n",
        "    cnt=0\n",
        "    for i in range(1, epoch):\n",
        "        train_loss = 0\n",
        "        if i%10000==0:\n",
        "            print(i)\n",
        "        for j in range(0,size):\n",
        "            x=data.x[j]\n",
        "            randEnc=data.randEnc[j]\n",
        "            cnt+=1\n",
        "            encoded, decoded = model.forward(randEnc)\n",
        "            loss = loss_function(decoded, x)\n",
        "            loss.backward()\n",
        "            train_loss += loss.item()\n",
        "            optimizer.step()\n",
        "            \n",
        "            if batch_idx % log_interval == 0:\n",
        "                print('Train Epoch: {} [{}/{} ({:.0f}%)]\\tLoss: {:.6f}'.format(\n",
        "                    i, batch_idx * len(x), len(train_loader.dataset),\n",
        "                    100. * batch_idx / len(train_loader),\n",
        "                    loss.item() / len(x)))\n",
        "          \n",
        "        lossvec.append(train_loss / size)\n",
        "        lossvec_cnt.append(i)\n",
        "        \n",
        "    return (lossvec, lossvec_cnt, model)'''\n"
      ],
      "execution_count": 33,
      "outputs": [
        {
          "output_type": "execute_result",
          "data": {
            "text/plain": [
              "\"\\ndef train_decoder(epoch, data, model, optimizer,size,log_interval=10):\\n    train_loss = 0\\n    optimizer.zero_grad()\\n    lossvec=[]\\n    lossvec_cnt=[]\\n    cnt=0\\n    for i in range(1, epoch):\\n        train_loss = 0\\n        if i%10000==0:\\n            print(i)\\n        for j in range(0,size):\\n            x=data.x[j]\\n            randEnc=data.randEnc[j]\\n            cnt+=1\\n            encoded, decoded = model.forward(randEnc)\\n            loss = loss_function(decoded, x)\\n            loss.backward()\\n            train_loss += loss.item()\\n            optimizer.step()\\n            \\n            if batch_idx % log_interval == 0:\\n                print('Train Epoch: {} [{}/{} ({:.0f}%)]\\tLoss: {:.6f}'.format(\\n                    i, batch_idx * len(x), len(train_loader.dataset),\\n                    100. * batch_idx / len(train_loader),\\n                    loss.item() / len(x)))\\n          \\n        lossvec.append(train_loss / size)\\n        lossvec_cnt.append(i)\\n        \\n    return (lossvec, lossvec_cnt, model)\""
            ]
          },
          "metadata": {
            "tags": []
          },
          "execution_count": 33
        }
      ]
    },
    {
      "metadata": {
        "colab_type": "text",
        "id": "IPg07JmHx9Qw"
      },
      "cell_type": "markdown",
      "source": [
        "## Train AE"
      ]
    },
    {
      "metadata": {
        "id": "R_Dd0vVyxwL-",
        "colab_type": "code",
        "colab": {}
      },
      "cell_type": "code",
      "source": [
        "def train_AE(epoch, data, model, optimizer,size,log_interval=10):\n",
        "    train_loss = 0\n",
        "    optimizer.zero_grad()\n",
        "    lossvec=[]\n",
        "    lossvec_cnt=[]\n",
        "    cnt=0\n",
        "    criterion = nn.BCELoss()\n",
        "    optimizer = torch.optim.Adam(\n",
        "    model.parameters(), lr=LR, weight_decay=1e-5)\n",
        "    for epoch in range(epoch):\n",
        "      if epoch%500==0:\n",
        "        print(epoch)\n",
        "      for j in range(0,size):\n",
        "        x=data.x[j]\n",
        "        # ===================forward=====================\n",
        "        encoded, decoded = model(x)\n",
        "        loss = criterion(decoded, x)\n",
        "        MSE_loss = nn.MSELoss()(decoded, x)\n",
        "        # ===================backward====================\n",
        "        optimizer.zero_grad()\n",
        "        loss.backward()\n",
        "        optimizer.step()\n",
        "    # ===================log========================\n",
        "    return(lossvec, lossvec_cnt, model)"
      ],
      "execution_count": 0,
      "outputs": []
    },
    {
      "metadata": {
        "colab_type": "code",
        "id": "qzUxa_xIx9Qx",
        "colab": {
          "base_uri": "https://localhost:8080/",
          "height": 53
        },
        "outputId": "62714b27-6406-463e-ff51-e66b1c8ed83c"
      },
      "cell_type": "code",
      "source": [
        "'''def train_AE(epoch, data, model, optimizer,size,log_interval=10):\n",
        "    train_loss = 0\n",
        "    optimizer.zero_grad()\n",
        "    lossvec=[]\n",
        "    lossvec_cnt=[]\n",
        "    cnt=0\n",
        "    for i in range(1, epoch):\n",
        "        train_loss = 0\n",
        "        if i%10000==0:\n",
        "            print(i)\n",
        "        for j in range(0,size):\n",
        "            x=data.x[j]\n",
        "            cnt+=1\n",
        "            encoded, decoded = model(x)\n",
        "            loss = loss_function(decoded, x)\n",
        "            train_loss += loss.item()\n",
        "            loss.backward()\n",
        "            optimizer.step()\n",
        "           \n",
        "            if batch_idx % log_interval == 0:\n",
        "                print('Train Epoch: {} [{}/{} ({:.0f}%)]\\tLoss: {:.6f}'.format(\n",
        "                    i, batch_idx * len(x), len(train_loader.dataset),\n",
        "                    100. * batch_idx / len(train_loader),\n",
        "                    loss.item() / len(x)))\n",
        "           \n",
        "        lossvec.append(train_loss / size)\n",
        "        lossvec_cnt.append(i)\n",
        "        \n",
        "    return (lossvec, lossvec_cnt, model)'''\n"
      ],
      "execution_count": 35,
      "outputs": [
        {
          "output_type": "execute_result",
          "data": {
            "text/plain": [
              "\"def train_AE(epoch, data, model, optimizer,size,log_interval=10):\\n    train_loss = 0\\n    optimizer.zero_grad()\\n    lossvec=[]\\n    lossvec_cnt=[]\\n    cnt=0\\n    for i in range(1, epoch):\\n        train_loss = 0\\n        if i%10000==0:\\n            print(i)\\n        for j in range(0,size):\\n            x=data.x[j]\\n            cnt+=1\\n            encoded, decoded = model(x)\\n            loss = loss_function(decoded, x)\\n            train_loss += loss.item()\\n            loss.backward()\\n            optimizer.step()\\n           \\n            if batch_idx % log_interval == 0:\\n                print('Train Epoch: {} [{}/{} ({:.0f}%)]\\tLoss: {:.6f}'.format(\\n                    i, batch_idx * len(x), len(train_loader.dataset),\\n                    100. * batch_idx / len(train_loader),\\n                    loss.item() / len(x)))\\n           \\n        lossvec.append(train_loss / size)\\n        lossvec_cnt.append(i)\\n        \\n    return (lossvec, lossvec_cnt, model)\""
            ]
          },
          "metadata": {
            "tags": []
          },
          "execution_count": 35
        }
      ]
    },
    {
      "metadata": {
        "colab_type": "text",
        "heading_collapsed": true,
        "id": "xlUS2iWFx9Q2"
      },
      "cell_type": "markdown",
      "source": [
        "# Plotting"
      ]
    },
    {
      "metadata": {
        "colab_type": "code",
        "hidden": true,
        "id": "KIfVyAZMx9Q3",
        "colab": {}
      },
      "cell_type": "code",
      "source": [
        "def x_xd_plot_compare(data,model,instances,ae=False): \n",
        "    rows=instances\n",
        "    cols=2\n",
        "    tot=int(instances)*cols\n",
        "    fig = plt.figure(figsize=(rows, rows))\n",
        "    plt.tight_layout() \n",
        "    # plot with various axes scales\n",
        "    loc=0\n",
        "    fig.subplots_adjust(hspace=.5)\n",
        "    case=0\n",
        "    while case<(rows):\n",
        "        # linear\n",
        "        loc+=1\n",
        "        tensor=data[case][1].view(28,28)\n",
        "        if ae==False:\n",
        "            tensor_d=model.decode(data[case][0])\n",
        "            encoded=data[case][0]\n",
        "        else:\n",
        "            encoded, tensor_d=model(data[case][1])\n",
        "        Rdim=encoded.shape\n",
        "        Rdim=Rdim[0]\n",
        "        tensor_d_plt=tensor_d.view(28,28)\n",
        "        plt.subplot(rows, cols, loc).axis('off')\n",
        "        plt.imshow(tensor.cpu().detach().numpy(),cmap='gray')\n",
        "        plt.title(str(case))\n",
        "\n",
        "\n",
        "        loc+=1\n",
        "        # log\n",
        "        plt.subplot(rows, cols, loc).axis('off')\n",
        "        plt.imshow(tensor_d_plt.cpu().detach().numpy(),cmap='gray')\n",
        "        plt.title(str(case))\n",
        "\n",
        "\n",
        "        if case==0:\n",
        "            exp_tensor=data[case][1]\n",
        "            exp_tensor_d=tensor_d\n",
        "            exp_omega=encoded\n",
        "        else:\n",
        "            exp_tensor=torch.cat((exp_tensor,data[case][1]),0)\n",
        "            exp_tensor_d=torch.cat((exp_tensor_d,tensor_d),0)\n",
        "            exp_omega=torch.cat((exp_omega, encoded),0)\n",
        "        case+=1\n",
        "\n",
        "    plt.show()\n",
        "    return(exp_tensor.view(instances,784),exp_tensor_d.view(instances,784),exp_omega.view(instances,Rdim))\n"
      ],
      "execution_count": 0,
      "outputs": []
    },
    {
      "metadata": {
        "colab_type": "text",
        "id": "gDyTBLHXx9Q-"
      },
      "cell_type": "markdown",
      "source": [
        "# Experiments"
      ]
    },
    {
      "metadata": {
        "colab_type": "code",
        "id": "JmsX10M2x9Q-",
        "outputId": "4ce5cd3a-14a4-4dd3-afa9-911506659e1e",
        "colab": {
          "base_uri": "https://localhost:8080/",
          "height": 33
        }
      },
      "cell_type": "code",
      "source": [
        "'''from google.colab import drive\n",
        "drive.mount('/content/gdrive')'''\n"
      ],
      "execution_count": 37,
      "outputs": [
        {
          "output_type": "execute_result",
          "data": {
            "text/plain": [
              "\"from google.colab import drive\\ndrive.mount('/content/gdrive')\""
            ]
          },
          "metadata": {
            "tags": []
          },
          "execution_count": 37
        }
      ]
    },
    {
      "metadata": {
        "colab_type": "code",
        "id": "zjLRlZxjx9RD",
        "colab": {}
      },
      "cell_type": "code",
      "source": [
        "exp_name=\"TEst_\"\n",
        "path=\"output/\""
      ],
      "execution_count": 0,
      "outputs": []
    },
    {
      "metadata": {
        "colab_type": "code",
        "id": "1C6mst6yx9RG",
        "colab": {}
      },
      "cell_type": "code",
      "source": [
        "#labelset, dataset=gen_mnist()\n",
        "EPOCH=1"
      ],
      "execution_count": 0,
      "outputs": []
    },
    {
      "metadata": {
        "colab_type": "text",
        "id": "pirAk1acx9RI"
      },
      "cell_type": "markdown",
      "source": [
        "## Import MNIST Data"
      ]
    },
    {
      "metadata": {
        "colab_type": "code",
        "id": "5eyMKTZIx9RJ",
        "outputId": "efb674cf-4dba-484e-fb35-1a0fe1117246",
        "colab": {
          "base_uri": "https://localhost:8080/",
          "height": 53
        }
      },
      "cell_type": "code",
      "source": [
        "print('cuda found')\n",
        "#print(torch.cuda.is_available())"
      ],
      "execution_count": 40,
      "outputs": [
        {
          "output_type": "stream",
          "text": [
            "cuda found\n"
          ],
          "name": "stdout"
        }
      ]
    },
    {
      "metadata": {
        "id": "GBBeyCw8eJg4",
        "colab_type": "code",
        "colab": {
          "base_uri": "https://localhost:8080/",
          "height": 135
        },
        "outputId": "576557cd-f484-44ee-b04d-6503471a9eeb"
      },
      "cell_type": "code",
      "source": [
        "labelset, dataset=gen_mnist()\n",
        "labelset=labelset.cuda()\n",
        "dataset=dataset.cuda()"
      ],
      "execution_count": 41,
      "outputs": [
        {
          "output_type": "stream",
          "text": [
            "/root/scikit_learn_data\n"
          ],
          "name": "stdout"
        },
        {
          "output_type": "stream",
          "text": [
            "/usr/local/lib/python3.6/dist-packages/sklearn/utils/deprecation.py:77: DeprecationWarning: Function fetch_mldata is deprecated; fetch_mldata was deprecated in version 0.20 and will be removed in version 0.22\n",
            "  warnings.warn(msg, category=DeprecationWarning)\n",
            "/usr/local/lib/python3.6/dist-packages/sklearn/utils/deprecation.py:77: DeprecationWarning: Function mldata_filename is deprecated; mldata_filename was deprecated in version 0.20 and will be removed in version 0.22\n",
            "  warnings.warn(msg, category=DeprecationWarning)\n"
          ],
          "name": "stderr"
        },
        {
          "output_type": "stream",
          "text": [
            "torch.Size([70000, 784])\n"
          ],
          "name": "stdout"
        }
      ]
    },
    {
      "metadata": {
        "colab_type": "code",
        "id": "gIW7xVaBx9RQ",
        "colab": {
          "base_uri": "https://localhost:8080/",
          "height": 53
        },
        "outputId": "80f7b14a-2cbd-4f2a-acd6-02f1aebf7f9b"
      },
      "cell_type": "code",
      "source": [
        "\"\"\"\n",
        "import_file = np.genfromtxt('/content/gdrive/My Drive/mnist_labelset.txt')\n",
        "labelset=torch.tensor(import_file).cuda()\n",
        "#labelset=torch.tensor(import_file)\n",
        "pd_dataset=pd.read_csv(\"/content/gdrive/My Drive/mnist_dataset.csv\")\n",
        "np_dataset=pd_dataset.as_matrix()\n",
        "dataset_test=np_dataset.reshape(70000,28,28)\n",
        "dataset=torch.tensor(dataset_test,dtype=torch.float).cuda()\n",
        "#dataset=torch.tensor(dataset_test,dtype=torch.float\"\"\""
      ],
      "execution_count": 42,
      "outputs": [
        {
          "output_type": "execute_result",
          "data": {
            "text/plain": [
              "'\\nimport_file = np.genfromtxt(\\'/content/gdrive/My Drive/mnist_labelset.txt\\')\\nlabelset=torch.tensor(import_file).cuda()\\n#labelset=torch.tensor(import_file)\\npd_dataset=pd.read_csv(\"/content/gdrive/My Drive/mnist_dataset.csv\")\\nnp_dataset=pd_dataset.as_matrix()\\ndataset_test=np_dataset.reshape(70000,28,28)\\ndataset=torch.tensor(dataset_test,dtype=torch.float).cuda()\\n#dataset=torch.tensor(dataset_test,dtype=torch.float'"
            ]
          },
          "metadata": {
            "tags": []
          },
          "execution_count": 42
        }
      ]
    },
    {
      "metadata": {
        "colab_type": "code",
        "id": "iB3Px_nPx9RS",
        "outputId": "55af70d3-df32-49fe-a7f2-797c5060c8e8",
        "colab": {
          "base_uri": "https://localhost:8080/",
          "height": 53
        }
      },
      "cell_type": "code",
      "source": [
        "'''\n",
        "import_file = np.genfromtxt('mnist_labelset.txt')\n",
        "labelset=torch.tensor(import_file).cuda()\n",
        "#labelset=torch.tensor(import_file)\n",
        "pd_dataset=pd.read_csv(\"mnist_dataset.csv\")\n",
        "np_dataset=pd_dataset.as_matrix()\n",
        "dataset_test=np_dataset.reshape(70000,28,28)\n",
        "dataset=torch.tensor(dataset_test,dtype=torch.float).cuda()\n",
        "#dataset=torch.tensor(dataset_test,dtype=torch.float'''"
      ],
      "execution_count": 43,
      "outputs": [
        {
          "output_type": "execute_result",
          "data": {
            "text/plain": [
              "'\\nimport_file = np.genfromtxt(\\'mnist_labelset.txt\\')\\nlabelset=torch.tensor(import_file).cuda()\\n#labelset=torch.tensor(import_file)\\npd_dataset=pd.read_csv(\"mnist_dataset.csv\")\\nnp_dataset=pd_dataset.as_matrix()\\ndataset_test=np_dataset.reshape(70000,28,28)\\ndataset=torch.tensor(dataset_test,dtype=torch.float).cuda()\\n#dataset=torch.tensor(dataset_test,dtype=torch.float'"
            ]
          },
          "metadata": {
            "tags": []
          },
          "execution_count": 43
        }
      ]
    },
    {
      "metadata": {
        "colab_type": "text",
        "id": "VHJFEckfx9RY"
      },
      "cell_type": "markdown",
      "source": [
        "### Ref code for pulling images"
      ]
    },
    {
      "metadata": {
        "colab_type": "text",
        "id": "DjBQQ5eDx9RY"
      },
      "cell_type": "markdown",
      "source": [
        "## Gen Data by Dime"
      ]
    },
    {
      "metadata": {
        "colab_type": "code",
        "id": "XcaHk_bEx9Rc",
        "colab": {}
      },
      "cell_type": "code",
      "source": [
        "# Pull Random Encodings and Random Images"
      ],
      "execution_count": 0,
      "outputs": []
    },
    {
      "metadata": {
        "colab_type": "code",
        "id": "v0nuAC5tx9Rf",
        "colab": {}
      },
      "cell_type": "code",
      "source": [
        "rdim=64\n",
        "batch_size=4\n",
        "ind_shuffle=[24755, 48200, 1, 18624, 0, 24754, 12666, 30596, 54051, 30597, 5924, 18623, 41935, 12665, 36017, 5923]\n",
        "data, labels=get_randenc_byindex(ind_shuffle, labelset, dataset,rdim)"
      ],
      "execution_count": 0,
      "outputs": []
    },
    {
      "metadata": {
        "colab_type": "text",
        "id": "eG1MJmGm0gtK"
      },
      "cell_type": "markdown",
      "source": [
        ""
      ]
    },
    {
      "metadata": {
        "colab_type": "text",
        "id": "8589EqBj0gPX"
      },
      "cell_type": "markdown",
      "source": [
        ""
      ]
    },
    {
      "metadata": {
        "colab_type": "code",
        "id": "A_Fq1koXx9Rh",
        "outputId": "4a9bba38-e99b-4989-ea90-7b76d3eb0070",
        "colab": {
          "base_uri": "https://localhost:8080/",
          "height": 53
        }
      },
      "cell_type": "code",
      "source": [
        "'''# Pull Images to go with ETF\n",
        "embedding=np.matrix([[1, -1, 1, -1, 1, -1, 1, -1, 1, -1, 1, -1, 1, -1, 1, -1],\n",
        "[1, 1, -1, -1, 1, 1, -1, -1, 1, 1, -1, -1, 1, 1, -1, -1],\n",
        "[1, -1, -1, 1, 1, -1, -1, 1, 1, -1, -1, 1, 1, -1, -1, 1],\n",
        "[1, -1, 1, -1, -1, 1, -1, 1, 1, -1, 1, -1, -1, 1, -1, 1],\n",
        "[1, 1, -1, -1, 1, 1, -1, -1, -1, -1, 1, 1, -1, -1, 1, 1],\n",
        "[1, -1, -1, -1,-1, 1, 1, -1, -1, 1, 1, -1, 1, -1, -1, 1]])\n",
        "embedding=embedding.transpose()\n",
        "\n",
        "\n",
        "data, labels=get_enc_img(ind_shuffle,labelset, dataset,embedding)\n",
        "'''\n",
        "\n"
      ],
      "execution_count": 46,
      "outputs": [
        {
          "output_type": "execute_result",
          "data": {
            "text/plain": [
              "'# Pull Images to go with ETF\\nembedding=np.matrix([[1, -1, 1, -1, 1, -1, 1, -1, 1, -1, 1, -1, 1, -1, 1, -1],\\n[1, 1, -1, -1, 1, 1, -1, -1, 1, 1, -1, -1, 1, 1, -1, -1],\\n[1, -1, -1, 1, 1, -1, -1, 1, 1, -1, -1, 1, 1, -1, -1, 1],\\n[1, -1, 1, -1, -1, 1, -1, 1, 1, -1, 1, -1, -1, 1, -1, 1],\\n[1, 1, -1, -1, 1, 1, -1, -1, -1, -1, 1, 1, -1, -1, 1, 1],\\n[1, -1, -1, -1,-1, 1, 1, -1, -1, 1, 1, -1, 1, -1, -1, 1]])\\nembedding=embedding.transpose()\\n\\n\\ndata, labels=get_enc_img(ind_shuffle,labelset, dataset,embedding)\\n'"
            ]
          },
          "metadata": {
            "tags": []
          },
          "execution_count": 46
        }
      ]
    },
    {
      "metadata": {
        "colab_type": "text",
        "id": "xaY5AsMEx9Rm"
      },
      "cell_type": "markdown",
      "source": [
        "# AE Classes"
      ]
    },
    {
      "metadata": {
        "id": "pqrvO1J-SzPS",
        "colab_type": "code",
        "colab": {}
      },
      "cell_type": "code",
      "source": [
        "class decode_sequential_6D1L(nn.Module):\n",
        "    def __init__(self):\n",
        "        super(decode_sequential_6D1L, self).__init__()\n",
        "        self.decode = nn.Sequential(\n",
        "            nn.Linear(6, 784),\n",
        "            nn.Sigmoid())\n",
        "\n",
        "    def forward(self, x):\n",
        "        encoded = x\n",
        "        decoded = self.decode(encoded)\n",
        "        return encoded, decoded"
      ],
      "execution_count": 0,
      "outputs": []
    },
    {
      "metadata": {
        "id": "SfM9sI0g5YaQ",
        "colab_type": "code",
        "colab": {}
      },
      "cell_type": "code",
      "source": [
        "class decode_sequential_6D2L(nn.Module):\n",
        "    def __init__(self):\n",
        "        super(decode_sequential_6D2L, self).__init__()\n",
        "        self.decode = nn.Sequential(\n",
        "            nn.Linear(6, 100),\n",
        "            nn.ReLU(True),\n",
        "            nn.Linear(100, 28 * 28),\n",
        "            nn.Sigmoid())\n",
        "\n",
        "    def forward(self, x):\n",
        "        encoded = x\n",
        "        decoded = self.decode(encoded)\n",
        "        return encoded, decoded\n"
      ],
      "execution_count": 0,
      "outputs": []
    },
    {
      "metadata": {
        "id": "Sqp_A37P56zq",
        "colab_type": "code",
        "colab": {}
      },
      "cell_type": "code",
      "source": [
        "class decode_sequential_6D3L(nn.Module):\n",
        "    def __init__(self):\n",
        "        super(decode_sequential_6D3L, self).__init__()\n",
        "        self.decode = nn.Sequential(\n",
        "            nn.Linear(6, 100),\n",
        "            nn.ReLU(True),\n",
        "            nn.Linear(100, 200),\n",
        "            nn.ReLU(True),\n",
        "            nn.Linear(200, 784),\n",
        "            nn.Sigmoid())\n",
        "\n",
        "    def forward(self, x):\n",
        "        encoded = x\n",
        "        decoded = self.decode(encoded)\n",
        "        return encoded, decoded"
      ],
      "execution_count": 0,
      "outputs": []
    },
    {
      "metadata": {
        "id": "Bo-zXIlS5ti8",
        "colab_type": "code",
        "colab": {}
      },
      "cell_type": "code",
      "source": [
        ""
      ],
      "execution_count": 0,
      "outputs": []
    },
    {
      "metadata": {
        "id": "POtMZdoYEUB1",
        "colab_type": "code",
        "colab": {}
      },
      "cell_type": "code",
      "source": [
        "class decode_sequential_6D4L(nn.Module):\n",
        "    def __init__(self):\n",
        "        super(decode_sequential_6D4L, self).__init__()\n",
        "        self.decode = nn.Sequential(\n",
        "            nn.Linear(6, 784),\n",
        "            nn.ReLU(True),\n",
        "            nn.Linear(784, 784),\n",
        "            nn.ReLU(True),\n",
        "            nn.Linear(784, 784),\n",
        "            nn.ReLU(True),\n",
        "            nn.Linear(784, 784),\n",
        "            nn.Sigmoid())\n",
        "\n",
        "    def forward(self, x):\n",
        "        encoded = x\n",
        "        decoded = self.decode(encoded)\n",
        "        return encoded, decoded"
      ],
      "execution_count": 0,
      "outputs": []
    },
    {
      "metadata": {
        "id": "JnQijPSaUOrc",
        "colab_type": "code",
        "colab": {}
      },
      "cell_type": "code",
      "source": [
        "class autoencoder(nn.Module):\n",
        "    def __init__(self):\n",
        "        super(autoencoder, self).__init__()\n",
        "        self.encode = nn.Sequential(\n",
        "            nn.Linear(28 * 28, 256),\n",
        "            nn.ReLU(True),\n",
        "            nn.Linear(256, 64),\n",
        "            nn.ReLU(True))\n",
        "        self.decode = nn.Sequential(\n",
        "            nn.Linear(64, 256),\n",
        "            nn.ReLU(True),\n",
        "            nn.Linear(256, 28 * 28),\n",
        "            nn.Sigmoid())\n",
        "\n",
        "    def forward(self, x):\n",
        "        encoded = self.encode(x)\n",
        "        decoded = self.decode(encoded)\n",
        "        return encoded, decoded"
      ],
      "execution_count": 0,
      "outputs": []
    },
    {
      "metadata": {
        "id": "rjrUgMYwzMFt",
        "colab_type": "code",
        "colab": {}
      },
      "cell_type": "code",
      "source": [
        "class decoder(nn.Module):\n",
        "    def __init__(self):\n",
        "        super(decoder, self).__init__()\n",
        "        self.encode = nn.Sequential(\n",
        "            nn.Linear(28 * 28, 256),\n",
        "            nn.ReLU(True),\n",
        "            nn.Linear(256, 64),\n",
        "            nn.ReLU(True))\n",
        "        self.decode = nn.Sequential(\n",
        "            nn.Linear(64, 256),\n",
        "            nn.ReLU(True),\n",
        "            nn.Linear(256, 28 * 28),\n",
        "            nn.Sigmoid())\n",
        "    def forward(self, x):\n",
        "        encoded = x\n",
        "        decoded = self.decode(encoded)\n",
        "        return encoded, decoded"
      ],
      "execution_count": 0,
      "outputs": []
    },
    {
      "metadata": {
        "id": "A9rUtVc_Udwz",
        "colab_type": "code",
        "colab": {}
      },
      "cell_type": "code",
      "source": [
        "class autoencoder_3L(nn.Module):\n",
        "    def __init__(self):\n",
        "        super(autoencoder_3L, self).__init__()\n",
        "        self.encoder = nn.Sequential(\n",
        "            nn.Linear(28 * 28, 256),\n",
        "            nn.ReLU(True),\n",
        "             nn.Linear(256,100),\n",
        "            nn.ReLU(True),\n",
        "            nn.Linear(100, 64),\n",
        "            nn.ReLU(True))\n",
        "        self.decoder = nn.Sequential(\n",
        "            nn.Linear(64, 100),\n",
        "            nn.ReLU(True),\n",
        "            nn.Linear(100, 256),\n",
        "            nn.ReLU(True),\n",
        "            nn.Linear(256, 28 * 28),\n",
        "            nn.Sigmoid())\n",
        "\n",
        "    def forward(self, x):\n",
        "        encoded = self.encoder(x)\n",
        "        decoded = self.decoder(encoded)\n",
        "        return encoded, decoded"
      ],
      "execution_count": 0,
      "outputs": []
    },
    {
      "metadata": {
        "id": "i5Rm-UJ611rf",
        "colab_type": "code",
        "colab": {}
      },
      "cell_type": "code",
      "source": [
        "class decoder_3L(nn.Module):\n",
        "    def __init__(self):\n",
        "        super(decoder_3L, self).__init__()\n",
        "        self.encoder = nn.Sequential(\n",
        "            nn.Linear(28 * 28, 256),\n",
        "            nn.ReLU(True),\n",
        "             nn.Linear(256,100),\n",
        "            nn.ReLU(True),\n",
        "            nn.Linear(100, 64),\n",
        "            nn.ReLU(True))\n",
        "        self.decode = nn.Sequential(\n",
        "            nn.Linear(64, 100),\n",
        "            nn.ReLU(True),\n",
        "            nn.Linear(100, 256),\n",
        "            nn.ReLU(True),\n",
        "            nn.Linear(256, 28 * 28),\n",
        "            nn.Sigmoid())\n",
        "\n",
        "    def forward(self, x):\n",
        "        encoded = x\n",
        "        decoded = self.decode(encoded)\n",
        "        return encoded, decoded"
      ],
      "execution_count": 0,
      "outputs": []
    },
    {
      "metadata": {
        "id": "Lmvgy7x5VqyO",
        "colab_type": "code",
        "colab": {}
      },
      "cell_type": "code",
      "source": [
        ""
      ],
      "execution_count": 0,
      "outputs": []
    },
    {
      "metadata": {
        "id": "hwYGqHKiVukJ",
        "colab_type": "code",
        "colab": {}
      },
      "cell_type": "code",
      "source": [
        ""
      ],
      "execution_count": 0,
      "outputs": []
    },
    {
      "metadata": {
        "id": "WbQ841otd6Z3",
        "colab_type": "text"
      },
      "cell_type": "markdown",
      "source": [
        "# Experiments"
      ]
    },
    {
      "metadata": {
        "colab_type": "code",
        "id": "J3dXeculx9Rm",
        "colab": {}
      },
      "cell_type": "code",
      "source": [
        "EPOCH=50000\n",
        "exp_name=\"relu_decoder_\""
      ],
      "execution_count": 0,
      "outputs": []
    },
    {
      "metadata": {
        "id": "AamxNkuC75_6",
        "colab_type": "code",
        "colab": {
          "base_uri": "https://localhost:8080/",
          "height": 935
        },
        "outputId": "a7f51537-b45b-46b6-9b15-73d1b6df57b2"
      },
      "cell_type": "code",
      "source": [
        "EPOCH=2000\n",
        "model_tut = autoencoder().cuda()\n",
        "criterion = nn.BCELoss()\n",
        "optimizer = torch.optim.Adam(\n",
        "model_tut.parameters(), lr=LR, weight_decay=1e-5)\n",
        "size=16\n",
        "for epoch in range(EPOCH):\n",
        "    for j in range(0,size):\n",
        "        img=data.x[j]\n",
        "        # ===================forward=====================\n",
        "        encoded, decoded = model_tut(img)\n",
        "        loss = criterion(decoded, img)\n",
        "        MSE_loss = nn.MSELoss()(decoded, img)\n",
        "        # ===================backward====================\n",
        "        optimizer.zero_grad()\n",
        "        loss.backward()\n",
        "        optimizer.step()\n",
        "    # ===================log========================\n",
        "tensor, tensor_d, omega=x_xd_plot_compare(data,model_tut,size,ae=True)\n"
      ],
      "execution_count": 95,
      "outputs": [
        {
          "output_type": "display_data",
          "data": {
            "image/png": "[encoded data removed]",
            "text/plain": [
              "<Figure size 1152x1152 with 32 Axes>"
            ]
          },
          "metadata": {
            "tags": []
          }
        }
      ]
    },
    {
      "metadata": {
        "id": "r4yVPcHGUjju",
        "colab_type": "code",
        "colab": {
          "base_uri": "https://localhost:8080/",
          "height": 1048
        },
        "outputId": "556aa015-ea06-41be-8f7e-e1aad1083b43"
      },
      "cell_type": "code",
      "source": [
        "EPOCH=1000\n",
        "expnum='1'\n",
        "model_in =  autoencoder().cuda()\n",
        "#model_in =   AE_1L50D()\n",
        "print('model loaded as cuda')\n",
        "print(model_in.parameters())\n",
        "optimizer = torch.optim.Adam(model_in.parameters(), lr=LR, weight_decay=1e-5)\n",
        "train_loss = 0\n",
        "optimizer.zero_grad()\n",
        "\n",
        "size=len(labels)\n",
        "start_time = time.time()\n",
        "lossvec, lossvec_cnt, model=train_AE(EPOCH,data,model_in, optimizer,size) \n",
        "print('--- train mins %---')\n",
        "print((time.time() - start_time)/60)\n",
        "######################################\n",
        "\n",
        "###############################################################################################################################\n",
        "## UPDATE\n",
        "print(exp_name)\n",
        "tensor, tensor_d, omega=x_xd_plot_compare(data,model_in,size,ae=True)\n"
      ],
      "execution_count": 76,
      "outputs": [
        {
          "output_type": "stream",
          "text": [
            "model loaded as cuda\n",
            "<generator object Module.parameters at 0x7ff7eb3b8f10>\n",
            "0\n",
            "500\n",
            "--- train mins %---\n",
            "0.47191566228866577\n",
            "TEst_\n"
          ],
          "name": "stdout"
        },
        {
          "output_type": "display_data",
          "data": {
            "image/png": "[encoded data removed]",
            "text/plain": [
              "<Figure size 1152x1152 with 32 Axes>"
            ]
          },
          "metadata": {
            "tags": []
          }
        }
      ]
    },
    {
      "metadata": {
        "id": "lCN1S1td1YZR",
        "colab_type": "code",
        "colab": {
          "base_uri": "https://localhost:8080/",
          "height": 1081
        },
        "outputId": "aeb1f1c5-9b6c-4572-b2e1-2e190a51b59b"
      },
      "cell_type": "code",
      "source": [
        "EPOCH=2000\n",
        "expnum='1'\n",
        "model_in =  autoencoder_3L().cuda()\n",
        "#model_in =   AE_1L50D()\n",
        "print('model loaded as cuda')\n",
        "print(model_in.parameters())\n",
        "optimizer = torch.optim.Adam(model_in.parameters(), lr=LR, weight_decay=1e-5)\n",
        "train_loss = 0\n",
        "optimizer.zero_grad()\n",
        "\n",
        "size=len(labels)\n",
        "start_time = time.time()\n",
        "lossvec, lossvec_cnt, model=train_AE(EPOCH,data,model_in, optimizer,size) \n",
        "print('--- train mins %---')\n",
        "print((time.time() - start_time)/60)\n",
        "######################################\n",
        "\n",
        "###############################################################################################################################\n",
        "## UPDATE\n",
        "print(exp_name)\n",
        "tensor, tensor_d, omega=x_xd_plot_compare(data,model_in,size,ae=True)\n"
      ],
      "execution_count": 58,
      "outputs": [
        {
          "output_type": "stream",
          "text": [
            "model loaded as cuda\n",
            "<generator object Module.parameters at 0x7f965ab86570>\n",
            "0\n",
            "500\n",
            "1000\n",
            "1500\n",
            "--- train mins %---\n",
            "1.269085955619812\n",
            "TEst_\n"
          ],
          "name": "stdout"
        },
        {
          "output_type": "display_data",
          "data": {
            "image/png": "[encoded data removed]",
            "text/plain": [
              "<Figure size 1152x1152 with 32 Axes>"
            ]
          },
          "metadata": {
            "tags": []
          }
        }
      ]
    },
    {
      "metadata": {
        "id": "-qWJxnAVFZmj",
        "colab_type": "code",
        "colab": {
          "base_uri": "https://localhost:8080/",
          "height": 286
        },
        "outputId": "c0b43f92-7764-428e-9cdd-5f7f05b5ace0"
      },
      "cell_type": "code",
      "source": [
        "encoded, tensor_d=model(data[15][1])\n",
        "tensor_d_plt=tensor_d.view(28,28)\n",
        "plt.imshow(tensor_d_plt.cpu().detach().numpy(),cmap='gray')\n"
      ],
      "execution_count": 64,
      "outputs": [
        {
          "output_type": "execute_result",
          "data": {
            "text/plain": [
              "<matplotlib.image.AxesImage at 0x7f9650c1cac8>"
            ]
          },
          "metadata": {
            "tags": []
          },
          "execution_count": 64
        },
        {
          "output_type": "display_data",
          "data": {
            "image/png": "[encoded data removed]",
            "text/plain": [
              "<Figure size 432x288 with 1 Axes>"
            ]
          },
          "metadata": {
            "tags": []
          }
        }
      ]
    },
    {
      "metadata": {
        "id": "aMPueBqunMnx",
        "colab_type": "code",
        "colab": {
          "base_uri": "https://localhost:8080/",
          "height": 1146
        },
        "outputId": "afb2712e-b2a8-4cbf-b37f-6aabfdbeb17d"
      },
      "cell_type": "code",
      "source": [
        "LR=0.005\n",
        "EPOCH=4000\n",
        "expnum='1'\n",
        "model_in =  decoder().cuda()\n",
        "#model_in =   AE_1L50D()\n",
        "print('model loaded as cuda')\n",
        "print(model_in.parameters())\n",
        "optimizer = torch.optim.Adam(model_in.parameters(), lr=LR, weight_decay=1e-5)\n",
        "train_loss = 0\n",
        "optimizer.zero_grad()\n",
        "\n",
        "size=len(labels)\n",
        "start_time = time.time()\n",
        "lossvec, lossvec_cnt, model=train_decoder(EPOCH,data,model_in, optimizer,size) \n",
        "print('--- train mins %---')\n",
        "print((time.time() - start_time)/60)\n",
        "######################################\n",
        "\n",
        "###############################################################################################################################\n",
        "## UPDATE\n",
        "print(exp_name)\n",
        "tensor, tensor_d, omega=x_xd_plot_compare(data,model_in,size)\n"
      ],
      "execution_count": 57,
      "outputs": [
        {
          "output_type": "stream",
          "text": [
            "model loaded as cuda\n",
            "<generator object Module.parameters at 0x7f9650b9ff10>\n",
            "0\n",
            "500\n",
            "1000\n",
            "1500\n",
            "2000\n",
            "2500\n",
            "3000\n",
            "3500\n",
            "--- train mins %---\n",
            "1.2322856744130453\n",
            "TEst_\n"
          ],
          "name": "stdout"
        },
        {
          "output_type": "display_data",
          "data": {
            "image/png": "[encoded data removed]",
            "text/plain": [
              "<Figure size 1152x1152 with 32 Axes>"
            ]
          },
          "metadata": {
            "tags": []
          }
        }
      ]
    },
    {
      "metadata": {
        "id": "MX9aSmovwxqg",
        "colab_type": "code",
        "colab": {
          "base_uri": "https://localhost:8080/",
          "height": 1048
        },
        "outputId": "cedee48a-e159-4f93-d7db-bc8fef7e207d"
      },
      "cell_type": "code",
      "source": [
        "EPOCH=1000\n",
        "expnum='1'\n",
        "model_in =  decoder_3L().cuda()\n",
        "#model_in =   AE_1L50D()\n",
        "print('model loaded as cuda')\n",
        "print(model_in.parameters())\n",
        "optimizer = torch.optim.Adam(model.parameters(), lr=LR, weight_decay=1e-5)\n",
        "train_loss = 0\n",
        "optimizer.zero_grad()\n",
        "\n",
        "size=len(labels)\n",
        "start_time = time.time()\n",
        "lossvec, lossvec_cnt, model=train_decoder(EPOCH,data,model_in, optimizer,size) \n",
        "print('--- train mins %---')\n",
        "print((time.time() - start_time)/60)\n",
        "######################################\n",
        "\n",
        "###############################################################################################################################\n",
        "## UPDATE\n",
        "print(exp_name)\n",
        "tensor, tensor_d, omega=x_xd_plot_compare(data,model_in,size)\n"
      ],
      "execution_count": 227,
      "outputs": [
        {
          "output_type": "stream",
          "text": [
            "model loaded as cuda\n",
            "<generator object Module.parameters at 0x7f03010740a0>\n",
            "0\n",
            "500\n",
            "--- train mins %---\n",
            "0.39284063975016276\n",
            "relu_decoder_\n"
          ],
          "name": "stdout"
        },
        {
          "output_type": "display_data",
          "data": {
            "image/png": "[encoded data removed]",
            "text/plain": [
              "<Figure size 1152x1152 with 32 Axes>"
            ]
          },
          "metadata": {
            "tags": []
          }
        }
      ]
    },
    {
      "metadata": {
        "id": "KbjQFH-CSsg5",
        "colab_type": "code",
        "colab": {
          "base_uri": "https://localhost:8080/",
          "height": 1022
        },
        "outputId": "32c4594f-a83e-4443-d780-0099bbe9dee0"
      },
      "cell_type": "code",
      "source": [
        "expnum='1'\n",
        "model_in =  decode_sequential_6D1L().cuda()\n",
        "#model_in =   AE_1L50D()\n",
        "print('model loaded as cuda')\n",
        "print(model_in.parameters())\n",
        "optimizer = torch.optim.Adam(model_in.parameters(), lr=LR)\n",
        "train_loss = 0\n",
        "optimizer.zero_grad()\n",
        "\n",
        "EPOCH=1000\n",
        "size=len(labels)\n",
        "start_time = time.time()\n",
        "lossvec, lossvec_cnt, model=train_decoder(EPOCH,data,model_in, optimizer,size) \n",
        "print('--- train mins %---')\n",
        "print((time.time() - start_time)/60)\n",
        "######################################\n",
        "\n",
        "###############################################################################################################################\n",
        "## UPDATE\n",
        "print(exp_name)\n",
        "tensor, tensor_d, omega=x_xd_plot_compare(data,model_in,size)\n"
      ],
      "execution_count": 125,
      "outputs": [
        {
          "output_type": "stream",
          "text": [
            "model loaded as cuda\n",
            "<generator object Module.parameters at 0x7f03010e36d0>\n",
            "--- train mins %---\n",
            "0.21088324387868246\n",
            "relu_decoder_\n"
          ],
          "name": "stdout"
        },
        {
          "output_type": "display_data",
          "data": {
            "image/png": "[encoded data removed]",
            "text/plain": [
              "<Figure size 1152x1152 with 32 Axes>"
            ]
          },
          "metadata": {
            "tags": []
          }
        }
      ]
    },
    {
      "metadata": {
        "colab_type": "text",
        "id": "rOxwjbt8x9Rq"
      },
      "cell_type": "markdown",
      "source": [
        "### Run Code"
      ]
    },
    {
      "metadata": {
        "colab_type": "code",
        "id": "6GTfLZ30x9Rq",
        "outputId": "c44a78ad-f516-4e0b-b5e4-b8e711583168",
        "colab": {
          "base_uri": "https://localhost:8080/",
          "height": 1022
        }
      },
      "cell_type": "code",
      "source": [
        "expnum='1'\n",
        "model_in =  decode_sequential_6D2L().cuda()\n",
        "#model_in =   AE_1L50D()\n",
        "print('model loaded as cuda')\n",
        "print(model_in.parameters())\n",
        "optimizer = torch.optim.Adam(model_in.parameters(), lr=LR)\n",
        "train_loss = 0\n",
        "optimizer.zero_grad()\n",
        "\n",
        "EPOCH=1000\n",
        "size=len(labels)\n",
        "start_time = time.time()\n",
        "lossvec, lossvec_cnt, model=train_decoder(EPOCH,data,model_in, optimizer,size) \n",
        "print('--- train mins %---')\n",
        "print((time.time() - start_time)/60)\n",
        "######################################\n",
        "\n",
        "###############################################################################################################################\n",
        "## UPDATE\n",
        "print(exp_name)\n",
        "tensor, tensor_d, omega=x_xd_plot_compare(data,model_in,size)\n"
      ],
      "execution_count": 116,
      "outputs": [
        {
          "output_type": "stream",
          "text": [
            "model loaded as cuda\n",
            "<generator object Module.parameters at 0x7f03012a49e8>\n",
            "--- train mins %---\n",
            "0.2778556982676188\n",
            "relu_decoder_\n"
          ],
          "name": "stdout"
        },
        {
          "output_type": "display_data",
          "data": {
            "image/png": "[encoded data removed]",
            "text/plain": [
              "<Figure size 1152x1152 with 32 Axes>"
            ]
          },
          "metadata": {
            "tags": []
          }
        }
      ]
    },
    {
      "metadata": {
        "code_folding": [],
        "colab_type": "code",
        "id": "S4ElwkOCx9Rt",
        "scrolled": true,
        "colab": {
          "base_uri": "https://localhost:8080/",
          "height": 1022
        },
        "outputId": "01a0984c-8a7d-46f1-c240-b59d4edb5e71"
      },
      "cell_type": "code",
      "source": [
        "expnum='2'\n",
        "model_in =  decode_sequential_6D3L().cuda()\n",
        "#model_in =   AE_1L50D()\n",
        "print('model loaded as cuda')\n",
        "print(model_in.parameters())\n",
        "optimizer = torch.optim.Adam(model_in.parameters(), lr=LR)\n",
        "train_loss = 0\n",
        "optimizer.zero_grad()\n",
        "\n",
        "size=len(labels)\n",
        "start_time = time.time()\n",
        "lossvec, lossvec_cnt, model=train_decoder(EPOCH,data,model_in, optimizer,size) \n",
        "print('--- train mins %---')\n",
        "print((time.time() - start_time)/60)\n",
        "######################################\n",
        "\n",
        "###############################################################################################################################\n",
        "## UPDATE\n",
        "print(exp_name)\n",
        "tensor, tensor_d, omega=x_xd_plot_compare(data,model_in,size)\n"
      ],
      "execution_count": 121,
      "outputs": [
        {
          "output_type": "stream",
          "text": [
            "model loaded as cuda\n",
            "<generator object Module.parameters at 0x7f030118beb8>\n",
            "--- train mins %---\n",
            "3.4102563699086508\n",
            "relu_decoder_\n"
          ],
          "name": "stdout"
        },
        {
          "output_type": "display_data",
          "data": {
            "image/png": "[encoded data removed]",
            "text/plain": [
              "<Figure size 1152x1152 with 32 Axes>"
            ]
          },
          "metadata": {
            "tags": []
          }
        }
      ]
    },
    {
      "metadata": {
        "colab_type": "code",
        "id": "tT7uzCwQx9Ry",
        "colab": {}
      },
      "cell_type": "code",
      "source": [
        "# Print model's state_dict\n",
        "print(\"Model's state_dict:\")\n",
        "for param_tensor in model_in.state_dict():\n",
        "    print(param_tensor, \"\\t\", model.state_dict()[param_tensor].size())\n",
        "\n",
        "# Print optimizer's state_dict\n",
        "print(\"Optimizer's state_dict:\")\n",
        "for var_name in optimizer.state_dict():\n",
        "    print(var_name, \"\\t\", optimizer.state_dict()[var_name])\n",
        "    \n",
        "PATH=path+exp_name+'exp'+expnum+'model.pt'\n",
        "torch.save(model_in.state_dict(), PATH)\n",
        "\n",
        "###############################################################################################################################\n",
        "## UPDATE\n",
        "print(exp_name)\n",
        "tensor, tensor_d, omega=x_xd_plot_compare(data,model,size,ae=True)"
      ],
      "execution_count": 0,
      "outputs": []
    },
    {
      "metadata": {
        "colab_type": "code",
        "id": "N_E4F4wrx9R0",
        "colab": {}
      },
      "cell_type": "code",
      "source": [
        "tensor_d_name=path+exp_name+'exp'+expnum+'_tensor_d'\n",
        "tensor_name=path+exp_name+'exp'+expnum+'_tensor'\n",
        "omega_name=path+exp_name+'exp'+expnum+'_omega'\n",
        "loss_filename=path+exp_name+'exp'+expnum+'_lossvec.csv'\n",
        "labels_filename=path+exp_name+'exp'+expnum+'_labels_test.csv'\n",
        "\n",
        "filenames=[tensor_name, tensor_d_name, omega_name]\n",
        "data_out=[]\n",
        "data_out.append(tensor)\n",
        "data_out.append(tensor_d)\n",
        "data_out.append(omega)\n",
        "\n",
        "for i in range(0,len(filenames)):\n",
        "    out_file=filenames[i]+'.csv'\n",
        "    export_tensor(data_out[i],out_file)\n",
        "np.savetxt(loss_filename, lossvec)\n",
        "np.savetxt(labels_filename, labels)"
      ],
      "execution_count": 0,
      "outputs": []
    },
    {
      "metadata": {
        "colab_type": "text",
        "id": "aeRceE5Mx9R3"
      },
      "cell_type": "markdown",
      "source": [
        "### Run Code"
      ]
    },
    {
      "metadata": {
        "colab_type": "code",
        "id": "p92yVAXdx9R4",
        "colab": {}
      },
      "cell_type": "code",
      "source": [
        "expnum='2'\n",
        "model_in =   Decoder_2L_6D().cuda()\n",
        "#model_in =   AE_1L50D()\n",
        "print('model loaded as cuda')\n",
        "print(model_in.parameters())\n",
        "optimizer = torch.optim.Adam(model_in.parameters(), lr=LR)\n",
        "train_loss = 0\n",
        "optimizer.zero_grad()\n"
      ],
      "execution_count": 0,
      "outputs": []
    },
    {
      "metadata": {
        "code_folding": [],
        "colab_type": "code",
        "id": "iek10r_fx9R6",
        "scrolled": true,
        "colab": {}
      },
      "cell_type": "code",
      "source": [
        "size=len(labels)\n",
        "start_time = time.time()\n",
        "lossvec, lossvec_cnt, model=train_decoder(EPOCH,data,model_in, optimizer,size) \n",
        "print('--- train mins %---')\n",
        "print((time.time() - start_time)/60)\n",
        "######################################\n",
        "\n",
        "###############################################################################################################################\n",
        "## UPDATE\n",
        "print(exp_name)\n",
        "tensor, tensor_d, omega=x_xd_plot_compare(data,model,size)\n"
      ],
      "execution_count": 0,
      "outputs": []
    },
    {
      "metadata": {
        "colab_type": "code",
        "id": "jKCr3y9Qx9R9",
        "colab": {}
      },
      "cell_type": "code",
      "source": [
        "# Print model's state_dict\n",
        "print(\"Model's state_dict:\")\n",
        "for param_tensor in model_in.state_dict():\n",
        "    print(param_tensor, \"\\t\", model.state_dict()[param_tensor].size())\n",
        "\n",
        "# Print optimizer's state_dict\n",
        "print(\"Optimizer's state_dict:\")\n",
        "for var_name in optimizer.state_dict():\n",
        "    print(var_name, \"\\t\", optimizer.state_dict()[var_name])\n",
        "    \n",
        "PATH=path+exp_name+'exp'+expnum+'model.pt'\n",
        "torch.save(model_in.state_dict(), PATH)\n",
        "\n",
        "###############################################################################################################################\n",
        "## UPDATE\n",
        "print(exp_name)\n",
        "tensor, tensor_d, omega=x_xd_plot_compare(data,model,size,ae=True)"
      ],
      "execution_count": 0,
      "outputs": []
    },
    {
      "metadata": {
        "colab_type": "code",
        "id": "CuPRSdBJx9R_",
        "colab": {}
      },
      "cell_type": "code",
      "source": [
        "tensor_d_name=path+exp_name+'exp'+expnum+'_tensor_d'\n",
        "tensor_name=path+exp_name+'exp'+expnum+'_tensor'\n",
        "omega_name=path+exp_name+'exp'+expnum+'_omega'\n",
        "loss_filename=path+exp_name+'exp'+expnum+'_lossvec.csv'\n",
        "labels_filename=path+exp_name+'exp'+expnum+'_labels_test.csv'\n",
        "\n",
        "filenames=[tensor_name, tensor_d_name, omega_name]\n",
        "data_out=[]\n",
        "data_out.append(tensor)\n",
        "data_out.append(tensor_d)\n",
        "data_out.append(omega)\n",
        "\n",
        "for i in range(0,len(filenames)):\n",
        "    out_file=filenames[i]+'.csv'\n",
        "    export_tensor(data_out[i],out_file)\n",
        "np.savetxt(loss_filename, lossvec)\n",
        "np.savetxt(labels_filename, labels)"
      ],
      "execution_count": 0,
      "outputs": []
    },
    {
      "metadata": {
        "colab_type": "text",
        "id": "yeYjwURox9SC"
      },
      "cell_type": "markdown",
      "source": [
        "### Run Code"
      ]
    },
    {
      "metadata": {
        "colab_type": "code",
        "id": "bzsYce8mx9SE",
        "colab": {}
      },
      "cell_type": "code",
      "source": [
        "expnum='3'\n",
        "model_in =   Decoder_3L_6D().cuda()\n",
        "#model_in =   AE_1L50D()\n",
        "print('model loaded as cuda')\n",
        "print(model_in.parameters())\n",
        "optimizer = torch.optim.Adam(model_in.parameters(), lr=LR)\n",
        "train_loss = 0\n",
        "optimizer.zero_grad()\n"
      ],
      "execution_count": 0,
      "outputs": []
    },
    {
      "metadata": {
        "code_folding": [],
        "colab_type": "code",
        "id": "PzwpPsC0x9SH",
        "scrolled": true,
        "colab": {}
      },
      "cell_type": "code",
      "source": [
        "size=len(labels)\n",
        "start_time = time.time()\n",
        "lossvec, lossvec_cnt, model=train_decoder(EPOCH,data,model_in, optimizer,size) \n",
        "print('--- train mins %---')\n",
        "print((time.time() - start_time)/60)\n",
        "######################################\n",
        "\n",
        "###############################################################################################################################\n",
        "## UPDATE\n",
        "print(exp_name)\n",
        "tensor, tensor_d, omega=x_xd_plot_compare(data,model,size)\n"
      ],
      "execution_count": 0,
      "outputs": []
    },
    {
      "metadata": {
        "colab_type": "code",
        "id": "0Q_-AN34x9SK",
        "colab": {}
      },
      "cell_type": "code",
      "source": [
        "# Print model's state_dict\n",
        "print(\"Model's state_dict:\")\n",
        "for param_tensor in model_in.state_dict():\n",
        "    print(param_tensor, \"\\t\", model.state_dict()[param_tensor].size())\n",
        "\n",
        "# Print optimizer's state_dict\n",
        "print(\"Optimizer's state_dict:\")\n",
        "for var_name in optimizer.state_dict():\n",
        "    print(var_name, \"\\t\", optimizer.state_dict()[var_name])\n",
        "    \n",
        "PATH=path+exp_name+'exp'+expnum+'model.pt'\n",
        "torch.save(model_in.state_dict(), PATH)\n",
        "\n",
        "###############################################################################################################################\n",
        "## UPDATE\n",
        "print(exp_name)\n",
        "tensor, tensor_d, omega=x_xd_plot_compare(data,model,size,ae=True)"
      ],
      "execution_count": 0,
      "outputs": []
    },
    {
      "metadata": {
        "colab_type": "code",
        "id": "EJnLVeltx9SO",
        "colab": {}
      },
      "cell_type": "code",
      "source": [
        "tensor_d_name= path+exp_name+'exp'+expnum+'_tensor_d'\n",
        "tensor_name=path+exp_name+'exp'+expnum+'_tensor'\n",
        "omega_name=path+exp_name+'exp'+expnum+'_omega'\n",
        "loss_filename=path+exp_name+'exp'+expnum+'_lossvec.csv'\n",
        "labels_filename=path+exp_name+'exp'+expnum+'_labels_test.csv'\n",
        "\n",
        "filenames=[tensor_name, tensor_d_name, omega_name]\n",
        "data_out=[]\n",
        "data_out.append(tensor)\n",
        "data_out.append(tensor_d)\n",
        "data_out.append(omega)\n",
        "\n",
        "for i in range(0,len(filenames)):\n",
        "    out_file=filenames[i]+'.csv'\n",
        "    export_tensor(data_out[i],out_file)\n",
        "np.savetxt(loss_filename, lossvec)\n",
        "np.savetxt(labels_filename, labels)"
      ],
      "execution_count": 0,
      "outputs": []
    },
    {
      "metadata": {
        "colab_type": "text",
        "id": "kOMwkQXAx9SQ"
      },
      "cell_type": "markdown",
      "source": [
        "### Run Code"
      ]
    },
    {
      "metadata": {
        "colab_type": "code",
        "id": "9eZHoKPPx9SR",
        "colab": {}
      },
      "cell_type": "code",
      "source": [
        "expnum='4'\n",
        "model_in =   Decoder_4L_6D().cuda()\n",
        "#model_in =   AE_1L50D()\n",
        "print('model loaded as cuda')\n",
        "print(model_in.parameters())\n",
        "optimizer = torch.optim.Adam(model_in.parameters(), lr=LR)\n",
        "train_loss = 0\n",
        "optimizer.zero_grad()\n"
      ],
      "execution_count": 0,
      "outputs": []
    },
    {
      "metadata": {
        "code_folding": [],
        "colab_type": "code",
        "id": "5gXSwkjAx9SV",
        "scrolled": true,
        "colab": {}
      },
      "cell_type": "code",
      "source": [
        "size=len(labels)\n",
        "start_time = time.time()\n",
        "lossvec, lossvec_cnt, model=train_decoder(EPOCH,data,model_in, optimizer,size) \n",
        "print('--- train mins %---')\n",
        "print((time.time() - start_time)/60)\n",
        "######################################\n",
        "\n",
        "###############################################################################################################################\n",
        "## UPDATE\n",
        "print(exp_name)\n",
        "tensor, tensor_d, omega=x_xd_plot_compare(data,model,size)\n"
      ],
      "execution_count": 0,
      "outputs": []
    },
    {
      "metadata": {
        "colab_type": "code",
        "id": "mK4B0dGdx9Sa",
        "colab": {}
      },
      "cell_type": "code",
      "source": [
        "# Print model's state_dict\n",
        "print(\"Model's state_dict:\")\n",
        "for param_tensor in model_in.state_dict():\n",
        "    print(param_tensor, \"\\t\", model.state_dict()[param_tensor].size())\n",
        "\n",
        "# Print optimizer's state_dict\n",
        "print(\"Optimizer's state_dict:\")\n",
        "for var_name in optimizer.state_dict():\n",
        "    print(var_name, \"\\t\", optimizer.state_dict()[var_name])\n",
        "    \n",
        "PATH=path+exp_name+'exp'+expnum+'model.pt'\n",
        "torch.save(model_in.state_dict(), PATH)\n",
        "\n",
        "###############################################################################################################################\n",
        "## UPDATE\n",
        "print(exp_name)\n",
        "tensor, tensor_d, omega=x_xd_plot_compare(data,model,size,ae=True)"
      ],
      "execution_count": 0,
      "outputs": []
    },
    {
      "metadata": {
        "colab_type": "code",
        "id": "ajYybPkBx9Sf",
        "colab": {}
      },
      "cell_type": "code",
      "source": [
        "tensor_d_name=path+exp_name+'exp'+expnum+'_tensor_d'\n",
        "tensor_name=path+exp_name+'exp'+expnum+'_tensor'\n",
        "omega_name=path+exp_name+'exp'+expnum+'_omega'\n",
        "loss_filename=path+exp_name+'exp'+expnum+'_lossvec.csv'\n",
        "labels_filename=path+exp_name+'exp'+expnum+'_labels_test.csv'\n",
        "\n",
        "filenames=[tensor_name, tensor_d_name, omega_name]\n",
        "data_out=[]\n",
        "data_out.append(tensor)\n",
        "data_out.append(tensor_d)\n",
        "data_out.append(omega)\n",
        "\n",
        "for i in range(0,len(filenames)):\n",
        "    out_file=filenames[i]+'.csv'\n",
        "    export_tensor(data_out[i],out_file)\n",
        "np.savetxt(loss_filename, lossvec)\n",
        "np.savetxt(labels_filename, labels)"
      ],
      "execution_count": 0,
      "outputs": []
    }
  ]
}